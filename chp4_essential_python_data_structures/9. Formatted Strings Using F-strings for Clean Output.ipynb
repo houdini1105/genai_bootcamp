{
 "cells": [
  {
   "cell_type": "code",
   "execution_count": null,
   "id": "5b64d1b5",
   "metadata": {},
   "outputs": [
    {
     "name": "stdout",
     "output_type": "stream",
     "text": [
      "Hello fromGPT-4!\n",
      "Hello from GPT-4!\n",
      "Total cost for this msg: 0.123\n",
      "Total cost for this msg: 0.12\n"
     ]
    }
   ],
   "source": [
    "# Chp4 Ep9. Formatted Strings Using F-strings for Clean Output\n",
    "# F-strings can combine strings, numbers, calculations in a readable format\n",
    "# F-string allows you to enter the variable or the expression by using {}\n",
    "# Start using a f-string by using f'\n",
    "\n",
    "model_name = 'GPT'\n",
    "version = 4\n",
    "\n",
    "# Method of displaying without using f-string (less readable for complex strings)\n",
    "print('Hello from ' + model_name + '-' + str(version) + '!')\n",
    "\n",
    "# F-string method: Clean, readable, and powerful\n",
    "print(f'Hello from {model_name}-{version}!')\n",
    "\n",
    "token_used = 123\n",
    "cost_per_token = 0.001\n",
    "\n",
    "# Using an expression directly inside an f-string\n",
    "# Note: total_cost here is a string because of the f-string's result\n",
    "total_cost = f'{token_used * cost_per_token}'\n",
    "print(f'Total cost for this msg: {total_cost}')\n",
    "\n",
    "# To display only a certain length of a decimal point, use :.#f (# = the number you enter)\n",
    "# This will format the result of the expression to two decimal places\n",
    "total_cost_formatted = f'{token_used * cost_per_token:.2f}'\n",
    "print(f'Total cost for this msg (formatted): {total_cost_formatted}')\n",
    "\n",
    "# You can also use f-strings to include other types of formatting, like percentages, alignment, etc.\n",
    "percentage = 0.75\n",
    "print(f'Completion: {percentage:.0%}') # Displays as percentage, 0 decimal places\n",
    "\n",
    "price = 123.456\n",
    "print(f'Price: ${price:,.2f}') # Comma for thousands separator, 2 decimal places\n",
    "\n",
    "# You can also use expressions for string manipulation directly\n",
    "first_name = \"john\"\n",
    "last_name = \"doe\"\n",
    "print(f'Full name: {first_name.capitalize()} {last_name.upper()}')"
   ]
  },
  {
   "cell_type": "code",
   "execution_count": null,
   "id": "85b6d7a6",
   "metadata": {},
   "outputs": [],
   "source": []
  }
 ],
 "metadata": {
  "kernelspec": {
   "display_name": "Python 3",
   "language": "python",
   "name": "python3"
  },
  "language_info": {
   "codemirror_mode": {
    "name": "ipython",
    "version": 3
   },
   "file_extension": ".py",
   "mimetype": "text/x-python",
   "name": "python",
   "nbconvert_exporter": "python",
   "pygments_lexer": "ipython3",
   "version": "3.12.7"
  }
 },
 "nbformat": 4,
 "nbformat_minor": 5
}
