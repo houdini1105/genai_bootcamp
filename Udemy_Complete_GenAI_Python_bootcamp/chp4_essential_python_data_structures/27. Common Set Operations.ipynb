{
 "cells": [
  {
   "cell_type": "code",
   "execution_count": 11,
   "id": "716e7ca1",
   "metadata": {},
   "outputs": [
    {
     "name": "stdout",
     "output_type": "stream",
     "text": [
      "<class 'set'> {1, 2, 3}\n",
      "{8, 1, 2, 3}\n",
      "{1, 2, 3}\n",
      "{(1, 2), 1, 2, 3}\n",
      "(1, 2)\n",
      "1\n",
      "2\n",
      "3\n",
      "Not found\n"
     ]
    }
   ],
   "source": [
    "# Chp4 Ep27. Common Set Operations\n",
    "unique_ids = {1, 2, 3, 1} \n",
    "print(type(unique_ids), unique_ids) # Notice 1 only appears once instead of twice\n",
    "# Sets automatically remove duplicate entries\n",
    "\n",
    "# Sets are mutable (unless it is a frozenset)\n",
    "# Use .add() to add an element to the set\n",
    "unique_ids.add(8)\n",
    "print(unique_ids)\n",
    "# Use .remove() to remove an element from the set\n",
    "unique_ids.remove(8)\n",
    "print(unique_ids)\n",
    "# Te elements within the set must be mutable\n",
    "immutable_element = [1, 2]\n",
    "#unique_ids.add(immutable_element) # TypeError: unhashable type: 'list'\n",
    "# THis is because list are immutable even though sets are mutable\n",
    "mutable_element = tuple([1, 2])\n",
    "unique_ids.add(mutable_element)\n",
    "print(unique_ids)\n",
    "# Can iterate over a set with the for loop however the elements will come out in no order\n",
    "for uid in unique_ids:\n",
    "    print(uid)\n",
    "# Check if an element exist in a set can use the in and not in operators\n",
    "if 'token2' in unique_ids:\n",
    "    print('Token found')\n",
    "else:\n",
    "    print('Not found')"
   ]
  },
  {
   "cell_type": "code",
   "execution_count": null,
   "id": "75016589",
   "metadata": {},
   "outputs": [],
   "source": []
  }
 ],
 "metadata": {
  "kernelspec": {
   "display_name": "Python 3",
   "language": "python",
   "name": "python3"
  },
  "language_info": {
   "codemirror_mode": {
    "name": "ipython",
    "version": 3
   },
   "file_extension": ".py",
   "mimetype": "text/x-python",
   "name": "python",
   "nbconvert_exporter": "python",
   "pygments_lexer": "ipython3",
   "version": "3.12.7"
  }
 },
 "nbformat": 4,
 "nbformat_minor": 5
}
