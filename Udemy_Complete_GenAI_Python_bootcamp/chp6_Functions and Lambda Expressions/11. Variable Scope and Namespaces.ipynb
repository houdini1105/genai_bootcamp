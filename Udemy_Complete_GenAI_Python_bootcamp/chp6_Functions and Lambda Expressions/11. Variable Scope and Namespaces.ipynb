{
 "cells": [
  {
   "cell_type": "code",
   "execution_count": null,
   "id": "4967850a",
   "metadata": {},
   "outputs": [
    {
     "name": "stdout",
     "output_type": "stream",
     "text": [
      "99\n",
      "Model accuracy is 95.0%\n",
      "5\n"
     ]
    }
   ],
   "source": [
    "# Chp6 Ep11. Variable Scope and Namespaces\n",
    "# A namespace as a container that holds names for everything we define like variables, functions, or classes.\n",
    "# Each name maps to an object or value in memeory\n",
    "# Namespaces allow us to use the same name in different parts of our code without causing confusion.\n",
    "# Its like a labelmaker for data\n",
    "# Scope refers to the region of your code where a particular name is recongnized.\n",
    "# In python there are 3 namespaces and scopes:\n",
    "# 1) The built-in Namespace: Python built-in functions\n",
    "# 2) the Global (Module Namespace): names defined in scripts\n",
    "# 3) THe local namespace: names defined inside functions\n",
    "\n",
    "# BUilt-IN namespace example\n",
    "scores = [55, 45, 89, 99]\n",
    "print(max(scores)) # max & print are a built in function avaliable globally without any inports\n",
    "\n",
    "# Global namespace example\n",
    "accuracy = 0.95 # This is in the global namespace, can access it inside and outside the function\n",
    "def report_accuracy():\n",
    "    print(f'Model accuracy is {accuracy * 100}%')\n",
    "\n",
    "report_accuracy()\n",
    "\n",
    "# Local namespace example\n",
    "def count_tokens(text):\n",
    "    tokens = len(text.split()) # This variable is local as it only exist within the function\n",
    "    return tokens\n",
    "print(count_tokens('Python makes AI so accessible!'))\n",
    "\n",
    "# The LEGB rule in Python defines the order in which variable names are resolved:\n",
    "# Local(inside the current finction)\n",
    "# Enclosing(in enclosing functions)\n",
    "# Global (at the module level)\n",
    "# Built-in (in Python's built-in namespace)"
   ]
  },
  {
   "cell_type": "code",
   "execution_count": null,
   "id": "776b09fe",
   "metadata": {},
   "outputs": [],
   "source": []
  }
 ],
 "metadata": {
  "kernelspec": {
   "display_name": "Python 3",
   "language": "python",
   "name": "python3"
  },
  "language_info": {
   "codemirror_mode": {
    "name": "ipython",
    "version": 3
   },
   "file_extension": ".py",
   "mimetype": "text/x-python",
   "name": "python",
   "nbconvert_exporter": "python",
   "pygments_lexer": "ipython3",
   "version": "3.12.7"
  }
 },
 "nbformat": 4,
 "nbformat_minor": 5
}
