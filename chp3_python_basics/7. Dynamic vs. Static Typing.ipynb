{
 "cells": [
  {
   "cell_type": "code",
   "execution_count": null,
   "id": "bef4898b",
   "metadata": {},
   "outputs": [
    {
     "name": "stdout",
     "output_type": "stream",
     "text": [
      "<class 'int'>\n"
     ]
    }
   ],
   "source": [
    "# Chp3 Ep7. Dynamic vs. Static Typing\n",
    "# In static typing, the type of a variable is known at compile time, while in dynamic typing, the type is determined at runtime. Python uses dynamic typing, meaning you can change the type of a variable during execution.\n",
    "score = 10 # int\n",
    "print(type(score))  # Output: <class 'int'>\n",
    "score = 'Python'  # Changing type to string\n",
    "print(type(score))  # Output: <class 'str'>"
   ]
  },
  {
   "cell_type": "code",
   "execution_count": null,
   "id": "a7ddf6fa",
   "metadata": {},
   "outputs": [],
   "source": []
  }
 ],
 "metadata": {
  "kernelspec": {
   "display_name": "Python 3",
   "language": "python",
   "name": "python3"
  },
  "language_info": {
   "codemirror_mode": {
    "name": "ipython",
    "version": 3
   },
   "file_extension": ".py",
   "mimetype": "text/x-python",
   "name": "python",
   "nbconvert_exporter": "python",
   "pygments_lexer": "ipython3",
   "version": "3.12.7"
  }
 },
 "nbformat": 4,
 "nbformat_minor": 5
}
