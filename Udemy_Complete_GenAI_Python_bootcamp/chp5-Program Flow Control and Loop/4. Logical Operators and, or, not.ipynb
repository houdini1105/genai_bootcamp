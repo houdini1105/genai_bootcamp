{
 "cells": [
  {
   "cell_type": "code",
   "execution_count": null,
   "id": "f186c1f5",
   "metadata": {},
   "outputs": [
    {
     "name": "stdout",
     "output_type": "stream",
     "text": [
      "You get a discount\n",
      "No discount\n",
      "Discount applied.\n",
      "Please complete profile.\n",
      "Cannot sign up\n"
     ]
    }
   ],
   "source": [
    "# Chp5 Ep4. Logical Operators and, or, not\n",
    "# Logical (Boolean) Operators: and, or, not\n",
    "# A boolean expression is a logical statement that is either True or False.\n",
    "# Logical (Boolean) operators: 1)and 2)or 3)not\n",
    "# The 'and' operator returns True only if both conditions are True.\n",
    "# If any condition using 'and' is False, the entire expression is False.\n",
    "age = 17\n",
    "has_student_id = True\n",
    "if age < 18 and has_student_id: # Use and operator so evaluate if both conditions are True\n",
    "    print('You get a discount') # Both conitions are True which will display this msg\n",
    "else:\n",
    "    print('No discount')\n",
    "# This evaluation is False\n",
    "age = 27\n",
    "has_student_id = True\n",
    "if age < 18 and has_student_id: # Use and operator so evaluate if both conditions are True\n",
    "    print('You get a discount')\n",
    "else:\n",
    "    print('No discount') # One conition is False, so the entire expression is False which will display this msg\n",
    "\n",
    "# The 'or' operator, only one of the conditions needs to be True for the whole expression to evaluate as True\n",
    "# If all conditions are False, the result is False.\n",
    "first_time_user = False # using boolean variable\n",
    "has_promo_code = True # using boolean variable\n",
    "\n",
    "if first_time_user or has_promo_code: # use the or operator for either condition to be True\n",
    "    print('Discount applied.')\n",
    "else:\n",
    "    print('No discount')\n",
    "\n",
    "# The 'not' operator makes a True value False and False True\n",
    "profile_completed = False\n",
    "\n",
    "if not profile_completed:\n",
    "    print('Please complete profile.')\n",
    "else:\n",
    "    print('Profile complete.')\n",
    "\n",
    "# To negate an entire expression, you can use ()\n",
    "age = 16\n",
    "has_parent_consent = True\n",
    "\n",
    "if not (age >= 18 or has_parent_consent): # The expression between () returned True because has_parental_constant is True\n",
    "    print('Cannot sign up')\n",
    "else:\n",
    "    print('You are allowed')"
   ]
  },
  {
   "cell_type": "code",
   "execution_count": null,
   "id": "152247ec",
   "metadata": {},
   "outputs": [],
   "source": []
  }
 ],
 "metadata": {
  "kernelspec": {
   "display_name": "Python 3",
   "language": "python",
   "name": "python3"
  },
  "language_info": {
   "codemirror_mode": {
    "name": "ipython",
    "version": 3
   },
   "file_extension": ".py",
   "mimetype": "text/x-python",
   "name": "python",
   "nbconvert_exporter": "python",
   "pygments_lexer": "ipython3",
   "version": "3.12.7"
  }
 },
 "nbformat": 4,
 "nbformat_minor": 5
}
