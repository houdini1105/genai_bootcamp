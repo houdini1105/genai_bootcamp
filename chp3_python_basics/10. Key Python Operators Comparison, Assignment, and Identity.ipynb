{
 "cells": [
  {
   "cell_type": "code",
   "execution_count": null,
   "id": "1b5693e3",
   "metadata": {},
   "outputs": [
    {
     "ename": "SyntaxError",
     "evalue": "invalid syntax (3764389024.py, line 13)",
     "output_type": "error",
     "traceback": [
      "  \u001b[36mCell\u001b[39m\u001b[36m \u001b[39m\u001b[32mIn[2]\u001b[39m\u001b[32m, line 13\u001b[39m\n\u001b[31m    \u001b[39m\u001b[31mprint(a += 1)\u001b[39m\n            ^\n\u001b[31mSyntaxError\u001b[39m\u001b[31m:\u001b[39m invalid syntax\n"
     ]
    }
   ],
   "source": [
    "# Chp3 Ep10. Key Python Operators Comparison, Assignment, and Identity \n",
    "# Assignment operators are used to assign values to variables.\n",
    "# Equals (=) is the most common assignment operator in Python.\n",
    "a = 5\n",
    "# Plus equals (+=) adds a value to a variable and assigns the result back to that variable.\n",
    "a += 2 # same as a = a + 2 a=7\n",
    "# Minus equals (-=) subtracts a value from a variable and assigns the result back to\n",
    "a -= 4 # same as a = a - 4 a=3...a = 7 from above\n",
    "# Star equals (*=) multiplies a variable by a value and assigns the result back to that variable.\n",
    "a *= 10 # same as a = a * 10 a=30\n",
    "# Slash equals (/=) divides a variable by a value and assigns the result back to that   variable.\n",
    "# In python there is no ++ or -- operator, so you cannot increment or decrement a variable directly.\n",
    "a += 1 # Using this operation with print will raise an error because it is not a valid operation.\n",
    "a -= 1\n",
    "# Double slash equals (//=) performs floor division on a variable by a value and assigns the result back to that variable.\n",
    "# Percent equals (%=) calculates the modulus of a variable by a value and assigns the result back to that variable.\n",
    "# Double star equals (**=) raises a variable to the power of a value and assigns the  result back to that variable.\n"
   ]
  },
  {
   "cell_type": "code",
   "execution_count": 4,
   "id": "bf40cf79",
   "metadata": {},
   "outputs": [
    {
     "name": "stdout",
     "output_type": "stream",
     "text": [
      "False\n",
      "True\n",
      "True\n",
      "True\n",
      "False\n",
      "False\n",
      "False\n"
     ]
    }
   ],
   "source": [
    "# Chp3 Ep10. Key Python Operators Comparison, Assignment, and Identity \n",
    "# Comparison Operators\n",
    "a, b = 10, 5\n",
    "# Equal to (==) checks if two values are equal.\n",
    "print(a == b)  # False, because 10 is not equal to 5\n",
    "# Not equal to (!=) checks if two values are not equal.\n",
    "print(a != b)  # True, because 10 is not equal to 5\n",
    "# Greater than (>) checks if the left value is greater than the right value.\n",
    "print(a > b)   # True, because 10 is greater than 5\n",
    "# Greater than or equal to (>=) checks if the left value is greater than or equal to the right value.\n",
    "print(a >= b)  # True, because 10 is greater than or equal to 5\n",
    "# Less than (<) checks if the left value is less than the right value.\n",
    "print(a < b)   # False, because 10 is not less than 5\n",
    "# Less than or equal to (<=) checks if the left value is less than or equal to the right value.\n",
    "print(a <= b)  # False, because 10 is not less than or equal to 5\n",
    "\n",
    "# Identity Operators\n",
    "# Identity operators are used to compare the memory locations of two objects, they dont compare variable values.\n",
    "# is checks if two variables point to the same object in memory.\n",
    "# is not checks if two variables do not point to the same object in memory.\n",
    "print(a is b)  # False, because a and b are different objects in memory"
   ]
  },
  {
   "cell_type": "code",
   "execution_count": null,
   "id": "87e2f176",
   "metadata": {},
   "outputs": [
    {
     "name": "stdout",
     "output_type": "stream",
     "text": [
      "140708686080472\n",
      "140708686080568\n",
      "1625212308864\n",
      "1625212308864\n"
     ]
    }
   ],
   "source": [
    "# Chp3 Ep10. Key Python Operators Comparison, Assignment, and Identity \n",
    "# Mutability vs Immutability\n",
    "# Mutability refers to the ability of an object to change its state or value after it has been created.\n",
    "# Immutable objects cannot be changed after they are created, while mutable objects can be modified.\n",
    "# Immutable objects include:\n",
    "# - Strings: Once a string is created, its value cannot be changed. Any operation that seems to modify a string actually creates a new string.\n",
    "# - Tuples: Tuples are immutable sequences, meaning their elements cannot be changed after creation\n",
    "# - Frozensets: Frozensets are immutable sets, meaning their elements cannot be changed after creation\n",
    "# Mutable objects include:\n",
    "# - Lists: Lists are mutable sequences, meaning their elements can be changed after creation.\n",
    "# - Dictionaries: Dictionaries are mutable mappings, meaning their key-value pairs can be changed after creation    \n",
    "# - Sets: Sets are mutable collections, meaning their elements can be changed after creation\n",
    "a = 2\n",
    "print(id(a))  # Print the memory address of the integer object 2\n",
    "a += 3\n",
    "print(id(a))  # Print the memory address of the new integer object 5\n",
    "# List objects are mutable, meaning they can be modified in place without changing their memory address.\n",
    "numbers = [1, 2, 3]\n",
    "print(id(numbers))  # Print the memory address of the list object [1, 2, 3]\n",
    "numbers.append(4)  # Append 4 to the list\n",
    "print(id(numbers))  # Print the memory address of the modified list object [1,"
   ]
  },
  {
   "cell_type": "code",
   "execution_count": null,
   "id": "c3cc6db2",
   "metadata": {},
   "outputs": [],
   "source": []
  }
 ],
 "metadata": {
  "kernelspec": {
   "display_name": "Python 3",
   "language": "python",
   "name": "python3"
  },
  "language_info": {
   "codemirror_mode": {
    "name": "ipython",
    "version": 3
   },
   "file_extension": ".py",
   "mimetype": "text/x-python",
   "name": "python",
   "nbconvert_exporter": "python",
   "pygments_lexer": "ipython3",
   "version": "3.12.7"
  }
 },
 "nbformat": 4,
 "nbformat_minor": 5
}
