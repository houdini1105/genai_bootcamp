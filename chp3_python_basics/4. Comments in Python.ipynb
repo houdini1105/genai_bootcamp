{
 "cells": [
  {
   "cell_type": "code",
   "execution_count": null,
   "id": "6d1a0724",
   "metadata": {},
   "outputs": [],
   "source": [
    "# Chp3 Ep4. Comments in python\n",
    "# Comments are used to explain code and make it more readable.\n",
    "# Use # for single line comments. This will not be executed.\n",
    "# Calculating the area of a circle. This is a single line comment\n",
    "radius = 5  # This is a inline comment after a line of code\n",
    "area = 3.14 * radius ** 2  # Area formula: πr² \n",
    "# Do not use triple quotes for single line comments.\n",
    "# Triple quotes are used for multi-line strings or docstrings.\n",
    "# Best practices for writing documents\n",
    "# 1. Be clear and concise.\n",
    "# Bad comment\n",
    "# Incrementing\n",
    "counter += 1  # This is not clear\n",
    "# Good comment\n",
    "# Incrementing the counter by 1 to track the number of iterations\n",
    "counter += 1  # Incrementing the counter by 1 to track the number of iterations\n",
    "# 2. Use comments to explain why, not what.\n",
    "# Bad comment\n",
    "# Set is_active to True\n",
    "is_active = True  # This is not helpful\n",
    "# Good comment\n",
    "# Activate the user account to allow access to the system\n",
    "is_active = True  # Activating the user account to allow access to the system   \n",
    "# 3. Keep comments up to date.\n",
    "# 4. Avoid obvious comments.\n",
    "# 5. Avoid ovreecommenting., delete unused code instead of commenting it out.\n"
   ]
  }
 ],
 "metadata": {
  "kernelspec": {
   "display_name": "Python 3",
   "language": "python",
   "name": "python3"
  },
  "language_info": {
   "name": "python",
   "version": "3.12.7"
  }
 },
 "nbformat": 4,
 "nbformat_minor": 5
}
