{
 "cells": [
  {
   "cell_type": "code",
   "execution_count": 2,
   "id": "a98ce095",
   "metadata": {},
   "outputs": [
    {
     "name": "stdout",
     "output_type": "stream",
     "text": [
      "name => Alice\n",
      "age => 30\n",
      "membership => Premium\n"
     ]
    }
   ],
   "source": [
    "# Chp6 Ep8. Variable-Length Arguments kwargs\n",
    "# **kwargs can use for functions that accept a veriying amount of named arguments\n",
    "def display_user_info(**user_data):\n",
    "    for key, value in user_data.items():\n",
    "        print(f'{key} => {value}')\n",
    "\n",
    "display_user_info(name='Alice', age=30, membership='Premium')"
   ]
  },
  {
   "cell_type": "code",
   "execution_count": null,
   "id": "986673bc",
   "metadata": {},
   "outputs": [],
   "source": []
  }
 ],
 "metadata": {
  "kernelspec": {
   "display_name": "Python 3",
   "language": "python",
   "name": "python3"
  },
  "language_info": {
   "codemirror_mode": {
    "name": "ipython",
    "version": 3
   },
   "file_extension": ".py",
   "mimetype": "text/x-python",
   "name": "python",
   "nbconvert_exporter": "python",
   "pygments_lexer": "ipython3",
   "version": "3.12.7"
  }
 },
 "nbformat": 4,
 "nbformat_minor": 5
}
