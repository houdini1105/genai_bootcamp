{
 "cells": [
  {
   "cell_type": "code",
   "execution_count": 8,
   "id": "169709b6",
   "metadata": {},
   "outputs": [
    {
     "name": "stdout",
     "output_type": "stream",
     "text": [
      "['test', 'ip address 192.168.0.1']\n",
      "##################################################\n",
      "['test\\n', 'ip address 192.168.0.1']\n",
      "##################################################\n",
      "test\n",
      "ip address 192.168.0.1\n",
      "##################################################\n",
      "['test\\n', 'ip address 192.168.0.1']\n",
      "test\n",
      "ip address 192.168.0.1"
     ]
    }
   ],
   "source": [
    "# Chp7 Ep5. Reading Files into a List\n",
    "# List is the most common used data structure and reading the contents of a file into a list is very useful\n",
    "# 1. Read  method with splitlines\n",
    "with open('config.txt') as f:\n",
    "    content = f.read().splitlines() # read method and splitlines method on that string \n",
    "    # that returns a list of lines in the string breaking at line boundries. Line breaks or \\n are not included\n",
    "    print(content)\n",
    "print('#' * 50)\n",
    "# 2. readlines method of the file object\n",
    "with open('config.txt') as f:\n",
    "    content = f.readlines()\n",
    "    print(content)\n",
    "print('#' * 50)\n",
    "# 2b. readline method reads the first line and moves the cursor to the next line\n",
    "with open('config.txt') as f:\n",
    "    print(f.readline(), end='')\n",
    "    # if called again, will return the 2nd line\n",
    "    # An empty line will print by default because it adds a \\n\n",
    "    # To change this, you can add a 2nd argument to the print function, end=''\n",
    "    print(f.readline())\n",
    "print('#' * 50)\n",
    "# 3. To call list of f\n",
    "with open('config.txt') as f:\n",
    "    content = list(f)\n",
    "    print(content)\n",
    "# Since this is a iterable, we can iterate over each object line by line using a for loop\n",
    "# Iterate over the file\n",
    "with open('config.txt') as f:\n",
    "    for line in f:\n",
    "        print(line, end='')"
   ]
  },
  {
   "cell_type": "code",
   "execution_count": 7,
   "id": "61705eda",
   "metadata": {},
   "outputs": [
    {
     "name": "stdout",
     "output_type": "stream",
     "text": [
      "1\n",
      "4\n",
      "7\n"
     ]
    }
   ],
   "source": [
    "for x in range(1, 10, 3):\n",
    "    print(x)"
   ]
  },
  {
   "cell_type": "code",
   "execution_count": null,
   "id": "9135d2dd",
   "metadata": {},
   "outputs": [],
   "source": []
  }
 ],
 "metadata": {
  "kernelspec": {
   "display_name": "Python 3",
   "language": "python",
   "name": "python3"
  },
  "language_info": {
   "codemirror_mode": {
    "name": "ipython",
    "version": 3
   },
   "file_extension": ".py",
   "mimetype": "text/x-python",
   "name": "python",
   "nbconvert_exporter": "python",
   "pygments_lexer": "ipython3",
   "version": "3.12.7"
  }
 },
 "nbformat": 4,
 "nbformat_minor": 5
}
