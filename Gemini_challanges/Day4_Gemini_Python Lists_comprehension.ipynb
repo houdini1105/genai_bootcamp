{
 "cells": [
  {
   "cell_type": "code",
   "execution_count": null,
   "id": "d81d1d11",
   "metadata": {},
   "outputs": [
    {
     "name": "stdout",
     "output_type": "stream",
     "text": [
      "[2, 4, 5]\n",
      "[1, 2, 3, 5]\n",
      "[10, 20, 30, 40, 50]\n",
      "[1512, 1519, 1526, 1533, 1547, 1554, 1561, 1568, 1582, 1589, 1596, 1603, 1617, 1624, 1631, 1638, 1652, 1659, 1666, 1673, 1687, 1694, 1701, 1708, 1722, 1729, 1736, 1743, 1757, 1764, 1771, 1778, 1792, 1799, 1806, 1813, 1827, 1834, 1841, 1848, 1862, 1869, 1876, 1883, 1897, 1904, 1911, 1918, 1932, 1939, 1946, 1953, 1967, 1974, 1981, 1988, 2002, 2009, 2016, 2023, 2037, 2044, 2051, 2058, 2072, 2079, 2086, 2093, 2107, 2114, 2121, 2128, 2142, 2149, 2156, 2163, 2177, 2184, 2191, 2198, 2212, 2219, 2226, 2233, 2247, 2254, 2261, 2268, 2282, 2289, 2296, 2303, 2317, 2324, 2331, 2338, 2352, 2359, 2366, 2373, 2387, 2394, 2401, 2408, 2422, 2429, 2436, 2443, 2457, 2464, 2471, 2478, 2492, 2499, 2506, 2513, 2527, 2534, 2541, 2548, 2562, 2569, 2576, 2583, 2597, 2604, 2611, 2618, 2632, 2639, 2646, 2653, 2667, 2674, 2681, 2688, 2702, 2709, 2716, 2723, 2737, 2744, 2751, 2758, 2772, 2779, 2786, 2793, 2807, 2814, 2821, 2828, 2842, 2849, 2856, 2863, 2877, 2884, 2891, 2898, 2912, 2919, 2926, 2933, 2947, 2954, 2961, 2968, 2982, 2989, 2996, 3003, 3017, 3024, 3031, 3038, 3052, 3059, 3066, 3073, 3087, 3094, 3101, 3108, 3122, 3129, 3136, 3143, 3157, 3164, 3171, 3178, 3192, 3199]\n"
     ]
    }
   ],
   "source": [
    "# Challenge #1\n",
    "# Write a Python script that removes all occurrences of a \n",
    "# given element from a list.\n",
    "l1 = [1, 2, 1, 4, 5, 1]\n",
    "for n in l1: # can use while instead of for\n",
    "    if n in l1:\n",
    "        l1.remove(1)\n",
    "print(l1)\n",
    "\n",
    "# Challenge #2\n",
    "# Create a Python script that removes all the elements of a list that are duplicate.\n",
    "\n",
    "l1 = [1, 2, 1, 1, 2, 3, 1, 5, 3, 5, 1]\n",
    "unique_list = []\n",
    "for item in l1:\n",
    "    if item not in unique_list:\n",
    "        unique_list.append(item)\n",
    "\n",
    "print(unique_list)\n",
    "\n",
    "#Challenge #3\n",
    "# Given the string nums = '10,20,30,40,50', write a Python script that \n",
    "# converts it into a list of integers: [10, 20, 30, 40, 50].\n",
    "nums = '10,20,30,40,50'\n",
    "l1 = []\n",
    "numbers = nums.split(',')\n",
    "for nums in numbers:\n",
    "    numbers = int(nums)\n",
    "    l1.append(numbers)\n",
    "print(l1)\n",
    "\n",
    "# Write a Python script that finds all numbers between 1500 and 3200 \n",
    "# (inclusive) that are divisible by 7 but not multiples of 5.\n",
    "# Print the results as a comma-separated sequence on a single line.\n",
    "l1 = [] # Your list to store the results\n",
    "\n",
    "for nums in range(1500, 3201):\n",
    "    if nums % 7 == 0 and nums % 5 != 0:\n",
    "        l1.append(nums)\n",
    "        \n",
    "string_nums = [str(x) for x in l1]\n",
    "final = ','.join(string_nums)\n",
    "print(final)\n",
    "\n",
    "# Challenge #5\n",
    "# Write a program that prompts the user for a string containing \n",
    "# multiple words separated by spaces and prints the words in reverse order.\n",
    "# Example:\n",
    "# Input: \"My name is Andrei\"\n",
    "# Output: \"Andrei is name My\"\n",
    "sentence = input('Enter a sentence')\n",
    "split_sent = sentence.split()\n",
    "rev_sent = split_sent[::-1]\n",
    "result = ' '.join(rev_sent)\n",
    "print(result)\n",
    "\n",
    "# Write a Python program that takes a hyphen-separated sequence \n",
    "# of words as input and prints them in alphabetical order, \n",
    "# maintaining the hyphen separation.\n",
    "# Example:\n",
    "# Input: \"green-red-yellow-black-white\"\n",
    "# Output: \"black-green-red-white-yellow\"\n",
    "sentence = input('Enter a hyphen sentence')\n",
    "split_sent = sentence.split('-')\n",
    "sort_sent = sorted(split_sent)\n",
    "result = '-'.join(sort_sent)\n",
    "print(result)\n",
    "\n",
    "\n",
    "# Challenge #7\n",
    "# Write a Python program that takes a sequence of words separated \n",
    "# by spaces and prints the words with their letters reversed. \n",
    "# Do not use list comprehension.\n",
    "# Example:\n",
    "# Input: \"I love cats and dogs\"\n",
    "# Output: \"I evol stac dna sgod\"\n",
    "words = input('Enter a sentence:')\n",
    "combined_words = []\n",
    "split_words = words.split(' ')\n",
    "for each_word in split_words:\n",
    "    rev_words = each_word[::-1]\n",
    "    combined_words.append(rev_words)\n",
    "\n",
    "result = ' '.join(combined_words)\n",
    "print(result)\n",
    "\n",
    "# Challenge #8\n",
    "# Modify the previous challenge by using list comprehension instead.\n",
    "print(' '.join([word[::-1] for word in input('Enter a sentence:').split(' ')]))\n",
    "\n",
    "words = input('Enter a sentence:')\n",
    "split_words = words.split(' ')\n",
    "list_comp = [word[::-1] for word in split_words]\n",
    "result = ' '.join(list_comp)\n",
    "print(result)\n",
    "\n",
    "# Challenge #9\n",
    "# Given a list of words, write a Python script that generates a list of tuples where each tuple contains a word and its length. Use list comprehension if possible.\n",
    "# Sample List: words = ['Python', 'Java', 'C++', 'Golang', 'Solidity', 'Bash']\n",
    "# Expected Result: [('Python', 6), ('Java', 4), ('C++', 3), ('Golang', 6), ('Solidity', 8), ('Bash', 4)]"
   ]
  },
  {
   "cell_type": "code",
   "execution_count": null,
   "id": "2f14473e",
   "metadata": {},
   "outputs": [
    {
     "name": "stdout",
     "output_type": "stream",
     "text": [
      "['I', 'evol', 'stac']\n"
     ]
    }
   ],
   "source": [
    "# 8. Challenge #7 Related (Reversing Letters within Words): \n",
    "# You have sentence_words = ['I', 'love', 'cats']. \n",
    "# You want a new list where letters within each word are reversed.\n",
    "# * a. What is the iterable?\n",
    "sentence_words = ['I', 'love', 'cats']\n",
    "rev_word = [word[::-1] for word in sentence_words]\n",
    "print(rev_word)"
   ]
  },
  {
   "cell_type": "code",
   "execution_count": 31,
   "id": "1b26bd3f",
   "metadata": {},
   "outputs": [
    {
     "name": "stdout",
     "output_type": "stream",
     "text": [
      "[('Python', 6), ('Java', 4)]\n"
     ]
    }
   ],
   "source": [
    "# 9. Challenge #9 Related (Word and Length Tuples): \n",
    "# You have data_words = ['Python', 'Java'].\n",
    "#  You want a list like [('Python', 6), ('Java', 4)].\n",
    "# * a. What is the iterable?\n",
    "# * b. What is the item?\n",
    "# * c. What is the expression?\n",
    "data_words = ['Python', 'Java']\n",
    "new = [(word, len(word)) for word in data_words]\n",
    "print(new)"
   ]
  },
  {
   "cell_type": "code",
   "execution_count": 33,
   "id": "13aaf77b",
   "metadata": {},
   "outputs": [
    {
     "name": "stdout",
     "output_type": "stream",
     "text": [
      "['1', '2', '3']\n"
     ]
    }
   ],
   "source": [
    "# Part 3: Analyze and Correct (Conceptual & Application)\n",
    "# Instructions: For the following scenarios and \n",
    "# list comprehension attempts, identify any issues with the \n",
    "# iterable, item, or expression based on the given goal.\n",
    "# Goal: Convert all numbers in data = [1, 2, 3] to strings.\n",
    "# Attempt: [str(data) for item in data]\n",
    "# Issue: What is wrong with the expression in relation to the item?\n",
    "data = [1, 2, 3]\n",
    "new = [str(item) for item in data]\n",
    "print(new)"
   ]
  },
  {
   "cell_type": "code",
   "execution_count": 35,
   "id": "b4ee0c6c",
   "metadata": {},
   "outputs": [
    {
     "name": "stdout",
     "output_type": "stream",
     "text": [
      "['a', 'b']\n"
     ]
    }
   ],
   "source": [
    "# Part 3: Analyze and Correct (Conceptual & Application)\n",
    "# Goal: Get the first letter of each word in my_words = [\"apple\", \"banana\"].\n",
    "# Attempt: [my_words[0] for my_words in my_words]\n",
    "# Issue: What is wrong with the item definition and the expression's use of it?\n",
    "my_words = [\"apple\", \"banana\"]\n",
    "first = [x[0] for x in my_words]\n",
    "print(first)"
   ]
  },
  {
   "cell_type": "code",
   "execution_count": 38,
   "id": "37ed0f82",
   "metadata": {},
   "outputs": [
    {
     "name": "stdout",
     "output_type": "stream",
     "text": [
      "[1, 4, 9, 16]\n",
      "[0, 1, 4, 9, 16]\n"
     ]
    }
   ],
   "source": [
    "# Part 3: Analyze and Correct (Conceptual & Application)\n",
    "# Goal: Create a list of the squares of numbers from 0 to 4.\n",
    "# Attempt: [x * x for x in 5]\n",
    "# Issue: What is wrong with the iterable?\n",
    "nums = [1, 2, 3, 4]\n",
    "square = [x * x for x in nums]\n",
    "print(square)\n",
    "\n",
    "# Instead use a range\n",
    "square = [x * x for x in range(5)]\n",
    "print(square)"
   ]
  },
  {
   "cell_type": "code",
   "execution_count": 51,
   "id": "ee25e6f0",
   "metadata": {},
   "outputs": [
    {
     "name": "stdout",
     "output_type": "stream",
     "text": [
      "olleh dlrow\n"
     ]
    }
   ],
   "source": [
    "# Goal: Reverse the letters of words from an input sentence \n",
    "# sentence = \"hello world\".\n",
    "# Attempt: [sentence[::-1] for char in sentence]\n",
    "# Issue: What is the iterable incorrectly iterating over, \n",
    "# and how does that affect the expression's result?\n",
    "sentence = \"hello world\"\n",
    "# Step 1: Get the iterable of words\n",
    "words_list = sentence.split() # ['hello', 'world']\n",
    "\n",
    "# Step 2: Use list comprehension to reverse letters in each word\n",
    "reversed_words = [word[::-1] for word in words_list]\n",
    "\n",
    "# To get the final string like \"olleh dlrow\"\n",
    "final_string = ' '.join(reversed_words)\n",
    "print(final_string)"
   ]
  },
  {
   "cell_type": "code",
   "execution_count": 54,
   "id": "202bf9f2",
   "metadata": {},
   "outputs": [
    {
     "name": "stdout",
     "output_type": "stream",
     "text": [
      "[3, 3, 4, 5]\n"
     ]
    }
   ],
   "source": [
    "# Goal: Get a list of the lengths of words from \n",
    "# some_words = [\"cat\", \"dog\", \"bird\"].\n",
    "# Attempt: [len(some_words) for word in some_words]\n",
    "# Issue: What is wrong with the expression?\n",
    "some_words = [\"cat\", \"dog\", \"bird\", \"gator\"]\n",
    "attempt = [len(word) for word in some_words]\n",
    "print(attempt)"
   ]
  },
  {
   "cell_type": "code",
   "execution_count": null,
   "id": "c1de43c4",
   "metadata": {},
   "outputs": [
    {
     "name": "stdout",
     "output_type": "stream",
     "text": [
      "[2, 4, 6, 8, 10]\n"
     ]
    }
   ],
   "source": [
    "# Challenge #10: Filter Even Numbers\n",
    "# Given a list of integers, create a new list containing only the even numbers.\n",
    "numbers = [1, 2, 3, 4, 5, 6, 7, 8, 9, 10]  \n",
    "new = [x for x in numbers if x % 2 == 0]\n",
    "print(new)\n"
   ]
  },
  {
   "cell_type": "code",
   "execution_count": 64,
   "id": "631d4b76",
   "metadata": {},
   "outputs": [
    {
     "name": "stdout",
     "output_type": "stream",
     "text": [
      "['banana', 'grapefruit', 'orange']\n"
     ]
    }
   ],
   "source": [
    "# Challenge #11: Words Longer Than Five\n",
    "# Given a list of words, create a new list containing only \n",
    "# the words that have a length greater than 5.\n",
    "# Sample Input: words = ['apple', 'banana', 'kiwi', 'grapefruit', 'orange']\n",
    "# Expected Result: ['banana', 'grapefruit', 'orange']\n",
    "words = ['apple', 'banana', 'kiwi', 'grapefruit', 'orange']\n",
    "test = [w for w in words if len(w) > 5]\n",
    "print(test)"
   ]
  },
  {
   "cell_type": "code",
   "execution_count": 66,
   "id": "e19ee920",
   "metadata": {},
   "outputs": [
    {
     "name": "stdout",
     "output_type": "stream",
     "text": [
      "['RED', 'GREEN', 'BLUE', 'YELLOW']\n"
     ]
    }
   ],
   "source": [
    "# Challenge #12: Convert to Uppercase\n",
    "# Given a list of strings, convert all strings to uppercase.\n",
    "# Sample Input: colors = ['red', 'green', 'blue', 'yellow']\n",
    "# Expected Result: ['RED', 'GREEN', 'BLUE', 'YELLOW']\n",
    "colors = ['red', 'green', 'blue', 'yellow']\n",
    "up_case = [x.upper() for x in colors]\n",
    "print(up_case)"
   ]
  },
  {
   "cell_type": "code",
   "execution_count": 67,
   "id": "4e1098c8",
   "metadata": {},
   "outputs": [
    {
     "name": "stdout",
     "output_type": "stream",
     "text": [
      "[32.0, 50.0, 68.0, 86.0, 104.0]\n"
     ]
    }
   ],
   "source": [
    "# Challenge #13: Celsius to Fahrenheit\n",
    "# Given a list of temperatures in Celsius, convert \n",
    "# them to Fahrenheit. The formula is: F=(C\n",
    "# times9/5)+32.\n",
    "# Sample Input: celsius_temps = [0, 10, 20, 30, 40]\n",
    "# Expected Result: [32.0, 50.0, 68.0, 86.0, 104.0]\n",
    "celsius_temps = [0, 10, 20, 30, 40]\n",
    "conversion = [c * 9/5 + 32 for c in celsius_temps]\n",
    "print(conversion)"
   ]
  },
  {
   "cell_type": "code",
   "execution_count": 73,
   "id": "ed602e8a",
   "metadata": {},
   "outputs": [
    {
     "name": "stdout",
     "output_type": "stream",
     "text": [
      "[1, 2, 3, 4, 5, 6, 7, 8, 9]\n"
     ]
    }
   ],
   "source": [
    "# Challenge #14: Flatten a List of Lists\n",
    "# Given a list containing several sub-lists, \n",
    "# create a single, flat list containing all elements from the sub-lists.\n",
    "# Sample Input: nested_list = [[1, 2, 3], [4, 5], [6, 7, 8, 9]]\n",
    "# Expected Result: [1, 2, 3, 4, 5, 6, 7, 8, 9]\n",
    "nested_list = [[1, 2, 3], [4, 5], [6, 7, 8, 9]]\n",
    "new_list = [y for x in nested_list for y in x]\n",
    "print(new_list)"
   ]
  },
  {
   "cell_type": "code",
   "execution_count": 79,
   "id": "7e0fb11f",
   "metadata": {},
   "outputs": [
    {
     "name": "stdout",
     "output_type": "stream",
     "text": [
      "['u', 'e', 'a']\n"
     ]
    }
   ],
   "source": [
    "# Challenge #15: Extract Vowels\n",
    "# Given a string, create a list containing only the \n",
    "# lowercase vowels present in the string (duplicates are allowed).\n",
    "# Sample Input: text = \"Programming Is Fun\"\n",
    "# Expected Result: ['o', 'a', 'i', 'i', 'u']\n",
    "text = input('Enter a sentence:')\n",
    "vowels = 'aeiou'\n",
    "output = [w.lower() for w in text if w.lower() in vowels]\n",
    "print(output)"
   ]
  },
  {
   "cell_type": "code",
   "execution_count": 82,
   "id": "12e87453",
   "metadata": {},
   "outputs": [
    {
     "name": "stdout",
     "output_type": "stream",
     "text": [
      "['0-apple', '1-banana', '2-cherry']\n"
     ]
    }
   ],
   "source": [
    "# Challenge #16: Add Index as Prefix\n",
    "# Given a list of items, create a new list where each item is \n",
    "# prefixed with its 0-based index, separated by a hyphen.\n",
    "# Sample Input: items = ['apple', 'banana', 'cherry']\n",
    "# Expected Result: ['0-apple', '1-banana', '2-cherry']\n",
    "# Hint: You will need to use enumerate() to get both the index and the\n",
    "#  item simultaneously during iteration.\n",
    "items = ['apple', 'banana', 'cherry']\n",
    "add_index = [f\"{str(idx)}-{idv}\" for idx, idv in enumerate(items)]\n",
    "print(add_index)"
   ]
  },
  {
   "cell_type": "code",
   "execution_count": null,
   "id": "e2e46d56",
   "metadata": {},
   "outputs": [],
   "source": [
    "# Challenge #17: Conditional Status\n",
    "# Given a list of numbers, create a new list where each number is \n",
    "# replaced by the string \"High\" if it's greater than 100, and \"Low\" otherwise.\n",
    "# Sample Input: scores = [95, 120, 88, 101, 75]\n",
    "# Expected Result: ['Low', 'High', 'Low', 'High', 'Low']\n",
    "\n",
    "# Challenge #18: Filter and Transform Numbers\n",
    "# Given a list of numbers, create a new list that only includes \n",
    "# numbers divisible by 3, and for those numbers, square them.\n",
    "# Sample Input: numbers = [1, 2, 3, 4, 5, 6, 7, 8, 9, 10]\n",
    "# Expected Result: [9, 36, 81]\n",
    "\n",
    "# Challenge #19: Remove Non-Alphabetic Characters\n",
    "# Given a string, create a list containing only the alphabetic \n",
    "# characters from the string.\n",
    "# Sample Input: text = \"Python123IsCool!\"\n",
    "# Expected Result: ['P', 'y', 't', 'h', 'o', 'n', 'I', 's', 'C', 'o', 'o', 'l']"
   ]
  },
  {
   "cell_type": "code",
   "execution_count": 86,
   "id": "68dc28bb",
   "metadata": {},
   "outputs": [
    {
     "name": "stdout",
     "output_type": "stream",
     "text": [
      "['Low', 'High', 'Low', 'High', 'Low']\n"
     ]
    }
   ],
   "source": [
    "# Challenge #17: Conditional Status\n",
    "# Given a list of numbers, create a new list where each number is \n",
    "# replaced by the string \"High\" if it's greater than 100, and \"Low\" otherwise.\n",
    "# Sample Input: scores = [95, 120, 88, 101, 75]\n",
    "# Expected Result: ['Low', 'High', 'Low', 'High', 'Low']\n",
    "scores = [95, 120, 88, 101, 75]\n",
    "high_low = ['High' if n > 100 else 'Low' for n in scores]\n",
    "print(high_low)"
   ]
  },
  {
   "cell_type": "code",
   "execution_count": 90,
   "id": "ccbb6f36",
   "metadata": {},
   "outputs": [
    {
     "name": "stdout",
     "output_type": "stream",
     "text": [
      "[9, 36, 81]\n"
     ]
    }
   ],
   "source": [
    "# Challenge #18: Filter and Transform Numbers\n",
    "# Given a list of numbers, create a new list that only \n",
    "# includes numbers divisible by 3, and for those numbers, square them.\n",
    "# Sample Input: numbers = [1, 2, 3, 4, 5, 6, 7, 8, 9, 10]\n",
    "# Expected Result: [9, 36, 81]\n",
    "numbers = [1, 2, 3, 4, 5, 6, 7, 8, 9, 10]\n",
    "final_output = [n**2 for n in numbers if n % 3 == 0]\n",
    "print(final_output)"
   ]
  },
  {
   "cell_type": "code",
   "execution_count": 94,
   "id": "59af0f3c",
   "metadata": {},
   "outputs": [
    {
     "name": "stdout",
     "output_type": "stream",
     "text": [
      "['P', 'y', 't', 'h', 'o', 'n', 'I', 's', 'C', 'o', 'o', 'l']\n"
     ]
    }
   ],
   "source": [
    "# Challenge #19: Remove Non-Alphabetic Characters\n",
    "# Given a string, create a list containing only the alphabetic \n",
    "# characters from the string.\n",
    "# Sample Input: text = \"Python123IsCool!\"\n",
    "# Expected Result: ['P', 'y', 't', 'h', 'o', 'n', 'I', 's', 'C', 'o', 'o', 'l']\n",
    "text = \"Python123IsCool!\"\n",
    "string_without_numbers = [char for char in text if char.isalpha()]\n",
    "print(string_without_numbers)"
   ]
  },
  {
   "cell_type": "code",
   "execution_count": null,
   "id": "be793788",
   "metadata": {},
   "outputs": [],
   "source": [
    "# Challenge #20: Extract Only Digits\n",
    "# Given a string containing letters, numbers, and symbols, create a list containing only the numeric digits (as strings).\n",
    "# Sample Input: mixed_string = \"abc123def45!@#\"\n",
    "# Expected Result: ['1', '2', '3', '4', '5']\n",
    "mixed_string = \"abc123def45!@#\"\n",
    "result = [num for num in mixed_string if num.isnumeric()]\n",
    "print(result)"
   ]
  },
  {
   "cell_type": "code",
   "execution_count": 96,
   "id": "f56d1a0e",
   "metadata": {},
   "outputs": [
    {
     "name": "stdout",
     "output_type": "stream",
     "text": [
      "['100px', '25px', '75px', '150px']\n"
     ]
    }
   ],
   "source": [
    "# Challenge #21: Add 'px' Suffix\n",
    "# Given a list of numbers (representing pixel values), \n",
    "# create a new list where each number is converted to a string \n",
    "# and has the suffix \"px\" added to it.\n",
    "# Sample Input: pixel_values = [100, 25, 75, 150]\n",
    "# Expected Result: ['100px', '25px', '75px', '150px']\n",
    "pixel_values = [100, 25, 75, 150]\n",
    "suffix = 'px'\n",
    "completed = [str(x) + suffix for x in pixel_values]\n",
    "print(completed)"
   ]
  },
  {
   "cell_type": "code",
   "execution_count": 98,
   "id": "1cecf46d",
   "metadata": {},
   "outputs": [
    {
     "name": "stdout",
     "output_type": "stream",
     "text": [
      "['level', 'madam', 'noon']\n"
     ]
    }
   ],
   "source": [
    "# Challenge #22: Identify Palindromes\n",
    "# Given a list of words, create a new list containing only \n",
    "# the words that are palindromes (words that read the same forwards and backward).\n",
    "# Sample Input: word_list = [\"level\", \"hello\", \"madam\", \"world\", \"noon\"]\n",
    "# Expected Result: [\"level\", \"madam\", \"noon\"]\n",
    "word_list = [\"level\", \"hello\", \"madam\", \"world\", \"noon\"]\n",
    "palin = [z for z in word_list if z == z[::-1]]\n",
    "print(palin)"
   ]
  },
  {
   "cell_type": "code",
   "execution_count": 99,
   "id": "7db39310",
   "metadata": {},
   "outputs": [
    {
     "name": "stdout",
     "output_type": "stream",
     "text": [
      "[5, 10, 2]\n"
     ]
    }
   ],
   "source": [
    "# Challenge #23: Positive Numbers Only\n",
    "# Given a list of integers (which may include positive, \n",
    "# negative, and zero), create a new list containing only the positive numbers.\n",
    "# Sample Input: numbers = [-3, 0, 5, -1, 10, 0, 2]\n",
    "# Expected Result: [5, 10, 2]\n",
    "numbers = [-3, 0, 5, -1, 10, 0, 2]\n",
    "pos_nums = [n for n in numbers if n > 0]\n",
    "print(pos_nums)"
   ]
  },
  {
   "cell_type": "code",
   "execution_count": 113,
   "id": "c859dabf",
   "metadata": {},
   "outputs": [
    {
     "name": "stdout",
     "output_type": "stream",
     "text": [
      "[0, 20, 60, 120]\n"
     ]
    }
   ],
   "source": [
    "# Challenge #24: Multiply by Index\n",
    "# Given a list of numbers, create a new list where each number is \n",
    "# multiplied by its 0-based index.\n",
    "# Sample Input: values = [10, 20, 30, 40]\n",
    "# Expected Result: [0, 20, 60, 120] (because 10\n",
    "# times0=0, 20\n",
    "# times1=20, 30\n",
    "# times2=60, 40\n",
    "# times3=120)\n",
    "values = [10, 20, 30, 40]\n",
    "fin_out = [idx * idv for idx, idv in enumerate(values)]\n",
    "print(fin_out)"
   ]
  },
  {
   "cell_type": "code",
   "execution_count": 13,
   "id": "900c6beb",
   "metadata": {},
   "outputs": [
    {
     "name": "stdout",
     "output_type": "stream",
     "text": [
      "['hello', 'world', ' ', 'python']\n"
     ]
    }
   ],
   "source": [
    "# Challenge #25: Identify Non-Empty Strings\n",
    "# Given a list of strings, create a new list containing \n",
    "# only the strings that are not empty.\n",
    "# Sample Input: strings = [\"hello\", \"\", \"world\", \" \", \"python\", \"\"]\n",
    "# Expected Result: [\"hello\", \"world\", \" \", \"python\"]\n",
    "strings = [\"hello\", \"\", \"world\", \" \", \"python\", \"\"]\n",
    "not_empty = [w for w in strings if w]\n",
    "print(not_empty)"
   ]
  },
  {
   "cell_type": "code",
   "execution_count": null,
   "id": "e718b437",
   "metadata": {},
   "outputs": [],
   "source": []
  }
 ],
 "metadata": {
  "kernelspec": {
   "display_name": "Python 3",
   "language": "python",
   "name": "python3"
  },
  "language_info": {
   "codemirror_mode": {
    "name": "ipython",
    "version": 3
   },
   "file_extension": ".py",
   "mimetype": "text/x-python",
   "name": "python",
   "nbconvert_exporter": "python",
   "pygments_lexer": "ipython3",
   "version": "3.12.7"
  }
 },
 "nbformat": 4,
 "nbformat_minor": 5
}
