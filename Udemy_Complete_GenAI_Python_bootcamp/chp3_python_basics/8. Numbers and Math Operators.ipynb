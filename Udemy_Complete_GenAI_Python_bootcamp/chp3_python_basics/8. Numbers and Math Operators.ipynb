{
 "cells": [
  {
   "cell_type": "code",
   "execution_count": null,
   "id": "bac049ba",
   "metadata": {},
   "outputs": [
    {
     "name": "stdout",
     "output_type": "stream",
     "text": [
      "10\n",
      "6\n",
      "16\n",
      "4.0\n",
      "5\n",
      "8\n",
      "3\n",
      "34\n",
      "48\n"
     ]
    }
   ],
   "source": [
    "# Chp3 Ep8. Numbers_and_math_operators\n",
    "# An operator is a symbol that performs an operation on one or more operands. In Python, operators are used to perform operations on variables and values. Python supports various types of operators, including arithmetic, comparison, logical, assignment, bitwise, identity, membership, and more.\n",
    "# In Python, numbers can be integers, floats, or complex numbers. You can perform arithmetic\n",
    "# operations like addition, subtraction, multiplication, and division using the respective operators. Python also supports operator precedence, which determines the order in which operations are performed.\n",
    "# Numbers and math operators in Python are fundamental concepts that allow you to perform calculations and manipulate numerical data. Python provides a rich set of built-in functions and operators for working with numbers, making it easy to perform mathematical operations.\n",
    "# Addition (+) and Subtraction (-):\n",
    "print(8 + 2)  # Addition\n",
    "print(8 - 2)  # Subtraction\n",
    "# Multiplication (*)\n",
    "print(8 * 2)  # Multiplication\n",
    "# Division (/):\n",
    "print(8 / 2)  # Division (returns a float)\n",
    "# Floor Division (//): Returns int result by discarding the remainder\n",
    "# Floor division is used to divide two numbers and return the largest integer less than or equal to the result.\n",
    "print(11 // 2)  # Floor Division (returns an integer)\n",
    "# Exponentiation (**): Raises a number to the power of another\n",
    "print(2 ** 3)  # Exponentiation (2 raised to the power of 3)\n",
    "# Modulus (%): Returns the remainder of a division operation\n",
    "print(8 % 5)  # Modulus (returns the remainder of 8 divided by 5)\n",
    "# Order of Operations: Exponentiation, Multiplication/Division, Addition/Subtraction\n",
    "print(2 + 4 * 2 **3)  # Order of operations: 2 + (4 * (2 ** 3))\n",
    "# 2 ** 3 = 8, 4 * 8 = 32, 2 + 32 = 34\n",
    "# Parentheses can be used to change the order of operations\n",
    "print((2 + 4) * 2 **3)\n",
    "# 2 ** 3 = 8, (2 + 4) = 6, 6 * 8 = 48\n",
    "# For large numbers, can use underscores for readability\n",
    "print(1_000_000)  # One million with underscores for readability"
   ]
  },
  {
   "cell_type": "code",
   "execution_count": null,
   "id": "7dc6fb41",
   "metadata": {},
   "outputs": [],
   "source": []
  }
 ],
 "metadata": {
  "kernelspec": {
   "display_name": "Python 3",
   "language": "python",
   "name": "python3"
  },
  "language_info": {
   "codemirror_mode": {
    "name": "ipython",
    "version": 3
   },
   "file_extension": ".py",
   "mimetype": "text/x-python",
   "name": "python",
   "nbconvert_exporter": "python",
   "pygments_lexer": "ipython3",
   "version": "3.12.7"
  }
 },
 "nbformat": 4,
 "nbformat_minor": 5
}
