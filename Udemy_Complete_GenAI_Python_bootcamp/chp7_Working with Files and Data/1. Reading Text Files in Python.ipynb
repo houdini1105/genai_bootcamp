{
 "cells": [
  {
   "cell_type": "code",
   "execution_count": null,
   "id": "8e0f8c2d",
   "metadata": {},
   "outputs": [
    {
     "name": "stdout",
     "output_type": "stream",
     "text": [
      "test\n",
      "ip address 192.168.0.1\n",
      "False\n",
      "True\n"
     ]
    }
   ],
   "source": [
    "# Chp7 Ep1. Reading Text Files in Python\n",
    "# Opening and Reading Files no need to import a specific model, its handled native in the language\n",
    "# Built-in function open() that opens a file and returns a file object\n",
    "# Example\n",
    "f = open('config.txt') # This line of code creates a file object called f, this \n",
    "# file object contains methods and other attributes that can be used to modify the file you have opened\n",
    "# Use a valid absolute or realitive path accroding to O.S.\n",
    "# An invalid path is the most common mistakes\n",
    "#The 2nd argument which is optional is called access mode and indicates how the file will be opened\n",
    "# The most common used modes are read, write, append\n",
    "f = open('config.txt', 'r') # r is the second argument in read only mode\n",
    "# r is default mode (read only)\n",
    "# There are 2 types of files 1) Text files 2) Binary Files\n",
    "# Text files are structures as a sequence of lines, where each line includes\n",
    "#a sequence of characters that are encoded by default using the UTF-8 encoding scheme.\n",
    "#each line is terminated with a special character, called EOL. THis is coded by using \\n.\n",
    "# Binary files are any type of file that is not a text file. Binary files can only\n",
    "#be processed by an application that knows and understands the structure of the file.\n",
    "# When opening a file using the open function, use t for the 2nd argument text mode\n",
    "#or b to open the file in binary mode.\n",
    "f = open('config.txt', 'rt') # read only in text mode argument\n",
    "# By default it will open as a text file\n",
    "# The file has been opened so now need to read the content of the text file and print it\n",
    "content = f.read() # The first method is read(). It reads and returns the contents as a string\n",
    "print(content)\n",
    "# Close the file\n",
    "print(f.closed) # The attribute of the file object called closed which will return True of False\n",
    "f.close() # use close() to close file\n",
    "print(f.closed)"
   ]
  },
  {
   "cell_type": "code",
   "execution_count": null,
   "id": "4782e67a",
   "metadata": {},
   "outputs": [],
   "source": []
  }
 ],
 "metadata": {
  "kernelspec": {
   "display_name": "Python 3",
   "language": "python",
   "name": "python3"
  },
  "language_info": {
   "codemirror_mode": {
    "name": "ipython",
    "version": 3
   },
   "file_extension": ".py",
   "mimetype": "text/x-python",
   "name": "python",
   "nbconvert_exporter": "python",
   "pygments_lexer": "ipython3",
   "version": "3.12.7"
  }
 },
 "nbformat": 4,
 "nbformat_minor": 5
}
