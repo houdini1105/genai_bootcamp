{
 "cells": [
  {
   "cell_type": "code",
   "execution_count": null,
   "id": "d62b6dfd",
   "metadata": {},
   "outputs": [
    {
     "name": "stdout",
     "output_type": "stream",
     "text": [
      "AI is future technology Prompt too short. Try again.\n",
      "Prompt too short. Try again.\n",
      "Processing your prompt genai\n"
     ]
    }
   ],
   "source": [
    "# Chp5 Ep12. Smart Looping Techniques continue and pass\n",
    "# Smart looping techniques: continue, pass, break\n",
    "# The for loop is powerful for iterating over data but what if you want to skip certain items without breaking out of the loop entirely.\n",
    "# Continue is used for this action\n",
    "sent = \"AI is the future of technology\"\n",
    "for word in sent.split(): # splitting the string in a list using the space as a delimeter\n",
    "    if word in ['the', 'in', 'of']:\n",
    "        continue # skip this current iteration and move to the next one\n",
    "    print(word, end=\" \") # end=\"\" will make print not add \\n\n",
    "\n",
    "while True:\n",
    "    prompt = input('Enter a model:')\n",
    "    if len(prompt) < 5:\n",
    "        print('Prompt too short. Try again.')\n",
    "        continue # Common mistakes are placing it incorrectly.\n",
    "    print(f'Processing your prompt {prompt}')\n",
    "    break # will exit the while loop after a valid prompt\n",
    "\n",
    "# pass is a placeholder tht does nothing often used when structuring code but not yet implementing logic\n",
    "# Think of it as a to do marker in the code\n",
    "for model in range(5):\n",
    "    pass # placeholder while finalize the setup\n"
   ]
  },
  {
   "cell_type": "code",
   "execution_count": null,
   "id": "bd63330f",
   "metadata": {},
   "outputs": [],
   "source": []
  }
 ],
 "metadata": {
  "kernelspec": {
   "display_name": "Python 3",
   "language": "python",
   "name": "python3"
  },
  "language_info": {
   "codemirror_mode": {
    "name": "ipython",
    "version": 3
   },
   "file_extension": ".py",
   "mimetype": "text/x-python",
   "name": "python",
   "nbconvert_exporter": "python",
   "pygments_lexer": "ipython3",
   "version": "3.12.7"
  }
 },
 "nbformat": 4,
 "nbformat_minor": 5
}
