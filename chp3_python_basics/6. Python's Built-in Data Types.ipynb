{
 "cells": [
  {
   "cell_type": "code",
   "execution_count": null,
   "id": "5898720e",
   "metadata": {},
   "outputs": [
    {
     "name": "stdout",
     "output_type": "stream",
     "text": [
      "True\n",
      "False\n"
     ]
    }
   ],
   "source": [
    "# 6. Python's Built-in Data Types\n",
    "# 1. Numbers: int, float\n",
    "age = 40\n",
    "height = 5.9\n",
    "# 2. Booleans: logical values, True or False\n",
    "# Boolean values always start with a capital letter\n",
    "print(age == 40)  # True\n",
    "print(age < 30)  # False\n",
    "# 3. None: represents the absence of a value\n",
    "# 4. Strings: sequence of characters, stored in UTF-8 encoding\n",
    "model_name = 'Gemini'\n",
    "# 5. Lists: ordered, mutable collections/sequence of items/elements/objects\n",
    "# Mutable means you can change the contents after creation\n",
    "# Lists are created using square brackets []\n",
    "person = ['John', 30, 5.9, True] # List types can be mixed\n",
    "# 6. Tuples: ordered, immutable collections/sequence of items/elements/objects\n",
    "# Immutable means you cannot change the contents after creation\n",
    "# Tuples are created using parentheses ()\n",
    "person_tuple = ('John', 30, 5.9, True)  # Tuple types can be mixed\n",
    "# 7. Sets: Mutable unordered collections of unique items\n",
    "# Sets are created using curly braces {}\n",
    "unique_numbers = {1, 2, 3, 4, 5} # set types can be mixed\n",
    "# 8. Frozensets: Immutable unordered collections of unique items\n",
    "# Frozensets are created using the frozenset() function\n",
    "frozen_usernames = frozenset(['alice', 'bob', 'charlie']) # frozenset types can be mixed\n",
    "# 9. Dictionaries: Mutable collections of key-value pairs\n",
    "# Dictionaries are created using curly braces with key-value pairs\n",
    "person = { 'name': 'John', 'age': 30, 'height': 5.9, 'is_student': True } # dict set types can be mixed\n",
    "# To quickly identify the type of a variable or data type, can use the type() function\n",
    "print(type(age))  # <class 'int'>\n",
    "# To also identify the type of a variable or data type, remember the following:\n",
    "# '', \"\" is a string\n",
    "# [], [] is a list\n",
    "# (), () is a tuple\n",
    "# {} is a dictionary\n",
    "# {:} * using key vlaue pairs : *\n",
    "# {,} is a set * using comma separated values *"
   ]
  },
  {
   "cell_type": "code",
   "execution_count": null,
   "id": "bf7831e8",
   "metadata": {},
   "outputs": [],
   "source": []
  }
 ],
 "metadata": {
  "kernelspec": {
   "display_name": "Python 3",
   "language": "python",
   "name": "python3"
  },
  "language_info": {
   "codemirror_mode": {
    "name": "ipython",
    "version": 3
   },
   "file_extension": ".py",
   "mimetype": "text/x-python",
   "name": "python",
   "nbconvert_exporter": "python",
   "pygments_lexer": "ipython3",
   "version": "3.12.7"
  }
 },
 "nbformat": 4,
 "nbformat_minor": 5
}
