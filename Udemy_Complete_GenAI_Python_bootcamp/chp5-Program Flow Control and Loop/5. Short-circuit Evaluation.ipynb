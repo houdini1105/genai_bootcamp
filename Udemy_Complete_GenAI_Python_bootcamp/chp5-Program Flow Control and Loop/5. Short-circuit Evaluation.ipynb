{
 "cells": [
  {
   "cell_type": "code",
   "execution_count": null,
   "id": "f3f6c710",
   "metadata": {},
   "outputs": [],
   "source": [
    "# Chp5 Ep5. Short-circuit Evaluation\n",
    "# Short-circuit will stop the evaluation as soon as the evaluation is clear\n",
    "# Short-circuit evaluation example\n",
    "# Using the and operator\n",
    "temp = 15\n",
    "is_sunny = False\n",
    "if temp > 25 and is_sunny: # Since temp is less than 25 and returns False, python does not need to evaluate the next condition\n",
    "    # since both conditions need to be True\n",
    "    print('Beach day')\n",
    "else:\n",
    "    print('Maybe tomorrow')\n",
    "# Using the or operator\n",
    "email = 'user@example.com' # This is a unempty value which evaluates to True\n",
    "phone_number = ''\n",
    "if email or phone_number: # Since email equals True, python does not need to evaluate the next condition since the first is True\n",
    "    print('Thank you')\n",
    "else:\n",
    "    print('Please provide info')"
   ]
  }
 ],
 "metadata": {
  "kernelspec": {
   "display_name": "Python 3",
   "language": "python",
   "name": "python3"
  },
  "language_info": {
   "name": "python",
   "version": "3.12.7"
  }
 },
 "nbformat": 4,
 "nbformat_minor": 5
}
