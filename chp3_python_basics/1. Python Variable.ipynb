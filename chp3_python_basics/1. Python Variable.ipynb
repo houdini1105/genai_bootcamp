{
 "cells": [
  {
   "cell_type": "code",
   "execution_count": null,
   "id": "55fe19a1",
   "metadata": {},
   "outputs": [
    {
     "name": "stdout",
     "output_type": "stream",
     "text": [
      "25\n"
     ]
    }
   ],
   "source": [
    "# Chp3_ep1 Python Variables\n",
    "# Variables are used to store data values that the application needs to work with.\n",
    "celsius_temp = 25 # celsius_temp is the variable name, and 25 is the value assigned to it.\n",
    "# print() printing (displaying) to the terminal\n",
    "print(celsius_temp) # This will print the value of celsius_temp to the terminal.\n",
    "\n",
    "# Python allows you to assign multiple variables in one line.\n",
    "a, b, c = 1, 2, 3 # Here, a is assigned 1, b is assigned 2, and c is assigned 3.\n",
    "\n",
    "age, name = 30, \"Alice\" # age is assigned 30 (interger) and name is assigned \"Alice\" (string).\n",
    "\n",
    "# Best practices for declaring variables:\n",
    "# 1. Use descriptive names: Instead of using vague names.\n",
    "# 2. Consistency: Use a consistent naming convention, such as snake_case or camelCase.\n",
    "# 3. Avoid reserved keywords: Don't use Python's reserved keywords as variable names.\n",
    "# 4. Use lowercase letters: Variable names should be in lowercase to improve readability.\n",
    "# 5. Avoid inditation errors: Ensure that variable names are not indented incorrectly, as this can lead to syntax errors."
   ]
  },
  {
   "cell_type": "code",
   "execution_count": null,
   "id": "f0694cae",
   "metadata": {},
   "outputs": [],
   "source": []
  }
 ],
 "metadata": {
  "kernelspec": {
   "display_name": "Python 3",
   "language": "python",
   "name": "python3"
  },
  "language_info": {
   "codemirror_mode": {
    "name": "ipython",
    "version": 3
   },
   "file_extension": ".py",
   "mimetype": "text/x-python",
   "name": "python",
   "nbconvert_exporter": "python",
   "pygments_lexer": "ipython3",
   "version": "3.12.7"
  }
 },
 "nbformat": 4,
 "nbformat_minor": 5
}
