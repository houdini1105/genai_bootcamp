{
 "cells": [
  {
   "cell_type": "code",
   "execution_count": null,
   "id": "8dea87d3",
   "metadata": {},
   "outputs": [
    {
     "name": "stdout",
     "output_type": "stream",
     "text": [
      "The current temp is 70\n",
      "The current temp is 71\n",
      "The current temp is 72\n",
      "The current temp is 73\n",
      "The current temp is 74\n",
      "The current temp is 75\n",
      "The current temp is 76\n",
      "The current temp is 77\n",
      "The current temp is 78\n",
      "The current temp is 79\n"
     ]
    }
   ],
   "source": [
    "# Chp5 Ep10. While Loops\n",
    "# basic example - while loops allow to handle contiuneous real time processes\n",
    "temp = 70 # Initalize variable temp\n",
    "while temp < 80: # Condition check\n",
    "    print(f'The current temp is {temp}')\n",
    "    temp += 1 # Increment by 1 # THis will make the emp add 1 everytime it runs which will be until 80\n",
    "# Make sure the while loop ends/terminates. If not, they will run in an infinite loop.\n",
    "# If the above only were to print temp is 70 it would run forever."
   ]
  },
  {
   "cell_type": "code",
   "execution_count": null,
   "id": "7f18b7bd",
   "metadata": {},
   "outputs": [],
   "source": []
  }
 ],
 "metadata": {
  "kernelspec": {
   "display_name": "Python 3",
   "language": "python",
   "name": "python3"
  },
  "language_info": {
   "codemirror_mode": {
    "name": "ipython",
    "version": 3
   },
   "file_extension": ".py",
   "mimetype": "text/x-python",
   "name": "python",
   "nbconvert_exporter": "python",
   "pygments_lexer": "ipython3",
   "version": "3.12.7"
  }
 },
 "nbformat": 4,
 "nbformat_minor": 5
}
