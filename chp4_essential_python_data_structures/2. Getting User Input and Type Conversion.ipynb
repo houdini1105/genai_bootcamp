{
 "cells": [
  {
   "cell_type": "code",
   "execution_count": null,
   "id": "7685e4ac",
   "metadata": {},
   "outputs": [
    {
     "name": "stdout",
     "output_type": "stream",
     "text": [
      "Your command is: mass of sun\n",
      "Training hours: <class 'str'>\n"
     ]
    }
   ],
   "source": [
    "# Chp4 Ep2. Getting User Input and Type Conversion\n",
    "# Getting user input and converting types in Python is straightforward. You can use the `input()` function to get input from the user, and then convert it to the desired type using functions like `int()`, `float()`, or `str()`.\n",
    "# Use the `input()` function to get input from the user. By default, `input()` returns a string, so if you need a different type (like an integer or float), you will need to convert it.\n",
    "command = input(\"Enter a command: \")  # Get user input as a string\n",
    "print('Your command is:', command)  # Print the command entered by the user\n",
    "# Convert the input string to an integer\n",
    "train_hours = input(\"Enter the number of training hours: \")  # THis is a string input\n",
    "print('Training hours:', type(train_hours))  # Print the string input and its type. Use type around the variable and not the string literal\n",
    "#iterations = input(\"Enter the number of iterations: \")  # Get another input from the user\n",
    "#datasets = input(\"Enter the number of datasets: \")  # Get another input from the user\n",
    "#total = iterations * datasets  # This will not work as expected because both `iterations` and `datasets` are strings\n",
    "# Convert the string input to an integer\n",
    "# Use the int() or float() function to convert the input to the desired type\n",
    "iterations = int(input(\"Enter the number of iterations: \"))  # Convert input to integer\n",
    "datasets = int(input(\"Enter the number of datasets: \"))  # Convert input to integer \n",
    "total = iterations * datasets  # Now this will work correctly as both are integers\n",
    "print('Total:', total)  # Print the total of iterations and datasets    \n",
    "training_hours = int(input(\"Enter the number of training hours: \"))  # Convert input to integer\n",
    "print('Training hours:', type(training_hours))  # Print the string input and its type. Use type around the variable and not the string literal"
   ]
  },
  {
   "cell_type": "code",
   "execution_count": null,
   "id": "85feed21",
   "metadata": {},
   "outputs": [],
   "source": []
  },
  {
   "cell_type": "code",
   "execution_count": null,
   "id": "4270a384",
   "metadata": {},
   "outputs": [],
   "source": []
  }
 ],
 "metadata": {
  "kernelspec": {
   "display_name": "Python 3",
   "language": "python",
   "name": "python3"
  },
  "language_info": {
   "codemirror_mode": {
    "name": "ipython",
    "version": 3
   },
   "file_extension": ".py",
   "mimetype": "text/x-python",
   "name": "python",
   "nbconvert_exporter": "python",
   "pygments_lexer": "ipython3",
   "version": "3.12.7"
  }
 },
 "nbformat": 4,
 "nbformat_minor": 5
}
