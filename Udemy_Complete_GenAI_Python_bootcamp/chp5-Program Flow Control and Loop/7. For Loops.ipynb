{
 "cells": [
  {
   "cell_type": "code",
   "execution_count": 4,
   "id": "bdc0b9eb",
   "metadata": {},
   "outputs": [
    {
     "name": "stdout",
     "output_type": "stream",
     "text": [
      "1\n",
      "2\n",
      "3\n",
      "4\n",
      "5\n",
      "Filtered tweet: Exploring AI applications\n",
      "Filtered tweet: Machine Learning is the future\n",
      "Filtered tweet: New advance in GenAI\n",
      "Highlighted feedback Excellent response time\n",
      "Highlighted feedback Excellent support from staff\n",
      "Warning Temp exceded safe limit at 82!\n",
      "Warning Temp exceded safe limit at 85!\n",
      "Warning Temp exceded safe limit at 90!\n"
     ]
    }
   ],
   "source": [
    "# Chp5 Ep7. For Loops\n",
    "# Types of loops\n",
    "# 1. For loops when you know the number of times you need to repeat an actions\n",
    "#or want to iterate over a collection like a tring or list\n",
    "# 2. While loops\n",
    "\n",
    "numbers = [1, 2, 3, 4, 5]\n",
    "for number in numbers:\n",
    "    print(number)\n",
    "# numbers is a list of numbers containing 5 elements. The for loop goes through each\n",
    "#number one by one.\n",
    "tweets = ['Exploring AI applications', 'Machine Learning is the future', 'Having lunch with frinds', 'New advance in GenAI']\n",
    "for tweet in tweets:\n",
    "    if 'AI' in tweet or 'Machine Learning' in tweet:\n",
    "        print(f'Filtered tweet: {tweet}')\n",
    "# We are iterating over a each tweet in a list. If a tweet contains either AI or Machine Learning, its printed.\n",
    "# Key terminology\n",
    "# Iterating over an iterable\n",
    "# An iterable is any object that can return its element one by one\n",
    "feedback = ['Great Service!', 'Excellent response time', 'Had to wait to long', 'Excellent support from staff']\n",
    "for comment in feedback:\n",
    "    if 'excellent' in comment.lower():\n",
    "        print(f'Highlighted feedback {comment}')\n",
    "# This code looks through each comment and looks for 'excellent' using lower()\n",
    "#to make it case insensitive\n",
    "temp_readings = [71, 74, 78, 82, 85, 90] # Sample Data in Fahreheit\n",
    "threshold = 80\n",
    "\n",
    "for temp in temp_readings:\n",
    "    if temp > threshold:\n",
    "        print(f'Warning Temp exceded safe limit at {temp}!')"
   ]
  },
  {
   "cell_type": "code",
   "execution_count": null,
   "id": "47e8ab90",
   "metadata": {},
   "outputs": [],
   "source": []
  }
 ],
 "metadata": {
  "kernelspec": {
   "display_name": "Python 3",
   "language": "python",
   "name": "python3"
  },
  "language_info": {
   "codemirror_mode": {
    "name": "ipython",
    "version": 3
   },
   "file_extension": ".py",
   "mimetype": "text/x-python",
   "name": "python",
   "nbconvert_exporter": "python",
   "pygments_lexer": "ipython3",
   "version": "3.12.7"
  }
 },
 "nbformat": 4,
 "nbformat_minor": 5
}
