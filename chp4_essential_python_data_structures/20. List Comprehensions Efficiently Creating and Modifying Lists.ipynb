{
 "cells": [
  {
   "cell_type": "code",
   "execution_count": null,
   "id": "49819d80",
   "metadata": {},
   "outputs": [
    {
     "name": "stdout",
     "output_type": "stream",
     "text": [
      "[20, 10, 30, 40]\n",
      "[20, 10, 30, 40]\n",
      "['Alice', 'Bob', 'Charlie']\n",
      "[7, 14, 21]\n",
      "['Alice', 'Charlie']\n"
     ]
    }
   ],
   "source": [
    "# Chp4 Ep20. List Comprehensions Efficiently Creating and Modifying Lists\n",
    "# Its the pythonic way of constructing a list.\n",
    "# List comprehensions offers us a shorter and more concise syntax to create\n",
    "#a new list based on the values of an existing iterable.\n",
    "# Classical approach to creating lists\n",
    "clicks = [10, 5, 15, 20]\n",
    "double_clicks = []\n",
    "for c in clicks:\n",
    "    double_clicks.append(c * 2)\n",
    "\n",
    "print(double_clicks)\n",
    "# List comprehension\n",
    "double_clicks = [c * 2 for c in clicks] # Syntax for list comprehension [expression for item in iterable]\n",
    "print(double_clicks)\n",
    "# Syntax for list comprehension [expression for item in iterable]\n",
    "# Breakdown, The square brackets means we are creating a new list\n",
    "# THe expression, c * 2, any operation to perform on each item\n",
    "# Item, c, is each element in our iterable. Can be list, ints, string or range of numbers\n",
    "\n",
    "contributors = {'alice', 'Bob', 'CHARLIE'}\n",
    "formated_names = [name.capitalize() for name in contributors]\n",
    "print(formated_names)\n",
    "\n",
    "# How to add conditions\n",
    "# [expression for item in iterable if condition]\n",
    "nums = [1, 7, 8, 14, 21, 30, 50]\n",
    "divisible_by_seven = [n for n in nums if n % 7 == 0]\n",
    "print(divisible_by_seven)\n",
    "\n",
    "# Two list\n",
    "ai_team = ['Alice', 'Bob', 'Charlie']\n",
    "data_team = ['Alice', 'David', 'Charlie']\n",
    "shared_skills = [name for name in ai_team if name in data_team]\n",
    "print(shared_skills)\n",
    "\n",
    "# Keep each line simple and use classic loops for more complex tasks\n",
    "# list comprehension are most effective for short straight forward operations"
   ]
  },
  {
   "cell_type": "code",
   "execution_count": null,
   "id": "390dd917",
   "metadata": {},
   "outputs": [],
   "source": []
  }
 ],
 "metadata": {
  "kernelspec": {
   "display_name": "Python 3",
   "language": "python",
   "name": "python3"
  },
  "language_info": {
   "codemirror_mode": {
    "name": "ipython",
    "version": 3
   },
   "file_extension": ".py",
   "mimetype": "text/x-python",
   "name": "python",
   "nbconvert_exporter": "python",
   "pygments_lexer": "ipython3",
   "version": "3.12.7"
  }
 },
 "nbformat": 4,
 "nbformat_minor": 5
}
