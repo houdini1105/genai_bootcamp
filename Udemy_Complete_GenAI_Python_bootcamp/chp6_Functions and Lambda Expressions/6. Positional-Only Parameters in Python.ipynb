{
 "cells": [
  {
   "cell_type": "code",
   "execution_count": null,
   "id": "3a1a1b79",
   "metadata": {},
   "outputs": [
    {
     "name": "stdout",
     "output_type": "stream",
     "text": [
      "5.0\n"
     ]
    },
    {
     "ename": "TypeError",
     "evalue": "divide() got some positional-only arguments passed as keyword arguments: 'numerator, denominator'",
     "output_type": "error",
     "traceback": [
      "\u001b[31m---------------------------------------------------------------------------\u001b[39m",
      "\u001b[31mTypeError\u001b[39m                                 Traceback (most recent call last)",
      "\u001b[36mCell\u001b[39m\u001b[36m \u001b[39m\u001b[32mIn[2]\u001b[39m\u001b[32m, line 19\u001b[39m\n\u001b[32m     17\u001b[39m \u001b[38;5;28mprint\u001b[39m(result)\n\u001b[32m     18\u001b[39m \u001b[38;5;66;03m# incorrect usage\u001b[39;00m\n\u001b[32m---> \u001b[39m\u001b[32m19\u001b[39m res = \u001b[43mdivide\u001b[49m\u001b[43m(\u001b[49m\u001b[43mnumerator\u001b[49m\u001b[43m=\u001b[49m\u001b[32;43m10\u001b[39;49m\u001b[43m,\u001b[49m\u001b[43m \u001b[49m\u001b[43mdenominator\u001b[49m\u001b[43m=\u001b[49m\u001b[32;43m5\u001b[39;49m\u001b[43m)\u001b[49m\n",
      "\u001b[31mTypeError\u001b[39m: divide() got some positional-only arguments passed as keyword arguments: 'numerator, denominator'"
     ]
    }
   ],
   "source": [
    "# Chp6 Ep6. Positional-Only Parameters in Python\n",
    "# Positional-Only parameters are function arguemnts that can only be passed by position\n",
    "# To define positional only parameters use /\n",
    "def my_function(a, b, /, c, d): # in this example, a & b are positional only params\n",
    "    # while c & d can be passed positional or keyword\n",
    "    # The / specifies the last postional-only param\n",
    "    pass\n",
    "\n",
    "def divide(numerator, denominator, /): # / both parms to be postional=only\n",
    "    \"\"\"Devides two numbers\"\"\"\n",
    "    if denominator == 0:\n",
    "        raise ValueError('Divison by zero')\n",
    "    return numerator / denominator\n",
    "\n",
    "# correct usage\n",
    "result = divide(10, 2)\n",
    "print(result)\n",
    "# incorrect usage\n",
    "#res = divide(numerator=10, denominator=5) # This will raise a TypeError, these must be passed positionaly\n",
    "# You can combine positional-only, positional or keyword and keyword-only parameters in a single function def\n",
    "def my_func(a, b, /, c, *, d, e=10): #/ = postional-only, * = keyword-only\n",
    "    # a & b are positional-only because /, c can be positonal or keyword, \n",
    "    # d is keyword-only, e is keyword-only with a default value\n",
    "    pass\n",
    "\n",
    "# Best practices\n",
    "# Use postional-only parms when the order of arguments are cruicial for the functions logic"
   ]
  },
  {
   "cell_type": "code",
   "execution_count": null,
   "id": "ef41b585",
   "metadata": {},
   "outputs": [],
   "source": []
  }
 ],
 "metadata": {
  "kernelspec": {
   "display_name": "Python 3",
   "language": "python",
   "name": "python3"
  },
  "language_info": {
   "codemirror_mode": {
    "name": "ipython",
    "version": 3
   },
   "file_extension": ".py",
   "mimetype": "text/x-python",
   "name": "python",
   "nbconvert_exporter": "python",
   "pygments_lexer": "ipython3",
   "version": "3.12.7"
  }
 },
 "nbformat": 4,
 "nbformat_minor": 5
}
