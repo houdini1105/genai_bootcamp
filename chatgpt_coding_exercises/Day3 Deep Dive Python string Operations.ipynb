{
 "cells": [
  {
   "cell_type": "code",
   "execution_count": null,
   "id": "9e472ca7",
   "metadata": {},
   "outputs": [],
   "source": [
    "# 3-Day Python String Operations IntensiveThis mini-course will strengthen your core Python string manipulation skills, including:\n",
    "# Indexing and slicing\n",
    "# Concatenation\n",
    "# Substrings\n",
    "# String methods\n",
    "# Challenge-based learning\n",
    "# 🔥 Day 1: Fundamentals + String Methods✅ Topics:String indexing: s[0], s[-1]\n",
    "# String slicing: s[2:5], s[:-2]\n",
    "# Length: len(s)\n",
    "# Basic methods: .lower(), .upper(), .strip(), .find(), .replace()\n",
    "# 🧠 Practice Exercises:Extract the first character from msg = \"Python Rules!\"\n",
    "# Slice the substring Rules from the string above.\n",
    "# Create a new string by joining \"Hello\" and \"World\" with a space.\n",
    "# Count the number of \"a\" characters in \"banana\".\n",
    "# Write a script that asks for a user's name and returns the name in uppercase.\n",
    "# ✅ Quiz Questions:What does s[-1] return?\n",
    "# What will \"hello\"[1:4] return?\n",
    "# How do you count the number of times \"the\" appears in a sentence (ignoring case)?\n",
    "# 🔥 Day 2: Intermediate Concepts & Challenges✅ Topics:Substrings and search: in, .find(), .count()\n",
    "# Modifying strings: .replace(), .capitalize(), .swapcase()\n",
    "# User input and logic with if statements\n",
    "# 🧪 Coding Challenges:MAC Address Extraction\n",
    "# my_str = 'wlo1 Link encap:Ethernet HWaddr b4:6d:83:77:85:f3'\n",
    "# # Extract the MAC address using slicing or .split()Palindrome Check\n",
    "# # Ask user for a word and check if it's a palindromeAdvanced Palindrome Check\n",
    "# # Ignore case and whitespace in palindrome checkFirst and Last Two Characters\n",
    "# # Return first 2 and last 2 characters of a stringReplace Duplicates with '$'\n",
    "# # Replace all occurrences of first character except the first itself with '$'🧠 Practice:Find the index of the first space in a user-entered sentence.\n",
    "# Use s[:len(s)//2] to extract the first half of a string.\n",
    "# 🔥 Day 3: Final Challenges + Case Formatting✅ Topics:Advanced string formatting\n",
    "# Replacing and formatting numbers\n",
    "# String mutation via slicing\n",
    "# Applying logic to string operations\n",
    "# 🧪 Coding Challenges:Remove Character at Index n\n",
    "# # Get index `n` and a string from user; remove char at index nCount Substring (Case Insensitive)\n",
    "# # Count how many times a word appears in a sentence, ignoring caseNumber Formatting\n",
    "# # Format a number in US/UK (1,000,000) and EU (1.000.000) style🧠 Final Quiz Questions:What does .swapcase() do?\n",
    "# How do you extract the last 3 characters from a string?\n",
    "# True or False: Strings are mutable in Python?\n",
    "# 🧩 Bonus Challenge (Optional):Build a small Python script that:\n",
    "# Asks for a sentence\n",
    "# Cleans it (lowercase, strip, remove punctuation)\n",
    "# Counts how many times each word appears\n",
    "# ✅ Completion Goal:Solve all 9 main challenges\n",
    "# Score 80%+ on quizzes\n",
    "# Feel confident slicing, modifying, and analyzing strings\n",
    "# Want this turned into an interactive notebook or Excel sheet? Just ask!\n"
   ]
  },
  {
   "cell_type": "code",
   "execution_count": null,
   "id": "079a5c3d",
   "metadata": {},
   "outputs": [
    {
     "name": "stdout",
     "output_type": "stream",
     "text": [
      "P\n",
      "Rules!\n",
      "Hello World\n",
      "3\n",
      "JESUS\n"
     ]
    }
   ],
   "source": [
    "# 🔥 Day 1: Fundamentals + String Methods✅ Topics:String indexing: s[0], s[-1]\n",
    "# String slicing: s[2:5], s[:-2]\n",
    "# Length: len(s)\n",
    "# Basic methods: .lower(), .upper(), .strip(), .find(), .replace()\n",
    "# 🧠 Practice Exercises:Extract the first character from msg = \"Python Rules!\"\n",
    "msg = 'Python Rules!'\n",
    "char = msg[0]\n",
    "print(char)\n",
    "# Slice the substring Rules from the string above.\n",
    "l1 = msg[7:]\n",
    "print(l1)\n",
    "\n",
    "# Create a new string by joining \"Hello\" and \"World\" with a space.\n",
    "w1 = 'Hello'\n",
    "w2 = 'World'\n",
    "print(w1 + ' ' + w2)\n",
    "# Count the number of \"a\" characters in \"banana\".\n",
    "word = 'banana'\n",
    "count = word.count('a')\n",
    "print(count)\n",
    "# Write a script that asks for a user's name and returns the name in uppercase.\n",
    "name = input('Enter your name:').upper()\n",
    "print(name)\n",
    "# ✅ Quiz Questions:What does s[-1] return?\n",
    "#s\n",
    "# What will \"hello\"[1:4] return?\n",
    "#ello\n",
    "# How do you count the number of times \"the\" appears in a sentence (ignoring case)?\n",
    "#.count()"
   ]
  },
  {
   "cell_type": "code",
   "execution_count": null,
   "id": "2539615a",
   "metadata": {},
   "outputs": [],
   "source": []
  }
 ],
 "metadata": {
  "kernelspec": {
   "display_name": "Python 3",
   "language": "python",
   "name": "python3"
  },
  "language_info": {
   "codemirror_mode": {
    "name": "ipython",
    "version": 3
   },
   "file_extension": ".py",
   "mimetype": "text/x-python",
   "name": "python",
   "nbconvert_exporter": "python",
   "pygments_lexer": "ipython3",
   "version": "3.12.7"
  }
 },
 "nbformat": 4,
 "nbformat_minor": 5
}
