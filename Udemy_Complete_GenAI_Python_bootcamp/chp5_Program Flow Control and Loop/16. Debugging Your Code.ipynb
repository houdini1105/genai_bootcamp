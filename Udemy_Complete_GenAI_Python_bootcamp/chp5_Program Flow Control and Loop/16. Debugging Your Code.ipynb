{
 "cells": [
  {
   "cell_type": "code",
   "execution_count": 1,
   "id": "3ba736e4",
   "metadata": {},
   "outputs": [
    {
     "name": "stdout",
     "output_type": "stream",
     "text": [
      "Hello Python!\n",
      "1 is odd.\n",
      "4 is even.\n",
      "9 is odd.\n",
      "16 is even.\n",
      "25 is odd.\n",
      "36 is even.\n",
      "49 is odd.\n"
     ]
    }
   ],
   "source": [
    "# Chp5 Ep16. Debugging Your Code\n",
    "# Debugging is the process of identifing and removing errors or bugs from the program.\n",
    "print('Hello Python!')\n",
    "x = 101\n",
    "y = x // 2\n",
    "for n in [1, 2, 3, 4, 5, 6, 7]: # To execute the for loop line by line is to define where the program\n",
    "    # needs to be stopped using breakpoints.\n",
    "    # Breakpoints are special markers which represent places or conditions when the \n",
    "    # debugger needs to freeze the program state. a program which has been frozen \n",
    "    # by the debugger is known as suspended.\n",
    "    nn = n ** 2\n",
    "    if nn % 2 == 0:\n",
    "        print(f'{nn} is even.')\n",
    "    else:\n",
    "        print(f'{nn} is odd.')\n"
   ]
  }
 ],
 "metadata": {
  "kernelspec": {
   "display_name": "Python 3",
   "language": "python",
   "name": "python3"
  },
  "language_info": {
   "codemirror_mode": {
    "name": "ipython",
    "version": 3
   },
   "file_extension": ".py",
   "mimetype": "text/x-python",
   "name": "python",
   "nbconvert_exporter": "python",
   "pygments_lexer": "ipython3",
   "version": "3.12.7"
  }
 },
 "nbformat": 4,
 "nbformat_minor": 5
}
