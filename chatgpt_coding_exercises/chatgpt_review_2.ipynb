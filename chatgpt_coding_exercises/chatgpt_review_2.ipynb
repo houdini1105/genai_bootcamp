{
 "cells": [
  {
   "cell_type": "code",
   "execution_count": 1,
   "id": "680176f1",
   "metadata": {},
   "outputs": [
    {
     "name": "stdout",
     "output_type": "stream",
     "text": [
      "wen\n"
     ]
    }
   ],
   "source": [
    "word = input('Enter a word')\n",
    "rev_word = word[::-1]\n",
    "print(rev_word)"
   ]
  },
  {
   "cell_type": "code",
   "execution_count": 8,
   "id": "819f9bb1",
   "metadata": {},
   "outputs": [
    {
     "name": "stdout",
     "output_type": "stream",
     "text": [
      "fox brown quick the\n"
     ]
    }
   ],
   "source": [
    "word = input('Enter a word')\n",
    "split_word = word.split()\n",
    "rev_word = split_word[::-1]\n",
    "print(' '.join(rev_word))"
   ]
  },
  {
   "cell_type": "code",
   "execution_count": 15,
   "id": "5649c393",
   "metadata": {},
   "outputs": [
    {
     "name": "stdout",
     "output_type": "stream",
     "text": [
      "['this', 'is', 'a', 'test']\n",
      "siht si a tset\n"
     ]
    }
   ],
   "source": [
    "word = input('Enter a word')\n",
    "split_word = word.split()\n",
    "result = []\n",
    "for w in split_word:\n",
    "    w = w[::-1]\n",
    "    result.append(w)\n",
    "print(split_word)\n",
    "print(' '.join(result))"
   ]
  },
  {
   "cell_type": "code",
   "execution_count": null,
   "id": "154b278d",
   "metadata": {},
   "outputs": [
    {
     "name": "stdout",
     "output_type": "stream",
     "text": [
      "4\n"
     ]
    }
   ],
   "source": [
    "word = input('Enter a word').lower()\n",
    "vowels = ['a', 'e', 'i', 'o', 'u']\n",
    "count = 0\n",
    "for vowel in word:\n",
    "    if vowel in vowels:\n",
    "        count += 1\n",
    "print(count)\n",
    "\n"
   ]
  },
  {
   "cell_type": "code",
   "execution_count": 20,
   "id": "d454d7af",
   "metadata": {},
   "outputs": [
    {
     "name": "stdout",
     "output_type": "stream",
     "text": [
      "4\n"
     ]
    }
   ],
   "source": [
    "word = input('Enter a word').lower()\n",
    "vowels = 'a', 'e', 'i', 'o', 'u'\n",
    "count = 0\n",
    "for v in vowels:\n",
    "    count += word.count(v)\n",
    "print(count)"
   ]
  },
  {
   "cell_type": "code",
   "execution_count": null,
   "id": "b244d925",
   "metadata": {},
   "outputs": [
    {
     "name": "stdout",
     "output_type": "stream",
     "text": [
      "10\n"
     ]
    }
   ],
   "source": [
    "word = input('Enter a word').lower()\n",
    "vowels = ['a', 'e', 'i', 'o', 'u']\n",
    "count = 0\n",
    "for vowel in word:\n",
    "    if vowel.isalpha() and vowel not in vowels:\n",
    "        count += 1\n",
    "print(count)"
   ]
  },
  {
   "cell_type": "code",
   "execution_count": 23,
   "id": "47442d26",
   "metadata": {},
   "outputs": [
    {
     "name": "stdout",
     "output_type": "stream",
     "text": [
      "thsstst\n"
     ]
    }
   ],
   "source": [
    "word = input('Enter a word').lower()\n",
    "vowels = ['a', 'e', 'i', 'o', 'u']\n",
    "new_sent = []\n",
    "for char in word:\n",
    "    if char.isalpha() and char not in vowels:\n",
    "        new_sent.append(char)\n",
    "print(''.join(new_sent))"
   ]
  },
  {
   "cell_type": "code",
   "execution_count": 24,
   "id": "69b2e3f0",
   "metadata": {},
   "outputs": [
    {
     "name": "stdout",
     "output_type": "stream",
     "text": [
      "iiae\n"
     ]
    }
   ],
   "source": [
    "word = input('Enter a word').lower()\n",
    "vowels = ['a', 'e', 'i', 'o', 'u']\n",
    "new_sent = []\n",
    "for char in word:\n",
    "    if char.isalpha() and char in vowels:\n",
    "        new_sent.append(char)\n",
    "print(''.join(new_sent))"
   ]
  },
  {
   "cell_type": "code",
   "execution_count": 25,
   "id": "f00814fe",
   "metadata": {},
   "outputs": [
    {
     "name": "stdout",
     "output_type": "stream",
     "text": [
      "iiae\n"
     ]
    }
   ],
   "source": [
    "word = input('Enter a word').lower()\n",
    "vowels = ['a', 'e', 'i', 'o', 'u']\n",
    "new_sent = ''\n",
    "for char in word:\n",
    "    if char.isalpha() and char in vowels:\n",
    "        new_sent += char\n",
    "print(new_sent)"
   ]
  },
  {
   "cell_type": "code",
   "execution_count": 27,
   "id": "a32c8cab",
   "metadata": {},
   "outputs": [
    {
     "name": "stdout",
     "output_type": "stream",
     "text": [
      "{'a': 1, 'e': 1, 'i': 2, 'o': 0, 'u': 0}\n"
     ]
    }
   ],
   "source": [
    "word = input('Enter a word').lower()\n",
    "vowels = {'a' : 0, 'e' : 0, 'i' : 0, 'o' : 0, 'u' : 0}\n",
    "\n",
    "for char in word:\n",
    "    if char in vowels:\n",
    "        vowels[char] += 1\n",
    "print(vowels)"
   ]
  },
  {
   "cell_type": "code",
   "execution_count": 30,
   "id": "5dabdebb",
   "metadata": {},
   "outputs": [
    {
     "name": "stdout",
     "output_type": "stream",
     "text": [
      "{'t': 3, 'h': 1, 'i': 2, 's': 3, ' ': 3, 'a': 1, 'e': 1}\n"
     ]
    }
   ],
   "source": [
    "word = input('Enter a word').lower()\n",
    "dict_count = {}\n",
    "\n",
    "for char in word:\n",
    "    if char in dict_count:\n",
    "        dict_count[char] += 1\n",
    "    else:\n",
    "        dict_count[char] = 1\n",
    "print(dict_count)"
   ]
  },
  {
   "cell_type": "code",
   "execution_count": 31,
   "id": "805e199e",
   "metadata": {},
   "outputs": [
    {
     "name": "stdout",
     "output_type": "stream",
     "text": [
      "4\n"
     ]
    }
   ],
   "source": [
    "new_sent = input('Enter a sent')\n",
    "split_sent = new_sent.split()\n",
    "count = 0\n",
    "for word in split_sent:\n",
    "    count += 1\n",
    "print(count)"
   ]
  },
  {
   "cell_type": "code",
   "execution_count": null,
   "id": "16cca366",
   "metadata": {},
   "outputs": [
    {
     "name": "stdout",
     "output_type": "stream",
     "text": [
      "a\n"
     ]
    }
   ],
   "source": [
    "new_sent = input('Enter a sent')\n",
    "split_sent = new_sent.split()\n",
    "shortest_word = split_sent[0]\n",
    "for word in split_sent:\n",
    "    if len(word) < len(shortest_word):\n",
    "        shortest_word = word\n",
    "    print(shortest_word)\n",
    "else:\n",
    "    print('No words entered.')"
   ]
  },
  {
   "cell_type": "code",
   "execution_count": null,
   "id": "8ffcf0c3",
   "metadata": {},
   "outputs": [
    {
     "name": "stdout",
     "output_type": "stream",
     "text": [
      "2\n"
     ]
    }
   ],
   "source": [
    "new_sent = input('Enter a sent')\n",
    "split_sent = new_sent.split()\n",
    "vowels = ['a', 'e', 'i', 'o', 'u']\n",
    "count = 0\n",
    "for word in split_sent:\n",
    "    if word[0].lower() in vowels:\n",
    "        count += 1\n",
    "print(count)\n",
    " "
   ]
  },
  {
   "cell_type": "code",
   "execution_count": 40,
   "id": "f58e8b50",
   "metadata": {},
   "outputs": [
    {
     "name": "stdout",
     "output_type": "stream",
     "text": [
      "2\n"
     ]
    }
   ],
   "source": [
    "new_sent = input('Enter a sent')\n",
    "split_sent = new_sent.split()\n",
    "vowels = ['a', 'e', 'i', 'o', 'u']\n",
    "count = 0\n",
    "for word in split_sent:\n",
    "    if word[-1].lower() in vowels:\n",
    "        count += 1\n",
    "print(count)"
   ]
  },
  {
   "cell_type": "code",
   "execution_count": 44,
   "id": "eee06e12",
   "metadata": {},
   "outputs": [
    {
     "name": "stdout",
     "output_type": "stream",
     "text": [
      "another challenge\n"
     ]
    }
   ],
   "source": [
    "sent = input('Enter a sent')\n",
    "split_sent = sent.split()\n",
    "new_sent = []\n",
    "for word in split_sent:\n",
    "    if len(word) > 5:\n",
    "        new_sent.append(word)\n",
    "print(' '.join(new_sent))"
   ]
  },
  {
   "cell_type": "code",
   "execution_count": 45,
   "id": "50c23c37",
   "metadata": {},
   "outputs": [
    {
     "name": "stdout",
     "output_type": "stream",
     "text": [
      "teswting\n"
     ]
    }
   ],
   "source": [
    "word = input('Enter a sent:')\n",
    "split_word = input('Enter split word:')\n",
    "word_length = len(word) // 2\n",
    "print(word[:word_length] + split_word + word[word_length:])"
   ]
  },
  {
   "cell_type": "code",
   "execution_count": null,
   "id": "211375d5",
   "metadata": {},
   "outputs": [
    {
     "name": "stdout",
     "output_type": "stream",
     "text": [
      "testng\n"
     ]
    }
   ],
   "source": [
    "word = input('Enter a sent: ')\n",
    "nth = int(input('Enter nth char to remove: '))\n",
    "\n",
    "if nth <= 0:\n",
    "    print('Enter a number above 0')\n",
    "elif nth > len(word):\n",
    "    print(f'Enter a number between 1 and {len(word)}')\n",
    "else:\n",
    "    first_part = word[:nth - 1]\n",
    "    second_part = word[nth:]\n",
    "    print(first_part + second_part)\n"
   ]
  },
  {
   "cell_type": "code",
   "execution_count": 50,
   "id": "ba0b8d37",
   "metadata": {},
   "outputs": [
    {
     "name": "stdout",
     "output_type": "stream",
     "text": [
      "testng\n"
     ]
    }
   ],
   "source": [
    "def char_sent_remove():\n",
    "    sent = input('Enter a sent')\n",
    "    char_remove = input('Enter a char to remove')\n",
    "    new_word = []\n",
    "    for char in sent:\n",
    "        if char.lower() != char_remove.lower():\n",
    "            new_word.append(char)\n",
    "    return ''.join(new_word)\n",
    "\n",
    "print(char_sent_remove())"
   ]
  },
  {
   "cell_type": "code",
   "execution_count": 54,
   "id": "25993777",
   "metadata": {},
   "outputs": [
    {
     "name": "stdout",
     "output_type": "stream",
     "text": [
      "The character t appears 2 times.\n"
     ]
    }
   ],
   "source": [
    "sent = input('Enter a sent')\n",
    "char = input('Enter a char to count')\n",
    "if len(char) > 1:\n",
    "    print ('Enter a single character')\n",
    "char_count = sent.lower().count(char.lower())\n",
    "print(f'The character {char} appears {char_count} times.')"
   ]
  },
  {
   "cell_type": "code",
   "execution_count": null,
   "id": "1ede332e",
   "metadata": {},
   "outputs": [
    {
     "name": "stdout",
     "output_type": "stream",
     "text": [
      "The substring 'es' appears 1 times.\n"
     ]
    }
   ],
   "source": [
    "# Count method\n",
    "sent = input(\"Enter a sentence: \")\n",
    "sub = input(\"Enter the substring to count: \")\n",
    "count = sent.lower().count(sub.lower())\n",
    "print(f\"The substring '{sub}' appears {count} times.\")\n",
    "# While loop method\n",
    "sent = input(\"Enter a sentence: \")\n",
    "sub = input(\"Enter the substring to count: \")\n",
    "\n",
    "count = 0\n",
    "start = 0\n",
    "\n",
    "while True:\n",
    "    start = sent.lower().find(sub.lower(), start)\n",
    "    if start == -1:\n",
    "        break\n",
    "    count += 1\n",
    "    start += 1  # move one character ahead for overlapping matches\n",
    "\n",
    "print(f\"The substring '{sub}' appears {count} times (including overlaps).\")\n"
   ]
  },
  {
   "cell_type": "code",
   "execution_count": null,
   "id": "ab0fb7aa",
   "metadata": {},
   "outputs": [],
   "source": [
    "sent = input(\"Enter a sentence: \")\n",
    "sub = input(\"Enter the substring to count: \")\n",
    "\n",
    "start = 0\n",
    "count = 0\n",
    "\n",
    "while True:\n",
    "    start = sent.lower().find(sub.lower(), start)\n",
    "    if start == -1:\n",
    "        break\n",
    "    count += 1\n",
    "    start += 1\n",
    "\n",
    "print(f\"The substring '{sub}' appears {count} times (including overlaps).\")"
   ]
  },
  {
   "cell_type": "code",
   "execution_count": null,
   "id": "638af231",
   "metadata": {},
   "outputs": [],
   "source": [
    "sent = input('Enter a sent')\n",
    "rev_sent = sent[::-1]\n",
    "if rev_sent == sent:\n",
    "    print(True)\n",
    "else:\n",
    "    print(False)\n",
    "\n",
    "sent = input('Enter a sent')\n",
    "if ''.join(reversed(sent.lower())) == sent.lower():\n",
    "    print(True)\n",
    "else:\n",
    "    print(False)"
   ]
  },
  {
   "cell_type": "code",
   "execution_count": null,
   "id": "f9060e4e",
   "metadata": {},
   "outputs": [
    {
     "name": "stdout",
     "output_type": "stream",
     "text": [
      "\n"
     ]
    }
   ],
   "source": [
    "email = input(\"Enter an email: \")\n",
    "\n",
    "# Split into username and domain\n",
    "username, domain = email.split(\"@\")\n",
    "\n",
    "# Mask everything except the first character\n",
    "masked_username = username[0] + \"*\" * (len(username) - 1)\n",
    "\n",
    "# Rebuild the email\n",
    "masked_email = masked_username + \"@\" + domain\n",
    "\n",
    "print(masked_email)\n"
   ]
  },
  {
   "cell_type": "code",
   "execution_count": 77,
   "id": "00e857bb",
   "metadata": {},
   "outputs": [
    {
     "name": "stdout",
     "output_type": "stream",
     "text": [
      "Hello, my name is Alice. I am 30 years old and my favorite color is Blue.\n"
     ]
    }
   ],
   "source": [
    "print('Hello, my name is {}. I am {} years old and my ' \\\n",
    "'favorite color is {}.'.format('Alice', 30, 'Blue'))"
   ]
  },
  {
   "cell_type": "code",
   "execution_count": 79,
   "id": "d7e93aba",
   "metadata": {},
   "outputs": [
    {
     "name": "stdout",
     "output_type": "stream",
     "text": [
      "Hello, my name is test. I am 33 years old and my favorite color is bluw.\n"
     ]
    }
   ],
   "source": [
    "name = input(\"Enter your name: \")\n",
    "age = input(\"Enter your age: \")\n",
    "color = input(\"Enter your favorite color: \")\n",
    "\n",
    "print(\"Hello, my name is {n}. I am {a} years old and my favorite color is {c}.\".format(n=name, a=age, c=color))\n"
   ]
  },
  {
   "cell_type": "code",
   "execution_count": 80,
   "id": "39f46bed",
   "metadata": {},
   "outputs": [
    {
     "name": "stdout",
     "output_type": "stream",
     "text": [
      "Number: 1     | Square:     1\n",
      "Number: 2     | Square:     4\n",
      "Number: 3     | Square:     9\n",
      "Number: 4     | Square:    16\n",
      "Number: 5     | Square:    25\n"
     ]
    }
   ],
   "source": [
    "for i in range(1, 6):\n",
    "    print(\"Number: {:<5} | Square: {:>5}\".format(i, i*i))\n"
   ]
  },
  {
   "cell_type": "code",
   "execution_count": 89,
   "id": "c4fe45d3",
   "metadata": {},
   "outputs": [
    {
     "name": "stdout",
     "output_type": "stream",
     "text": [
      "Number | Square |   Cube\n",
      "--------------------------\n",
      "1      |      1 |      1\n",
      "2      |      4 |      8\n",
      "3      |      9 |     27\n",
      "4      |     16 |     64\n",
      "5      |     25 |    125\n"
     ]
    }
   ],
   "source": [
    "user_num = int(input('Enter a num:'))\n",
    "\n",
    "# Print header with aligned columns\n",
    "print('{:<6} | {:>6} | {:>6}'.format(\"Number\", \"Square\", \"Cube\"))\n",
    "print('-' * 26)\n",
    "\n",
    "# Print table values\n",
    "for i in range(1, user_num + 1):\n",
    "    print('{:<6} | {:>6} | {:>6}'.format(i, i * i, i ** 3))\n"
   ]
  },
  {
   "cell_type": "code",
   "execution_count": 92,
   "id": "499a1dfc",
   "metadata": {},
   "outputs": [
    {
     "name": "stdout",
     "output_type": "stream",
     "text": [
      "Word         |       Length\n",
      "----------------------\n",
      "test         |            4\n"
     ]
    }
   ],
   "source": [
    "sent = input('Enter a sent')\n",
    "split_sent = sent.split()\n",
    "print('{:<12} | {:>12}'.format('Word', 'Length'))\n",
    "print('-' * 22)\n",
    "for word in split_sent:\n",
    "    print('{:<12} | {:>12}'.format(word,len(word)))"
   ]
  },
  {
   "cell_type": "code",
   "execution_count": 96,
   "id": "563da186",
   "metadata": {},
   "outputs": [
    {
     "name": "stdout",
     "output_type": "stream",
     "text": [
      "True\n"
     ]
    }
   ],
   "source": [
    "sent = input('Enter a sent:')\n",
    "check = sent.lower().replace(\" \", \"\")\n",
    "for char in check:\n",
    "    if char.count(char) > 1:\n",
    "        print(False)\n",
    "        break\n",
    "else:\n",
    "    print(True)"
   ]
  },
  {
   "cell_type": "code",
   "execution_count": 102,
   "id": "7b7c8346",
   "metadata": {},
   "outputs": [
    {
     "name": "stdout",
     "output_type": "stream",
     "text": [
      "True\n"
     ]
    }
   ],
   "source": [
    "sent_one = input('Enter first word:')\n",
    "sent_two = input('Enter second word:')\n",
    "clean_sent_one = sent_one.lower().replace(' ', '').strip()\n",
    "clean_sent_two = sent_two.lower().replace(' ', '').strip()\n",
    "empty_dict = {}\n",
    "empty_dict_two = {}\n",
    "for char in clean_sent_one:\n",
    "    if char not in empty_dict:\n",
    "        empty_dict[char] = 1\n",
    "    else:\n",
    "        empty_dict[char] = empty_dict[char] + 1\n",
    "    \n",
    "for char in clean_sent_two:\n",
    "    if char not in empty_dict_two:\n",
    "        empty_dict_two[char] = 1\n",
    "    else:\n",
    "        empty_dict_two[char] = empty_dict_two[char] + 1\n",
    "if empty_dict == empty_dict_two:\n",
    "    print(True)\n",
    "else:\n",
    "    print(False)\n",
    "# print(empty_dict)\n",
    "# print(empty_dict_two)"
   ]
  },
  {
   "cell_type": "code",
   "execution_count": null,
   "id": "6e504077",
   "metadata": {},
   "outputs": [
    {
     "name": "stdout",
     "output_type": "stream",
     "text": [
      "<class 'dict'>\n"
     ]
    }
   ],
   "source": [
    "sent = input('Enter a word:')\n",
    "clean_sent = sent.lower().replace(' ', '').strip()\n",
    "empty_dict = {}\n",
    "for char in clean_sent_one:\n",
    "    if char not in empty_dict:\n",
    "        empty_dict[char] = 1\n",
    "    else:\n",
    "        empty_dict[char] = empty_dict[char] + 1"
   ]
  },
  {
   "cell_type": "code",
   "execution_count": 104,
   "id": "d6f1456a",
   "metadata": {},
   "outputs": [
    {
     "name": "stdout",
     "output_type": "stream",
     "text": [
      "2\n"
     ]
    }
   ],
   "source": [
    "sent = input('Enter a sent:')\n",
    "vowels = ('a', 'e', 'i', 'o', 'u')\n",
    "count = 0\n",
    "for char in sent:\n",
    "    if char.lower() in vowels:\n",
    "        count += 1\n",
    "print(count)"
   ]
  },
  {
   "cell_type": "code",
   "execution_count": 115,
   "id": "0d72aff2",
   "metadata": {},
   "outputs": [
    {
     "name": "stdout",
     "output_type": "stream",
     "text": [
      "tesing\n"
     ]
    }
   ],
   "source": [
    "sent = input('Enter a sent:')\n",
    "check_chars = set()\n",
    "result = ''\n",
    "for char in sent:\n",
    "    if char.lower() not in check_chars:\n",
    "        check_chars.add(char.lower())\n",
    "        result += char\n",
    "print(result)"
   ]
  },
  {
   "cell_type": "code",
   "execution_count": 122,
   "id": "6036f0fa",
   "metadata": {},
   "outputs": [
    {
     "name": "stdout",
     "output_type": "stream",
     "text": [
      "test a is this\n"
     ]
    }
   ],
   "source": [
    "sent = input('Enter a sent:')\n",
    "rev_split_sent = sent.split()[::-1]\n",
    "empty = ''\n",
    "print(' '.join(rev_split_sent))"
   ]
  },
  {
   "cell_type": "code",
   "execution_count": 123,
   "id": "95ae454b",
   "metadata": {},
   "outputs": [
    {
     "name": "stdout",
     "output_type": "stream",
     "text": [
      "testing\n"
     ]
    }
   ],
   "source": [
    "sent = input('Enter a sent:')\n",
    "sent_split = sent.split()\n",
    "compare = sent_split[0]\n",
    "for word in sent_split:\n",
    "    if len(word) > len(compare):\n",
    "        compare = word\n",
    "print(compare)"
   ]
  },
  {
   "cell_type": "code",
   "execution_count": 127,
   "id": "f8423c6f",
   "metadata": {},
   "outputs": [
    {
     "name": "stdout",
     "output_type": "stream",
     "text": [
      "4\n"
     ]
    }
   ],
   "source": [
    "sent = input('Enter a sent:')\n",
    "sent_split = sent.split()\n",
    "count = 0\n",
    "for word in sent_split:\n",
    "    count += 1\n",
    "print(count)"
   ]
  },
  {
   "cell_type": "code",
   "execution_count": 134,
   "id": "d87f52e8",
   "metadata": {},
   "outputs": [
    {
     "name": "stdout",
     "output_type": "stream",
     "text": [
      "tEtEtE\n"
     ]
    }
   ],
   "source": [
    "sent = input('Enter a sent:')\n",
    "new_sent = ''\n",
    "for char in sent:\n",
    "    if char.isupper():\n",
    "        new_sent += char.lower()\n",
    "    elif char.islower():\n",
    "        new_sent += char.upper()\n",
    "    else:\n",
    "        new_sent += char\n",
    "print(new_sent)"
   ]
  },
  {
   "cell_type": "code",
   "execution_count": 148,
   "id": "b22a7570",
   "metadata": {},
   "outputs": [
    {
     "name": "stdout",
     "output_type": "stream",
     "text": [
      "7\n"
     ]
    }
   ],
   "source": [
    "nums = [1, 5, 7, 8]\n",
    "max_num = nums[0]\n",
    "second_max_num = None\n",
    "for i in nums:\n",
    "    if i > max_num:\n",
    "        max_num = i\n",
    "for i in nums:\n",
    "    if i != max_num and (second_max_num is None or i > second_max_num):\n",
    "        second_max_num = i\n",
    "\n",
    "print(second_max_num)"
   ]
  },
  {
   "cell_type": "code",
   "execution_count": 156,
   "id": "6e869e3b",
   "metadata": {},
   "outputs": [
    {
     "name": "stdout",
     "output_type": "stream",
     "text": [
      "120\n"
     ]
    }
   ],
   "source": [
    "n = 5\n",
    "result = 1\n",
    "for i in range(1, n + 1):\n",
    "    result *= i\n",
    "print(result)"
   ]
  },
  {
   "cell_type": "code",
   "execution_count": null,
   "id": "f503c311",
   "metadata": {},
   "outputs": [
    {
     "name": "stdout",
     "output_type": "stream",
     "text": [
      "10\n"
     ]
    }
   ],
   "source": [
    "num_v = 1234\n",
    "num_str = str(num_v)\n",
    "total = 0\n",
    "for char in num_str:\n",
    "    total += int(char)\n",
    "print(total)\n",
    "\n"
   ]
  },
  {
   "cell_type": "code",
   "execution_count": 164,
   "id": "7a28c6c3",
   "metadata": {},
   "outputs": [
    {
     "name": "stdout",
     "output_type": "stream",
     "text": [
      "29\n"
     ]
    }
   ],
   "source": [
    "num_v = 9875\n",
    "total = 0\n",
    "while num_v > 0:\n",
    "    last_digit = num_v % 10\n",
    "    total += last_digit\n",
    "    num_v = num_v // 10\n",
    "\n",
    "print(total)"
   ]
  },
  {
   "cell_type": "code",
   "execution_count": null,
   "id": "f24de7e4",
   "metadata": {},
   "outputs": [
    {
     "name": "stdout",
     "output_type": "stream",
     "text": [
      "False\n",
      "False\n",
      "True\n",
      "True\n"
     ]
    }
   ],
   "source": [
    "num = int(input('Enter a num'))\n",
    "for i in range(2, num):\n",
    "    if num % i == 0:\n",
    "        print(False)\n",
    "        break\n",
    "    else:\n",
    "        print(True)\n",
    "\n",
    "i = 2\n",
    "while i < num:\n",
    "    if num % i == 0:\n",
    "        print(False)\n",
    "    elif i += 1:\n",
    "        \n",
    "    else:    \n",
    "        print(True)"
   ]
  },
  {
   "cell_type": "code",
   "execution_count": null,
   "id": "571f3d20",
   "metadata": {},
   "outputs": [
    {
     "name": "stdout",
     "output_type": "stream",
     "text": [
      "\n"
     ]
    }
   ],
   "source": [
    "def get_word(sentence, n):\n",
    "\t# Only proceed if n is positive \n",
    "\tif n > 0:\n",
    "\t\twords = sentence.split()\n",
    "\t\t# Only proceed if n is not more than the number of words \n",
    "\t\tif n <= len(words):\n",
    "\t\t\treturn(words)\n",
    "\treturn(\"\")\n",
    "\n"
   ]
  },
  {
   "cell_type": "code",
   "execution_count": 169,
   "id": "a897923b",
   "metadata": {},
   "outputs": [
    {
     "name": "stdout",
     "output_type": "stream",
     "text": [
      "tstng\n"
     ]
    }
   ],
   "source": [
    "sent = input('Enter a sent:')\n",
    "vowels = ('a', 'e', 'i', 'o', 'u')\n",
    "result = ''\n",
    "for char in sent:\n",
    "    if char.lower() not in vowels:\n",
    "        result += char\n",
    "print(result)"
   ]
  },
  {
   "cell_type": "code",
   "execution_count": null,
   "id": "cf216ada",
   "metadata": {},
   "outputs": [
    {
     "name": "stdout",
     "output_type": "stream",
     "text": [
      "The sum is 15 and the count is 5 and the average is 3.0.\n"
     ]
    }
   ],
   "source": [
    "num = int(input('Enter a num'))\n",
    "total = 0\n",
    "count = 0\n",
    "for i in range(1, num + 1):\n",
    "    total += i\n",
    "    count += 1\n",
    "print(f'The sum is {total} and the count is {count} and the average is {total / count}.')"
   ]
  },
  {
   "cell_type": "code",
   "execution_count": 181,
   "id": "0280a26e",
   "metadata": {},
   "outputs": [
    {
     "name": "stdout",
     "output_type": "stream",
     "text": [
      "nohtyP\n"
     ]
    }
   ],
   "source": [
    "word = 'Python'\n",
    "rev_word = ''\n",
    "for char in word:\n",
    "    rev_word = char + rev_word\n",
    "print(rev_word)"
   ]
  },
  {
   "cell_type": "code",
   "execution_count": 185,
   "id": "cb2701af",
   "metadata": {},
   "outputs": [
    {
     "name": "stdout",
     "output_type": "stream",
     "text": [
      "Letters : 8, Digits : 3, Spaces : 3\n"
     ]
    }
   ],
   "source": [
    "sent = input('Enter a sent:')\n",
    "letters = 0\n",
    "digits = 0\n",
    "spaces = 0\n",
    "for char in sent:\n",
    "    if char.isnumeric():\n",
    "        digits += 1\n",
    "    elif char.isalpha():\n",
    "        letters += 1\n",
    "    else:\n",
    "        char.isspace()\n",
    "        spaces += 1\n",
    "print(f'Letters : {letters}, Digits : {digits}, Spaces : {spaces}')"
   ]
  },
  {
   "cell_type": "code",
   "execution_count": 188,
   "id": "f6a9d71e",
   "metadata": {},
   "outputs": [
    {
     "name": "stdout",
     "output_type": "stream",
     "text": [
      " Upper Chars : 4 Lower Chars : 7\n"
     ]
    }
   ],
   "source": [
    "sent = input('Enter a sent:')\n",
    "upper_count = 0\n",
    "lower_count = 0\n",
    "for char in sent:\n",
    "    if char.islower():\n",
    "        lower_count += 1\n",
    "    elif char.isupper():\n",
    "        upper_count += 1\n",
    "print(f' Upper Chars : {upper_count} Lower Chars : {lower_count}')"
   ]
  },
  {
   "cell_type": "code",
   "execution_count": 189,
   "id": "b189a253",
   "metadata": {},
   "outputs": [
    {
     "name": "stdout",
     "output_type": "stream",
     "text": [
      "3\n"
     ]
    }
   ],
   "source": [
    "sent = input('Enter a sent:')\n",
    "word_count = 0\n",
    "in_word = False\n",
    "for char in sent:\n",
    "    if char != ' ' and in_word == False:\n",
    "        word_count += 1\n",
    "        in_word = True\n",
    "    else:\n",
    "        if char == ' ':\n",
    "            in_word = False\n",
    "print(word_count)"
   ]
  },
  {
   "cell_type": "code",
   "execution_count": 191,
   "id": "6a5ca7f1",
   "metadata": {},
   "outputs": [
    {
     "name": "stdout",
     "output_type": "stream",
     "text": [
      "3\n"
     ]
    }
   ],
   "source": [
    "sent = input('Enter a sent')\n",
    "count = 0\n",
    "in_num = False\n",
    "for char in sent:\n",
    "    if char.isdigit() and in_num == False:\n",
    "        count += 1\n",
    "        in_num = True\n",
    "    elif not char.isdigit():\n",
    "        in_num = False\n",
    "print(count)"
   ]
  },
  {
   "cell_type": "code",
   "execution_count": null,
   "id": "bc7583b7",
   "metadata": {},
   "outputs": [
    {
     "name": "stdout",
     "output_type": "stream",
     "text": [
      "True\n"
     ]
    }
   ],
   "source": [
    "sent = input('Enter a sent')\n",
    "in_num = False\n",
    "for char in sent:\n",
    "    if char.isdigit() and in_num == False:\n",
    "        in_num = True\n",
    "print(in_num)"
   ]
  },
  {
   "cell_type": "code",
   "execution_count": null,
   "id": "102bdec8",
   "metadata": {},
   "outputs": [
    {
     "name": "stdout",
     "output_type": "stream",
     "text": [
      "Found 2 or more num groups\n"
     ]
    }
   ],
   "source": [
    "sent = input('Enter a sent')\n",
    "in_num = False\n",
    "count = 0\n",
    "for char in sent:\n",
    "    if char.isdigit() and in_num == False:\n",
    "        count += 1\n",
    "        in_num = True\n",
    "        if count >= 2:\n",
    "            break\n",
    "    elif not char.isdigit():\n",
    "        in_num = False\n",
    "\n",
    "if count >= 2:\n",
    "    print('Found 2 or more num groups')"
   ]
  },
  {
   "cell_type": "code",
   "execution_count": 203,
   "id": "0c3d73fc",
   "metadata": {},
   "outputs": [
    {
     "name": "stdout",
     "output_type": "stream",
     "text": [
      "Num group less than 3\n"
     ]
    }
   ],
   "source": [
    "sent = input('Enter a sent')\n",
    "in_num = False\n",
    "count = 0\n",
    "for char in sent:\n",
    "    if char.isdigit() and in_num == False:\n",
    "        count += 1\n",
    "        in_num = True\n",
    "        if count >= 3:\n",
    "            print('Num group equal or greater than 3')\n",
    "            break\n",
    "    elif not char.isdigit():\n",
    "        in_num = False\n",
    "if count < 3:\n",
    "    print('Num group less than 3')"
   ]
  },
  {
   "cell_type": "code",
   "execution_count": null,
   "id": "89fdd91f",
   "metadata": {},
   "outputs": [
    {
     "name": "stdout",
     "output_type": "stream",
     "text": [
      "pythn prgrmmng\n"
     ]
    }
   ],
   "source": [
    "sent = input('Enter a sent')\n",
    "vowels = 'aeiouAEIOU'\n",
    "new_sent = ''\n",
    "for char in sent:\n",
    "    if char not in vowels:\n",
    "        new_sent += char\n",
    "print(new_sent)"
   ]
  },
  {
   "cell_type": "code",
   "execution_count": null,
   "id": "b697e17b",
   "metadata": {},
   "outputs": [
    {
     "name": "stdout",
     "output_type": "stream",
     "text": [
      "pyth*n *s f*n\n"
     ]
    }
   ],
   "source": [
    "sent = input('Enter a sent')\n",
    "vowels = 'aeiouAEIOU'\n",
    "new_sent = ''\n",
    "for char in sent:\n",
    "    if char not in vowels:\n",
    "        new_sent += char\n",
    "    elif char in vowels:\n",
    "        new_sent += '*'\n",
    "print(new_sent)"
   ]
  },
  {
   "cell_type": "code",
   "execution_count": null,
   "id": "a1fb25b6",
   "metadata": {},
   "outputs": [
    {
     "name": "stdout",
     "output_type": "stream",
     "text": [
      "thisisatests\n"
     ]
    }
   ],
   "source": [
    "sent = input('Enter a sent')\n",
    "split_sent = sent.split()\n",
    "seen = set()\n",
    "words_found = []\n",
    "for word in split_sent:\n",
    "    if word.lower() not in seen:\n",
    "        words_found.append(word)\n",
    "        seen.add(word.lower())\n",
    "\n",
    "print(' '.join(words_found))\n",
    "        "
   ]
  },
  {
   "cell_type": "code",
   "execution_count": 210,
   "id": "d428fe1f",
   "metadata": {},
   "outputs": [
    {
     "name": "stdout",
     "output_type": "stream",
     "text": [
      "siht si rehtona tset\n"
     ]
    }
   ],
   "source": [
    "sent = input('Enter a sent')\n",
    "split_sent = sent.split()\n",
    "new_sent = []\n",
    "for word in split_sent:\n",
    "    new_sent.append(word[::-1])\n",
    "print(' '.join(new_sent))"
   ]
  },
  {
   "cell_type": "code",
   "execution_count": 211,
   "id": "a77a2e62",
   "metadata": {},
   "outputs": [
    {
     "name": "stdout",
     "output_type": "stream",
     "text": [
      "testing\n"
     ]
    }
   ],
   "source": [
    "sent = input('Enter a sent')\n",
    "split_sent = sent.split()\n",
    "longest_word = split_sent[0]\n",
    "for word in split_sent:\n",
    "    if len(word) > len(longest_word):\n",
    "        longest_word = word\n",
    "print(longest_word)"
   ]
  },
  {
   "cell_type": "code",
   "execution_count": 213,
   "id": "9cc22410",
   "metadata": {},
   "outputs": [
    {
     "name": "stdout",
     "output_type": "stream",
     "text": [
      "3\n"
     ]
    }
   ],
   "source": [
    "sent = input('Enter a sent')\n",
    "split_sent = sent.split()\n",
    "count = 0\n",
    "for word in split_sent:\n",
    "    if len(word) == 4:\n",
    "        count += 1\n",
    "print(count)"
   ]
  },
  {
   "cell_type": "code",
   "execution_count": null,
   "id": "0da50dd2",
   "metadata": {},
   "outputs": [
    {
     "name": "stdout",
     "output_type": "stream",
     "text": [
      "a new word to replace\n"
     ]
    }
   ],
   "source": [
    "sent = input('Enter a sent')\n",
    "word_to_replace = input('Enter a the word to replace')\n",
    "new_word = input('Enter new word')\n",
    "result = []\n",
    "split_sent = sent.split()\n",
    "for word in split_sent:\n",
    "    if word.lower() == word_to_replace.lower():\n",
    "        result.append(new_word)\n",
    "    else:\n",
    "        result.append(word)\n",
    "print(' '.join(result))\n"
   ]
  },
  {
   "cell_type": "code",
   "execution_count": null,
   "id": "b3a4519d",
   "metadata": {},
   "outputs": [],
   "source": []
  }
 ],
 "metadata": {
  "kernelspec": {
   "display_name": "Python 3",
   "language": "python",
   "name": "python3"
  },
  "language_info": {
   "codemirror_mode": {
    "name": "ipython",
    "version": 3
   },
   "file_extension": ".py",
   "mimetype": "text/x-python",
   "name": "python",
   "nbconvert_exporter": "python",
   "pygments_lexer": "ipython3",
   "version": "3.12.7"
  }
 },
 "nbformat": 4,
 "nbformat_minor": 5
}
