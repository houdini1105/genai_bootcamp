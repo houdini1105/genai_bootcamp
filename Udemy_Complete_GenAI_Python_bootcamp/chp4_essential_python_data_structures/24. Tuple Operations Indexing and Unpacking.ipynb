{
 "cells": [
  {
   "cell_type": "code",
   "execution_count": null,
   "id": "6c760887",
   "metadata": {},
   "outputs": [
    {
     "name": "stdout",
     "output_type": "stream",
     "text": [
      "(37.7749, -122.4194, 'Latitiude', 'Longitude')\n",
      "(1, 2, 1, 2, 1, 2)\n",
      "(2, 3)\n",
      "(5, 4, 3, 2, 1)\n",
      "3\n",
      "Data label: Latitiude\n",
      "Data label: Longitude\n",
      "[3, 4, 10]\n"
     ]
    }
   ],
   "source": [
    "# Chp4 Ep24. Tuple Operations Indexing and Unpacking\n",
    "# Concatenating tuples\n",
    "coordinates = (37.7749, -122.4194)\n",
    "meta_data = ('Latitiude', 'Longitude')\n",
    "full_data = coordinates + meta_data # Use + to combine tuples\n",
    "print(full_data)\n",
    "\n",
    "# Repeating tuples\n",
    "repeated_tuples = (1, 2) * 3 # this will repeat the tuple 3 times\n",
    "print(repeated_tuples)\n",
    "\n",
    "# Slicing tuples\n",
    "tuple_data = (1, 2, 3, 4, 5)\n",
    "sliced = tuple_data[1:3] # index 1 included index 3 excluded\n",
    "print(sliced)\n",
    "\n",
    "reversed_data = tuple_data[::-1] # Reverse the order\n",
    "print(reversed_data)\n",
    "\n",
    "# Counting method (count())\n",
    "my_tuple = (1, 2, 2, 3, 4, 2)\n",
    "print(my_tuple.count(2)) # Pass the argument for the count in ()\n",
    "\n",
    "# iteration use a for loop\n",
    "for label in meta_data:\n",
    "    print(f'Data label: {label}')\n",
    "\n",
    "# Sorting tuples (remember they are immutable)\n",
    "t1 = (4, 3, 10)\n",
    "print(sorted(t1))\n",
    "# Methods that change their countings such as append, remove or insert\n",
    "\n",
    "# Best practices\n",
    "# Avoid unnessacary conversion to list\n",
    "# Use when data needs to ne secured and unchangeable"
   ]
  },
  {
   "cell_type": "code",
   "execution_count": null,
   "id": "abead0cb",
   "metadata": {},
   "outputs": [],
   "source": []
  }
 ],
 "metadata": {
  "kernelspec": {
   "display_name": "Python 3",
   "language": "python",
   "name": "python3"
  },
  "language_info": {
   "codemirror_mode": {
    "name": "ipython",
    "version": 3
   },
   "file_extension": ".py",
   "mimetype": "text/x-python",
   "name": "python",
   "nbconvert_exporter": "python",
   "pygments_lexer": "ipython3",
   "version": "3.12.7"
  }
 },
 "nbformat": 4,
 "nbformat_minor": 5
}
