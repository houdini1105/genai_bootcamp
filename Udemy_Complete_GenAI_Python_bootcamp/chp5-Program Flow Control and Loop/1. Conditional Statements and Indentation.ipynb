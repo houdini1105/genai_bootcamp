{
 "cells": [
  {
   "cell_type": "code",
   "execution_count": null,
   "id": "f35e58ab",
   "metadata": {},
   "outputs": [
    {
     "name": "stdout",
     "output_type": "stream",
     "text": [
      " It's cold, you might need a jacket.\n",
      "Its cold, grab a jacket.\n"
     ]
    }
   ],
   "source": [
    "# Chp5 Ep1. Conditional Statements and Indentation\n",
    "# Program Flow Control\n",
    "# Conditional Statements (if...elif...else)\n",
    "# Basic syntax\n",
    "#if some_condition_is_true: # check the first conition, if its true, run code block 1, if not, move to the next condition\n",
    "    # code block 1 # The indentation must be the same amount (4 spaces or tab)\n",
    "    # Indentation defines the block of code\n",
    "#elif some_other_condition_is_true: # check the second conition, if its true, run code block 2, if not, move to the next condition\n",
    "    # code block 2\n",
    "#else:\n",
    "    # code block 3 # if none are true run this code\n",
    "\n",
    "# Example of what a user should wear based on temperature\n",
    "temperature = int(input('Enter the temperature in celsius:'))\n",
    "\n",
    "if temperature < 0:\n",
    "    print(\"It's freezing, wear a coat!\")\n",
    "elif temperature < 15:\n",
    "    print(\" It's cold, you might need a jacket.\")\n",
    "elif temperature < 27:\n",
    "    print(\"The weather is mild.\")\n",
    "else:\n",
    "    print(\"It's hot, wear shorts.\")\n",
    "\n",
    "# Only the block of code under beneath the first true condition is executed. Once it finds\n",
    "# a condition that is true it stops checking. It doesn't matter if other conditions are \n",
    "# true, they will not be tested once the first condition equals true.\n",
    "\n",
    "temp = 10 # This value could satisy multiple conditions\n",
    "if temp < 15: # Only this block of code will be executed as the condition is True\n",
    "    print('Its cold, grab a jacket.')\n",
    "elif temp < 27:\n",
    "    print('Its mild.')\n",
    "else:\n",
    "    print('Its hot.')\n",
    "# Once the condition is met, the rest of the code is ignored."
   ]
  },
  {
   "cell_type": "code",
   "execution_count": null,
   "id": "b07b42f1",
   "metadata": {},
   "outputs": [],
   "source": []
  },
  {
   "cell_type": "code",
   "execution_count": null,
   "id": "4a8f9055",
   "metadata": {},
   "outputs": [],
   "source": []
  }
 ],
 "metadata": {
  "kernelspec": {
   "display_name": "Python 3",
   "language": "python",
   "name": "python3"
  },
  "language_info": {
   "codemirror_mode": {
    "name": "ipython",
    "version": 3
   },
   "file_extension": ".py",
   "mimetype": "text/x-python",
   "name": "python",
   "nbconvert_exporter": "python",
   "pygments_lexer": "ipython3",
   "version": "3.12.7"
  }
 },
 "nbformat": 4,
 "nbformat_minor": 5
}
