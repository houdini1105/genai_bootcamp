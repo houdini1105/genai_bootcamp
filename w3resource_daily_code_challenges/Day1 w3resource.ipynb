{
 "cells": [
  {
   "cell_type": "code",
   "execution_count": null,
   "id": "b464756c",
   "metadata": {},
   "outputs": [
    {
     "name": "stdout",
     "output_type": "stream",
     "text": [
      "Twinkle, twinkle, little star,\n",
      "\n",
      " How I wonder what you are! \n",
      "\n",
      "\t Up above the world so high, \n",
      "\n",
      "\t Like a diamond in the sky. \n",
      "Twinkle, twinkle, little star, \n",
      "How I wonder what you are\n"
     ]
    }
   ],
   "source": [
    "# 7/3/25 Exercise 1 - pass\n",
    "\n",
    "# Write a Python program to print the following string in a specific format (see the output).\n",
    "# Sample String : \"Twinkle, twinkle, little star, How I wonder what you are! Up above the world so high, Like a diamond in the sky. Twinkle, twinkle, little star, How I wonder what you are\"\n",
    "# Output :\n",
    "\n",
    "# Twinkle, twinkle, little star,\n",
    "# \tHow I wonder what you are! \n",
    "# \t\tUp above the world so high,   \t\t\n",
    "# \t\tLike a diamond in the sky. \n",
    "# Twinkle, twinkle, little star, \n",
    "# \tHow I wonder what you are\n",
    "\n",
    "# This code prints a formatted version of the given string.\n",
    "# Use \\n for new lines and \\t for tabs to format the output.\n",
    "# Can write as a single string with escape characters or use triple quotes for multi-line strings.\n",
    "# Use triple quotes to maintain the format and include newlines and tabs as needed.\n",
    "text = ('''Twinkle, twinkle, little star,\n",
    "\\n How I wonder what you are! \n",
    "\\n\\t Up above the world so high, \n",
    "\\n\\t Like a diamond in the sky. \\nTwinkle, twinkle, little star, \n",
    "How I wonder what you are''') # \\n# New line, \\t# Tab\n",
    "print(text)"
   ]
  },
  {
   "cell_type": "code",
   "execution_count": null,
   "id": "c9e976fd",
   "metadata": {},
   "outputs": [
    {
     "name": "stdout",
     "output_type": "stream",
     "text": [
      "Python version\n",
      "3.12.7 | packaged by Anaconda, Inc. | (main, Oct  4 2024, 13:17:27) [MSC v.1929 64 bit (AMD64)]\n",
      "Version info.\n",
      "sys.version_info(major=3, minor=12, micro=7, releaselevel='final', serial=0)\n",
      "Python paths: ['c:\\\\Users\\\\denni\\\\Documents\\\\genai_bootcamp\\\\venv1\\\\python312.zip', 'c:\\\\Users\\\\denni\\\\Documents\\\\genai_bootcamp\\\\venv1\\\\DLLs', 'c:\\\\Users\\\\denni\\\\Documents\\\\genai_bootcamp\\\\venv1\\\\Lib', 'c:\\\\Users\\\\denni\\\\Documents\\\\genai_bootcamp\\\\venv1', '', 'c:\\\\Users\\\\denni\\\\Documents\\\\genai_bootcamp\\\\venv1\\\\Lib\\\\site-packages', 'c:\\\\Users\\\\denni\\\\Documents\\\\genai_bootcamp\\\\venv1\\\\Lib\\\\site-packages\\\\win32', 'c:\\\\Users\\\\denni\\\\Documents\\\\genai_bootcamp\\\\venv1\\\\Lib\\\\site-packages\\\\win32\\\\lib', 'c:\\\\Users\\\\denni\\\\Documents\\\\genai_bootcamp\\\\venv1\\\\Lib\\\\site-packages\\\\Pythonwin']\n"
     ]
    }
   ],
   "source": [
    "# Exercise 2 - Fail\n",
    "\n",
    "# Write a Python program to find out what version of Python you are using.\n",
    "import sys  # Import the sys module to access system-specific parameters and functions\n",
    "\n",
    "# Print the Python version to the console\n",
    "print(\"Python version\")\n",
    "\n",
    "# Use the sys.version attribute to get the Python version and print it\n",
    "print(sys.version)\n",
    "\n",
    "# Print information about the Python version\n",
    "print(\"Version info.\")\n",
    "\n",
    "# Use the sys.version_info attribute to get detailed version information and print it\n",
    "print(sys.version_info)\n",
    "# # The sys module provides access to some variables used or maintained by the interpreter and functions that interact with the interpreter.\n",
    "#  | Feature                                 | Description                                       | Example                     |\n",
    "# | --------------------------------------- | ------------------------------------------------- | --------------------------- |\n",
    "# | `sys.version`                           | Python version info                               | `print(sys.version)`        |\n",
    "# | `sys.argv`                              | Command-line arguments                            | `print(sys.argv)`           |\n",
    "# | `sys.exit()`                            | Exit the program                                  | `sys.exit(0)`               |\n",
    "# | `sys.path`                              | List of import paths (used for module resolution) | `print(sys.path)`           |\n",
    "# | `sys.stdin`, `sys.stdout`, `sys.stderr` | Standard input/output/error streams               | `sys.stdout.write(\"Hello\")` |\n",
    "# | `sys.platform`                          | OS platform identifier                            | `print(sys.platform)`       |\n",
    "print('Python paths:', sys.path)  # Print the list of paths where Python looks for modules\n"
   ]
  },
  {
   "cell_type": "code",
   "execution_count": null,
   "id": "abd9720a",
   "metadata": {},
   "outputs": [
    {
     "name": "stdout",
     "output_type": "stream",
     "text": [
      "Current date and time: 2025-07-03 19:47:20.534234\n"
     ]
    }
   ],
   "source": [
    "# 3. Current DateTime Display - Fail\n",
    "\n",
    "# Write a Python program to display the current date and time.\n",
    "# Sample Output :\n",
    "# Current date and time :\n",
    "# To display the current date and time in Python, use the datetime module:\n",
    "from datetime import datetime # Import the datetime class from the datetime module\n",
    "\n",
    "now = datetime.now() # Get the current date and time\n",
    "# The datetime.now() method returns the current local date and time as a datetime object\n",
    "print('Current date and time:', now)\n"
   ]
  },
  {
   "cell_type": "code",
   "execution_count": null,
   "id": "a1c1fc4e",
   "metadata": {},
   "outputs": [
    {
     "name": "stdout",
     "output_type": "stream",
     "text": [
      "Area = 113.09733552923255\n"
     ]
    }
   ],
   "source": [
    "# 4. Circle Area Calculator - Pass\n",
    "\n",
    "# Write a Python program that calculates the area of a circle based on the radius entered by the user.\n",
    "# Sample Output :\n",
    "# r = 1.1\n",
    "# Area = 3.8013271108436504\n",
    "number = float(input(\"Enter the radius of the circle: \"))  # Prompt user for radius input\n",
    "pi = 3.141592653589793  # Define the value of pi\n",
    "area = pi * (number ** 2)  # Calculate the area using the formula: area = π * r^2\n",
    "print(\"Area =\", area)  # Print the calculated area"
   ]
  },
  {
   "cell_type": "code",
   "execution_count": null,
   "id": "21a40f87",
   "metadata": {},
   "outputs": [
    {
     "name": "stdout",
     "output_type": "stream",
     "text": [
      "Reversed name: name test\n"
     ]
    }
   ],
   "source": [
    "# 5. Reverse Full Name - Pass\n",
    "\n",
    "# Write a Python program that accepts the user's first and last name and prints them in reverse order with a space between them.\n",
    "name = input(\"Enter your first and last name: \")  # Prompt user for their full name\n",
    "# Split the name into first and last parts\n",
    "rev_name = name.split()  # Split the name into a list of words\n",
    "# Reverse the order of the name parts and join them with a space\n",
    "rev_name = ' '.join(rev_name[::-1])  # Reverse the list and join with a space, reverse the indexingq\n",
    "print(\"Reversed name:\", rev_name)  # Print the reversed name"
   ]
  },
  {
   "cell_type": "code",
   "execution_count": null,
   "id": "70899c35",
   "metadata": {},
   "outputs": [
    {
     "name": "stdout",
     "output_type": "stream",
     "text": [
      "List: ['10', ' 3', ' 5', ' 20']\n",
      "Tuple: ('10', ' 3', ' 5', ' 20')\n"
     ]
    }
   ],
   "source": [
    "# 6 List and Tuple Generation - Pass\n",
    "\n",
    "# Write a Python program that accepts a sequence of comma-separated numbers from the user and generates a list and a tuple of those numbers.\n",
    "# Sample data : 3, 5, 7, 23\n",
    "# Output :\n",
    "# List : ['3', ' 5', ' 7', ' 23']\n",
    "# Tuple : ('3', ' 5', ' 7', ' 23')\n",
    "user_input = input(\"Enter comma-separated numbers: \")  # Prompt user for input\n",
    "l1 = user_input.split(',')  # Split the input string into a list using comma as the delimiter\n",
    "l2 = tuple(l1)  # Convert the list to a tuple\n",
    "print(\"List:\", l1)  # Print the list\n",
    "print(\"Tuple:\", l2)  # Print the tuple"
   ]
  },
  {
   "cell_type": "code",
   "execution_count": null,
   "id": "1bf0d315",
   "metadata": {},
   "outputs": [
    {
     "name": "stdout",
     "output_type": "stream",
     "text": [
      "File extension: pdf\n"
     ]
    }
   ],
   "source": [
    "# 7/4/205 7. File Extension Extractor - Pass\n",
    "\n",
    "# Write a Python program that accepts a filename from the user and prints the extension of the file.\n",
    "# Sample filename : abc.java\n",
    "# Output : java\n",
    "filename = input(\"Enter the filename: \")  # Prompt user for a filename\n",
    "# Split the filename at the last dot to extract the extension\n",
    "file_extension = filename.split('.')[-1]  # Get the last part after the last dot\n",
    "print(\"File extension:\", file_extension)  # Print the extracted file extension"
   ]
  },
  {
   "cell_type": "code",
   "execution_count": null,
   "id": "117ff46d",
   "metadata": {},
   "outputs": [
    {
     "name": "stdout",
     "output_type": "stream",
     "text": [
      "First color: Red\n",
      "Last color: Black\n"
     ]
    }
   ],
   "source": [
    "# 8. First and Last Colors - Pass\n",
    "\n",
    "# Write a Python program to display the first and last colors from the following list.\n",
    "# color_list = [\"Red\",\"Green\",\"White\" ,\"Black\"]\n",
    "color_list = [\"Red\", \"Green\", \"White\", \"Black\"]  # Define the list of colors\n",
    "# Print the first and last colors from the list\n",
    "print(\"First color:\", color_list[0])  # Print the first color\n",
    "print(\"Last color:\", color_list[-1])  # Print the last color"
   ]
  },
  {
   "cell_type": "code",
   "execution_count": null,
   "id": "9fa5936c",
   "metadata": {},
   "outputs": [],
   "source": [
    "# 9. Exam Schedule Formatter - \n",
    "\n",
    "# Write a Python program to display the examination schedule. (extract the date from exam_st_date).\n",
    "# exam_st_date = (11, 12, 2014)\n",
    "# Sample Output : The examination will start from : 11 / 12 / 2014"
   ]
  }
 ],
 "metadata": {
  "kernelspec": {
   "display_name": "Python 3",
   "language": "python",
   "name": "python3"
  },
  "language_info": {
   "codemirror_mode": {
    "name": "ipython",
    "version": 3
   },
   "file_extension": ".py",
   "mimetype": "text/x-python",
   "name": "python",
   "nbconvert_exporter": "python",
   "pygments_lexer": "ipython3",
   "version": "3.12.7"
  }
 },
 "nbformat": 4,
 "nbformat_minor": 5
}
