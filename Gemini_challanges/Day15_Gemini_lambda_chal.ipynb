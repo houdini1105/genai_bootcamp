{
 "cells": [
  {
   "cell_type": "code",
   "execution_count": null,
   "id": "f8ac2617",
   "metadata": {},
   "outputs": [],
   "source": [
    "# Challenge 1:\n",
    "# Create a list of numbers from 1 to 10. Write a lambda expression to filter \n",
    "# out all the even numbers from this list. Store the result in a new list.\n",
    "numbers = [1, 2, 3, 4, 5, 6, 7, 8, 9, 10]\n",
    "empty_list = []\n",
    "even = list(filter(lambda x : x % 2 == 0, numbers))\n",
    "print(even)\n",
    "\n",
    "# Challenge 2:\n",
    "# You are given a list of dictionaries, where each dictionary represents \n",
    "# a person with 'name' and 'age' keys. Sort this list of dictionaries in \n",
    "# descending order based on the person's age using a lambda expression with \n",
    "# the sort() method.\n",
    "\n",
    "# Example list:\n",
    "# people = [{'name': 'Alice', 'age': 30}, {'name': 'Bob', 'age': 25}, {'name': 'Charlie', 'age': 35}]\n",
    "\n",
    "# Challenge 3:\n",
    "# Write a function called apply_operation that takes a list of numbers \n",
    "# and a lambda expression as arguments. The function should apply the \n",
    "# lambda expression to each number in the list and return a new list with the results.\n",
    "\n",
    "# Example of how the function should be used:\n",
    "# numbers = [1, 2, 3, 4, 5]\n",
    "# doubled_numbers = apply_operation(numbers, lambda x: x * 2)\n",
    "\n",
    "# Challenge 4:\n",
    "# Create a program that takes a sentence as input from the user. Use a \n",
    "# lambda expression with the sorted() function to sort the words in the sentence \n",
    "# based on their length, from shortest to longest. The output should be a list of \n",
    "# the sorted words.\n",
    "\n",
    "# Challenge 5:\n",
    "# Write a single-line lambda expression that takes three numbers and returns \n",
    "# the sum of the squares of the first two numbers, minus the third number. Call \n",
    "# this lambda expression with sample values to demonstrate its functionality."
   ]
  },
  {
   "cell_type": "code",
   "execution_count": null,
   "id": "126e1d01",
   "metadata": {},
   "outputs": [
    {
     "ename": "KeyError",
     "evalue": "-1",
     "output_type": "error",
     "traceback": [
      "\u001b[31m---------------------------------------------------------------------------\u001b[39m",
      "\u001b[31mKeyError\u001b[39m                                  Traceback (most recent call last)",
      "\u001b[36mCell\u001b[39m\u001b[36m \u001b[39m\u001b[32mIn[7]\u001b[39m\u001b[32m, line 7\u001b[39m\n\u001b[32m      1\u001b[39m \u001b[38;5;66;03m# Challenge 2:\u001b[39;00m\n\u001b[32m      2\u001b[39m \u001b[38;5;66;03m# You are given a list of dictionaries, where each dictionary represents \u001b[39;00m\n\u001b[32m      3\u001b[39m \u001b[38;5;66;03m# a person with 'name' and 'age' keys. Sort this list of dictionaries in \u001b[39;00m\n\u001b[32m      4\u001b[39m \u001b[38;5;66;03m# descending order based on the person's age using a lambda expression with \u001b[39;00m\n\u001b[32m      5\u001b[39m \u001b[38;5;66;03m# the sort() method.\u001b[39;00m\n\u001b[32m      6\u001b[39m friends = [{\u001b[33m'\u001b[39m\u001b[33mDiana\u001b[39m\u001b[33m'\u001b[39m : \u001b[32m30\u001b[39m}, {\u001b[33m'\u001b[39m\u001b[33mAna\u001b[39m\u001b[33m'\u001b[39m : \u001b[32m25\u001b[39m}, {\u001b[33m'\u001b[39m\u001b[33mTudor\u001b[39m\u001b[33m'\u001b[39m : \u001b[32m22\u001b[39m}]\n\u001b[32m----> \u001b[39m\u001b[32m7\u001b[39m \u001b[43mfriends\u001b[49m\u001b[43m.\u001b[49m\u001b[43msort\u001b[49m\u001b[43m(\u001b[49m\u001b[43mkey\u001b[49m\u001b[43m=\u001b[49m\u001b[38;5;28;43;01mlambda\u001b[39;49;00m\u001b[43m \u001b[49m\u001b[43mx\u001b[49m\u001b[43m:\u001b[49m\u001b[43m \u001b[49m\u001b[43mx\u001b[49m\u001b[43m[\u001b[49m\u001b[43m-\u001b[49m\u001b[32;43m1\u001b[39;49m\u001b[43m]\u001b[49m\u001b[43m)\u001b[49m\n\u001b[32m      8\u001b[39m \u001b[38;5;28mprint\u001b[39m(friends)\n",
      "\u001b[36mCell\u001b[39m\u001b[36m \u001b[39m\u001b[32mIn[7]\u001b[39m\u001b[32m, line 7\u001b[39m, in \u001b[36m<lambda>\u001b[39m\u001b[34m(x)\u001b[39m\n\u001b[32m      1\u001b[39m \u001b[38;5;66;03m# Challenge 2:\u001b[39;00m\n\u001b[32m      2\u001b[39m \u001b[38;5;66;03m# You are given a list of dictionaries, where each dictionary represents \u001b[39;00m\n\u001b[32m      3\u001b[39m \u001b[38;5;66;03m# a person with 'name' and 'age' keys. Sort this list of dictionaries in \u001b[39;00m\n\u001b[32m      4\u001b[39m \u001b[38;5;66;03m# descending order based on the person's age using a lambda expression with \u001b[39;00m\n\u001b[32m      5\u001b[39m \u001b[38;5;66;03m# the sort() method.\u001b[39;00m\n\u001b[32m      6\u001b[39m friends = [{\u001b[33m'\u001b[39m\u001b[33mDiana\u001b[39m\u001b[33m'\u001b[39m : \u001b[32m30\u001b[39m}, {\u001b[33m'\u001b[39m\u001b[33mAna\u001b[39m\u001b[33m'\u001b[39m : \u001b[32m25\u001b[39m}, {\u001b[33m'\u001b[39m\u001b[33mTudor\u001b[39m\u001b[33m'\u001b[39m : \u001b[32m22\u001b[39m}]\n\u001b[32m----> \u001b[39m\u001b[32m7\u001b[39m friends.sort(key=\u001b[38;5;28;01mlambda\u001b[39;00m x: \u001b[43mx\u001b[49m\u001b[43m[\u001b[49m\u001b[43m-\u001b[49m\u001b[32;43m1\u001b[39;49m\u001b[43m]\u001b[49m)\n\u001b[32m      8\u001b[39m \u001b[38;5;28mprint\u001b[39m(friends)\n",
      "\u001b[31mKeyError\u001b[39m: -1"
     ]
    }
   ],
   "source": [
    "# Challenge 2:\n",
    "# You are given a list of dictionaries, where each dictionary represents \n",
    "# a person with 'name' and 'age' keys. Sort this list of dictionaries in \n",
    "# descending order based on the person's age using a lambda expression with \n",
    "# the sort() method.\n",
    "friends = [{'Diana' : 30}, {'Ana' : 25}, {'Tudor' : 22}]\n",
    "friends.sort(key=lambda x: x[1])\n",
    "print(friends)"
   ]
  },
  {
   "cell_type": "code",
   "execution_count": null,
   "id": "b4c825e3",
   "metadata": {},
   "outputs": [],
   "source": []
  }
 ],
 "metadata": {
  "kernelspec": {
   "display_name": "Python 3",
   "language": "python",
   "name": "python3"
  },
  "language_info": {
   "codemirror_mode": {
    "name": "ipython",
    "version": 3
   },
   "file_extension": ".py",
   "mimetype": "text/x-python",
   "name": "python",
   "nbconvert_exporter": "python",
   "pygments_lexer": "ipython3",
   "version": "3.12.7"
  }
 },
 "nbformat": 4,
 "nbformat_minor": 5
}
