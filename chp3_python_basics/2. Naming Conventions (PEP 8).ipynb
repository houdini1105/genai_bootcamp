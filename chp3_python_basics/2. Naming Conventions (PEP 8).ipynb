{
 "cells": [
  {
   "cell_type": "code",
   "execution_count": null,
   "id": "c90828e7",
   "metadata": {},
   "outputs": [
    {
     "ename": "SyntaxError",
     "evalue": "invalid decimal literal (2998620724.py, line 10)",
     "output_type": "error",
     "traceback": [
      "  \u001b[36mCell\u001b[39m\u001b[36m \u001b[39m\u001b[32mIn[1]\u001b[39m\u001b[32m, line 10\u001b[39m\n\u001b[31m    \u001b[39m\u001b[31m1st_place = 'Gold' # invalid, starts with a digit\u001b[39m\n    ^\n\u001b[31mSyntaxError\u001b[39m\u001b[31m:\u001b[39m invalid decimal literal\n"
     ]
    }
   ],
   "source": [
    "# 2. Naming Conventions for variables (PEP 8)\n",
    "# PEP 8 python enchancement proposal 8 is the style guide for python code\n",
    "# https://peps.python.org/pep-0008/ \n",
    "# Naming conventions for variables: \n",
    "# Variable names should be lowercase, with words separated by underscores as necessary to improve readability.\n",
    "# Variable names can include letters, upper and lowercase, digits, and underscores.\n",
    "# Variable names should start with a letter or underscore, but not a digit.\n",
    "total_count = 100 # valid\n",
    "_hidden_value = 42 # valid nut not recommended\n",
    "1st_place = 'Gold' # invalid, starts with a digit\n",
    "# Avoid leading underscores for variable names unless you are defining a private variable in a class.\n",
    "# Underscores and double underscores are used for special methods in classes, like __init__ or __str__.\n",
    "# No special characters or spaces are allowed in variable names.\n",
    "user-name = 'Alice' # invalid, contains a hyphen\n",
    "user name = 'Bob' # invalid, contains a space\n",
    "# Dont use python reserved keywords as variable names (if, else, while, for, etc...).\n",
    "# Case sensitivity matters in Python, so 'Variable' and 'variable' are different.\n",
    "# Use snake_case for variable names, which is the standard convention in Pytho (lower case and underscores).\n",
    "# Avoid using single character variable names except for counters or iterators (like i, j, k).\n",
    "new_vlaue = 99 # valid\n",
    "total_items = 15 # valid\n",
    "maxValue = 100 # valid but not recommended, use snake_case instead of camelCase.\n",
    "# Dont shadow built-in functions or types with variable names and Avoid using names that are built into pythons functions or modules, like 'list', 'str', 'int', etc.\n",
    "list = [1, 2, 3] # valid but not recommended, overrides the built-in list type.\n",
    "# Defining constants:\n",
    "# Constants should be defined in all uppercase letters with words separated by underscores.\n",
    "PI = 3.14159  # valid, represents a mathematical constant\n",
    "DAYS_IN_YEAR = 365  # valid, represents a constant value\n",
    "MAX_CONNECTIONS = 10  # valid, represents a constant value\n"
   ]
  },
  {
   "cell_type": "code",
   "execution_count": null,
   "id": "cd48e624",
   "metadata": {},
   "outputs": [],
   "source": []
  }
 ],
 "metadata": {
  "kernelspec": {
   "display_name": "Python 3",
   "language": "python",
   "name": "python3"
  },
  "language_info": {
   "codemirror_mode": {
    "name": "ipython",
    "version": 3
   },
   "file_extension": ".py",
   "mimetype": "text/x-python",
   "name": "python",
   "nbconvert_exporter": "python",
   "pygments_lexer": "ipython3",
   "version": "3.12.7"
  }
 },
 "nbformat": 4,
 "nbformat_minor": 5
}
