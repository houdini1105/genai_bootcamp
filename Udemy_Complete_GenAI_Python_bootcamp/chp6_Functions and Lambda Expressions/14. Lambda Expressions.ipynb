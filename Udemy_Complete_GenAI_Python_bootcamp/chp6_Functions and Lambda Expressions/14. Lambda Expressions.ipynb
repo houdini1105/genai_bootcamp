{
 "cells": [
  {
   "cell_type": "code",
   "execution_count": 6,
   "id": "0c57593e",
   "metadata": {},
   "outputs": [
    {
     "name": "stdout",
     "output_type": "stream",
     "text": [
      "12\n",
      "16\n",
      "16\n",
      "100\n",
      "[('Tudor', 22), ('Ana', 25), ('Diana', 30)]\n",
      "[('Ana', 25), ('Tudor', 22), ('Diana', 30)]\n"
     ]
    }
   ],
   "source": [
    "# Chp6 Ep14. Lambda Expressions\n",
    "# Lambda expressions are another way of creating functions.\n",
    "# Lambda expressions are for quick one time task.\n",
    "# The are called anonymous functions because the dont have a name (they are a single line of logical code).\n",
    "# The terms lambda expresiions, lambda functions, anonymous functions or function literals can be used interchangeably.\n",
    "# Syntax\n",
    "# lambda parameters : expression\n",
    "\n",
    "# standard function example\n",
    "def add(a, b, c):\n",
    "    return a + b + c\n",
    "# lambda expression\n",
    "n = (lambda a, b, c: a + b + c)(3, 4, 5)\n",
    "print(n)\n",
    "\n",
    "# You can assign lambdas to variables\n",
    "square = lambda x: x ** 2\n",
    "print(square(4))\n",
    "\n",
    "# lambda also supports defualt functions\n",
    "square_one = lambda x=10: x ** 2\n",
    "print(square_one(4))\n",
    "print(square_one())\n",
    "\n",
    "friends = [('Diana', 30), ('Ana', 25), ('Tudor', 22)]\n",
    "friends.sort(key=lambda x: x[1]) # sort() takes a key argument (lambda) which uses a lambda expression to define a custom sorted\n",
    "# criteria. THe key parameter specifies a function that extracts a value from each element in a list (key=).\n",
    "# The list is sorted based on the extracted values. x represents each tuple in the list. x[1] accesses the 2nd\n",
    "# element iin the tuple.\n",
    "print(friends)\n",
    "friends.sort(key=lambda x: len(x[0])) # sort by length of key\n",
    "print(friends)"
   ]
  },
  {
   "cell_type": "code",
   "execution_count": null,
   "id": "9efb2269",
   "metadata": {},
   "outputs": [],
   "source": []
  }
 ],
 "metadata": {
  "kernelspec": {
   "display_name": "Python 3",
   "language": "python",
   "name": "python3"
  },
  "language_info": {
   "codemirror_mode": {
    "name": "ipython",
    "version": 3
   },
   "file_extension": ".py",
   "mimetype": "text/x-python",
   "name": "python",
   "nbconvert_exporter": "python",
   "pygments_lexer": "ipython3",
   "version": "3.12.7"
  }
 },
 "nbformat": 4,
 "nbformat_minor": 5
}
