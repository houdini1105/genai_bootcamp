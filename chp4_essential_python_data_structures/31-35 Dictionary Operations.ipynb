{
 "cells": [
  {
   "cell_type": "code",
   "execution_count": 20,
   "id": "41daf04d",
   "metadata": {},
   "outputs": [
    {
     "name": "stdout",
     "output_type": "stream",
     "text": [
      "{'Layer': 24, 'Units': 512, 'activation': 'relu'} 2326325217152\n",
      "{'Layer': 24, 'Units': 512, 'activation': 'relu'} 2326325217152\n",
      "{'Layer': 24, 'Units': 512, 'activation': 'gelu'} 2326325217152\n",
      "{'Layer': 24, 'Units': 512, 'activation': 'gelu'} 2326325217152\n",
      "{'Layer': 24, 'Units': 512, 'activation': 'gelu'} 2326325227904\n",
      "{'batch_size': 32, 'epochs': 10, 'learning_rage': 0.001, 'units': 128}\n",
      "{}\n",
      "dict_keys(['batch_size', 'epochs', 'learning_rage', 'units'])\n",
      "dict_values([32, 10, 0.001, 128])\n",
      "dict_items([('batch_size', 32), ('epochs', 10), ('learning_rage', 0.001), ('units', 128)])\n",
      "batch_size==>32\n",
      "epochs==>10\n",
      "learning_rage==>0.001\n",
      "units==>128\n",
      "False\n",
      "True\n",
      "True\n",
      "True\n"
     ]
    }
   ],
   "source": [
    "# Chp4 Ep31. Dictionary Operations Accessing, Updating, .get(), .keys(), and .values()\n",
    "# Assigment and copying\n",
    "# When you assign 1 dictionary to another, it does not create a copy\n",
    "# Both variables refer to the same memory address\n",
    "model_params = {'Layer' : 24, 'Units': 512, 'activation': 'relu'}\n",
    "shared_params = model_params\n",
    "print(shared_params, id(shared_params))\n",
    "print(model_params, id(model_params))\n",
    "\n",
    "model_params['activation'] = 'gelu'\n",
    "print(shared_params, id(shared_params))\n",
    "print(model_params, id(model_params))\n",
    "\n",
    "# To avoid, use the copy() method which creates an independent copy\n",
    "safe_params = model_params.copy()\n",
    "model_params['Layers'] = 48\n",
    "print(safe_params, id(safe_params))\n",
    "\n",
    "# The .update() method for merging dictionaries\n",
    "base_config = {'batch_size' : 32, 'epochs' : 10}\n",
    "version_config = {'learning_rage' : 0.001, 'units': 128}\n",
    "base_config.update(version_config)\n",
    "print(base_config)\n",
    "\n",
    "# THe .clear() will reset the dictionary\n",
    "model_params.clear()\n",
    "print(model_params)\n",
    "\n",
    "# Dictionary views with keys(), values() and items()\n",
    "print(base_config.keys())\n",
    "print(base_config.values())\n",
    "print(base_config.items()) # THis will return tuples\n",
    "# You can itterate over the tuples (using .items())\n",
    "for key, value in base_config.items():\n",
    "    print(f'{key}==>{value}')\n",
    "\n",
    "# Testing membership with in or not in\n",
    "print('learning_rate' in base_config) # THis will return False\n",
    "print('batch_size' in base_config.keys()) # This will return True, can also add .keys()\n",
    "print(0.001 in base_config.values()) # This will return True, can also add .values()\n",
    "# For key, value validation, wrap the pair in a tuple and use in with items\n",
    "print(('batch_size', 32) in base_config.items())"
   ]
  },
  {
   "cell_type": "code",
   "execution_count": null,
   "id": "6a00905a",
   "metadata": {},
   "outputs": [
    {
     "name": "stdout",
     "output_type": "stream",
     "text": [
      "30 {'name': 'Alice', 'city': 'New York'}\n",
      "Not Found\n",
      "('city', 'New York') {'name': 'Alice', 'age': 30}\n",
      "{'name': 'Alice', 'age': 30}\n"
     ]
    }
   ],
   "source": [
    "# Chp4 Ep32. Removing Items from a Dictionary\n",
    "# dict.pop(key)\n",
    "data = {'name' : 'Alice', 'age' : 30, 'city' : 'New York'}\n",
    "age = data.pop('age') # This will remove the age key and return the value\n",
    "print(age, data) # This will print 30 outside of the dict\n",
    "# If the key does not exist, it will return a error\n",
    "#country = data.pop('country') # THis will return an error\n",
    "# To avoid this error, provide a second argument and add a default value\n",
    "country = data.pop('country', 'Not Found') # Added a default value\n",
    "print(country)\n",
    "# dict.popitem() removes and returns last inserted key value pair as a tuple\n",
    "data = {'name' : 'Alice', 'age' : 30, 'city' : 'New York'}\n",
    "last_item = data.popitem()\n",
    "print(last_item, data)\n",
    "# del dict[]\n",
    "data = {'name' : 'Alice', 'age' : 30, 'city' : 'New York'}\n",
    "del data['city'] # THe key was key, value was deleted\n",
    "print(data)"
   ]
  },
  {
   "cell_type": "code",
   "execution_count": 14,
   "id": "9aa6d9ae",
   "metadata": {},
   "outputs": [
    {
     "name": "stdout",
     "output_type": "stream",
     "text": [
      "{'batch_size', 'optimizer'}\n",
      "Key:batch_size\n",
      "Key:epochs\n",
      "Value:32\n",
      "Value:adam\n",
      "Value:0.9\n",
      "batch_size==>32\n",
      "optimizer==>adam\n"
     ]
    }
   ],
   "source": [
    "# Chp4 Ep33. Set Operations and Iterating over Dictionaries\n",
    "# Dict keys and items act like sets allowing to perform set operations\n",
    "config_a = {'batch_size' : 32, 'optimizer' : 'adam'}\n",
    "config_b = {'batch_size' : 32, 'optimizer' : 'adam', 'momentum' : 0.9}\n",
    "common_keys = config_a.keys() & config_b.keys() # use the & to compare\n",
    "base_config = {'batch_size' : 32, 'epochs' : 10}\n",
    "print(common_keys) # This will display the shared hyperparameters \n",
    "# Iterating over keys, value and items\n",
    "# Iterate over keys\n",
    "for key in base_config:\n",
    "    print(f'Key:{key}')\n",
    "# Iterate over values\n",
    "for value in config_b.values():\n",
    "    print(f'Value:{value}')\n",
    "# itarate over keys and values\n",
    "for key, value in config_a.items():\n",
    "    print(f'{key}==>{value}')"
   ]
  },
  {
   "cell_type": "code",
   "execution_count": null,
   "id": "84213b77",
   "metadata": {},
   "outputs": [
    {
     "name": "stdout",
     "output_type": "stream",
     "text": [
      "{'a': 1, 'b': 3, 'c': 4}\n",
      "{'a': 1, 'b': 3, 'c': 4}\n"
     ]
    }
   ],
   "source": [
    "# Chp4 Ep34. Dictionary Merge and Update Operators\n",
    "# Dictionary merge (|) and update (|=) operators\n",
    "# | allows you to merge 2 dictionaries into 1\n",
    "dict1 = {'a' : 1, 'b' : 2}\n",
    "dict2 = {'b' : 3, 'c' : 4}\n",
    "merged_dict = dict1 | dict2 # THis will create a new dictionary\n",
    "print(merged_dict) # If there are overlapping keys, it will overwrite the value from right to left\n",
    "# This method is usual when you do not want to modify the org dicts\n",
    "# |= update operator this operator updates the keys and values on the left from the right\n",
    "dict1 |= dict2\n",
    "print(dict1)\n"
   ]
  },
  {
   "cell_type": "code",
   "execution_count": 9,
   "id": "5e456d57",
   "metadata": {},
   "outputs": [
    {
     "name": "stdout",
     "output_type": "stream",
     "text": [
      "{'Dave', 'Charlie', 'Alice', 'Bob'}\n",
      "{'Layers': 6, 'units': 512, 'dropout': 0.4}\n",
      "{'LAYERS', 'UNITS'}\n",
      "{2020: 10000, 2021: 25000, 2022: 50000}\n",
      "{2022: 7500.0, 2023: 11250.0, 2024: 15000.0}\n"
     ]
    }
   ],
   "source": [
    "# Cp4 Ep35. Dictionary Comprehensions\n",
    "# Set and dictionary comprehensions\n",
    "# Set comprehensions\n",
    "names = {'alice', 'Bob', 'CHarLie', 'DAVE'}\n",
    "formatted_names = {name.capitalize() for name in names}\n",
    "print(formatted_names)\n",
    "\n",
    "# Dictionary comprehensions\n",
    "hyperparams = {'Layers' : 3, 'units' : 256, 'dropout' : 0.2}\n",
    "adjusted_params = {k: v * 2 for k, v in hyperparams.items()}\n",
    "print(adjusted_params)\n",
    "\n",
    "updated_params = {k.upper() for k, v in hyperparams.items() if v > 0.2}\n",
    "print(updated_params)\n",
    "\n",
    "# Zip() for pairing data from two seperate list into a single dict\n",
    "years = [2020, 2021, 2022]\n",
    "dataset_sizes = [10000, 25000, 50000]\n",
    "data_growth = dict(zip(years, dataset_sizes))\n",
    "print(data_growth)\n",
    "\n",
    "sales = {2022: 50000, 2023:75000, 2024:100000}\n",
    "profilt = {year: revenue * 0.15 for year, revenue in sales.items()}\n",
    "print(profilt)"
   ]
  },
  {
   "cell_type": "code",
   "execution_count": null,
   "id": "3b1af71a",
   "metadata": {},
   "outputs": [],
   "source": []
  }
 ],
 "metadata": {
  "kernelspec": {
   "display_name": "Python 3",
   "language": "python",
   "name": "python3"
  },
  "language_info": {
   "codemirror_mode": {
    "name": "ipython",
    "version": 3
   },
   "file_extension": ".py",
   "mimetype": "text/x-python",
   "name": "python",
   "nbconvert_exporter": "python",
   "pygments_lexer": "ipython3",
   "version": "3.12.7"
  }
 },
 "nbformat": 4,
 "nbformat_minor": 5
}
