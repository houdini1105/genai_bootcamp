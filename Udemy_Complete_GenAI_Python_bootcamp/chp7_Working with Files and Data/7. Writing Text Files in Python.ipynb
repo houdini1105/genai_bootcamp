{
 "cells": [
  {
   "cell_type": "code",
   "execution_count": null,
   "id": "5f12dd0e",
   "metadata": {},
   "outputs": [],
   "source": [
    "# Chp7 Ep7. Writing Text Files in Python\n",
    "# Use the write method write()\n",
    "with open('my_file.txt', 'wt') as f: # The file will be created if does not exist or overwritten if it does.\n",
    "    f.write('Just a line.\\n') # Create a new line and adds \\n for new next line\n",
    "# A common mistake is overwriting a file (w)mode instead of opening the file in append mode to add new content to the end of the file\n",
    "    f.write('Just a 2nd line.')\n",
    "\n",
    "# How to perserve the org file by appending(a) to the end of the file\n",
    "with open('my_file.txt', 'at') as f: # Use a mode instead of w\n",
    "    f.write('Some text here.\\n')\n",
    "    f.write('Another line.')\n",
    "# append mode always adds new content to the end of the file\n",
    "\n",
    "with open('my_file.txt', 'r+') as f: # access mode, this line will be added at the beginning of the file\n",
    "    f.write('Line will be added with r+\\n')\n",
    "# When using r+, the file must already exist\n",
    "# If you want to add content to a specific position, you can move the cursor to that position\n",
    "with open('my_file.txt', 'r+') as f: # access mode, this line will be added at the beginning of the file\n",
    "    f.seek(5) # This will place the cursor @ position 5\n",
    "    f.write('100') # 100 will be written @ position 5\n",
    "    f.write('Line will be added with r+\\n')"
   ]
  },
  {
   "cell_type": "code",
   "execution_count": null,
   "id": "a1007f56",
   "metadata": {},
   "outputs": [],
   "source": []
  }
 ],
 "metadata": {
  "kernelspec": {
   "display_name": "Python 3",
   "language": "python",
   "name": "python3"
  },
  "language_info": {
   "codemirror_mode": {
    "name": "ipython",
    "version": 3
   },
   "file_extension": ".py",
   "mimetype": "text/x-python",
   "name": "python",
   "nbconvert_exporter": "python",
   "pygments_lexer": "ipython3",
   "version": "3.12.7"
  }
 },
 "nbformat": 4,
 "nbformat_minor": 5
}
