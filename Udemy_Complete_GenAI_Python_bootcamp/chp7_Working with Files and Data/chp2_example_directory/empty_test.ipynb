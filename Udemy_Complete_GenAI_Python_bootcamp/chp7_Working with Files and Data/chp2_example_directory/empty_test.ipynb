{
 "cells": [
  {
   "cell_type": "code",
   "execution_count": 1,
   "id": "d24bbc5e",
   "metadata": {},
   "outputs": [],
   "source": [
    "# Chp7 Ep2\n",
    "f = open('../settings.txt')"
   ]
  },
  {
   "cell_type": "code",
   "execution_count": null,
   "id": "e34bec5b",
   "metadata": {},
   "outputs": [],
   "source": []
  }
 ],
 "metadata": {
  "kernelspec": {
   "display_name": "Python 3",
   "language": "python",
   "name": "python3"
  },
  "language_info": {
   "codemirror_mode": {
    "name": "ipython",
    "version": 3
   },
   "file_extension": ".py",
   "mimetype": "text/x-python",
   "name": "python",
   "nbconvert_exporter": "python",
   "pygments_lexer": "ipython3",
   "version": "3.12.7"
  }
 },
 "nbformat": 4,
 "nbformat_minor": 5
}
