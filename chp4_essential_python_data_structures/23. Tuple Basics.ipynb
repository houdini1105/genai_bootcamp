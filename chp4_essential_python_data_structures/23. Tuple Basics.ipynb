{
 "cells": [
  {
   "cell_type": "code",
   "execution_count": null,
   "id": "cbb3fa86",
   "metadata": {},
   "outputs": [
    {
     "name": "stdout",
     "output_type": "stream",
     "text": [
      "37.7749\n",
      "37.7749 -122.4194\n",
      "4\n",
      "found\n"
     ]
    }
   ],
   "source": [
    "# Chp4 Ep23. Tuple Basics\n",
    "# A tuple is an ordered sequence of items. Tuples are immutable\n",
    "# Immutable is general the opition to use when you want to have fixed information\n",
    "#that you do not want to change such as settings, gps coords, etc.\n",
    "# Create a tuple using () with items seperated by ,\n",
    "location = (37.7749, -122.4194) # SF coords\n",
    "\n",
    "empty_tuple = tuple() # create empty tuple using constructor\n",
    "empty_tuble2 = () # create empty tuple using ()\n",
    "\n",
    "single = (10,) # To store a single element in a tuple, make sure to use ,\n",
    "not_a_tuple = (10) # This is a int\n",
    "\n",
    "nums = tuple([1, 2, 3]) # Use the tuple constuctor with a list as an argument\n",
    "letters = tuple('hello') # Tuple constructor with a string as an argument\n",
    "# Just like list. tuples are ordered so you can use indexing to access elemetents\n",
    "\n",
    "print(location[0])\n",
    "\n",
    "# Unpacking tuples - meaning you can assign elements to multiple variables in one line\n",
    "coordinates = (37.7749, -122.4194)\n",
    "latitude, longitude = coordinates # tuple unpacking\n",
    "print(latitude, longitude)\n",
    "\n",
    "# Nested tuples\n",
    "# Tuples can contain other tuples\n",
    "matrix = (\n",
    "    (1, 2, 3), # make sure to inlcude a , after ()\n",
    "    (4, 5, 6),\n",
    "    (7, 8, 9)\n",
    ")\n",
    "print(matrix[1][0]) # access the element at index 1 and the element at index 0\n",
    "# Best practices\n",
    "# Tuples are immutable, cannot chnage them once created\n",
    "# To check for membership (a certain value is in a tuple) use the if/in method\n",
    "if (1, 2, 3) in matrix:\n",
    "    print('found')"
   ]
  },
  {
   "cell_type": "code",
   "execution_count": null,
   "id": "efabcf71",
   "metadata": {},
   "outputs": [],
   "source": []
  }
 ],
 "metadata": {
  "kernelspec": {
   "display_name": "Python 3",
   "language": "python",
   "name": "python3"
  },
  "language_info": {
   "codemirror_mode": {
    "name": "ipython",
    "version": 3
   },
   "file_extension": ".py",
   "mimetype": "text/x-python",
   "name": "python",
   "nbconvert_exporter": "python",
   "pygments_lexer": "ipython3",
   "version": "3.12.7"
  }
 },
 "nbformat": 4,
 "nbformat_minor": 5
}
