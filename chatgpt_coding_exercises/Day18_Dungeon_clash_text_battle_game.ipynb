{
 "cells": [
  {
   "cell_type": "code",
   "execution_count": null,
   "id": "ba758597",
   "metadata": {},
   "outputs": [],
   "source": [
    "# Title: Dungeon Clash: Code to Survive Game\n",
    "player = {'name' : input('Enter Your Name:'), 'health' : 100, 'attack' : 20}\n",
    "enemy = {'name' : 'Morning Star', 'health' : 80}"
   ]
  },
  {
   "cell_type": "code",
   "execution_count": null,
   "id": "fd573e3b",
   "metadata": {},
   "outputs": [],
   "source": []
  }
 ],
 "metadata": {
  "kernelspec": {
   "display_name": "Python 3",
   "language": "python",
   "name": "python3"
  },
  "language_info": {
   "name": "python",
   "version": "3.12.7"
  }
 },
 "nbformat": 4,
 "nbformat_minor": 5
}
