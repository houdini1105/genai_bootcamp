{
 "cells": [
  {
   "cell_type": "code",
   "execution_count": 3,
   "id": "952370ca",
   "metadata": {},
   "outputs": [
    {
     "name": "stdout",
     "output_type": "stream",
     "text": [
      "(5, 2, 6, 7)\n",
      "30\n",
      "(9,)\n",
      "14\n",
      "#AI #Python #Genai\n",
      "#AI #Python #Genai\n"
     ]
    }
   ],
   "source": [
    "# Chp6 Ep7. Variable-Length Arguments *args, **kwargs\n",
    "# These arguments allow functions to handle any number of inputs\n",
    "\n",
    "def calculate_total_cost(base_cost, *args):\n",
    "    print(args)\n",
    "    return base_cost + sum(args)\n",
    "\n",
    "print(calculate_total_cost(10, 5, 2, 6, 7)) # *args consist of all arguments after\n",
    "# the first one as a tuple\n",
    "print(calculate_total_cost(5, 9))\n",
    "\n",
    "def create_hashtags(*args): # Protip args is just a name, you can use any name after *\n",
    "    return ' '.join(args)\n",
    "\n",
    "print(create_hashtags('#AI', '#Python', '#Genai'))\n",
    "\n",
    "def create_hashtags(*tags): # Protip args is just a name, you can use any name after *\n",
    "    return ' '.join(tags)\n",
    "\n",
    "print(create_hashtags('#AI', '#Python', '#Genai'))"
   ]
  },
  {
   "cell_type": "code",
   "execution_count": null,
   "id": "be764cd8",
   "metadata": {},
   "outputs": [],
   "source": []
  }
 ],
 "metadata": {
  "kernelspec": {
   "display_name": "Python 3",
   "language": "python",
   "name": "python3"
  },
  "language_info": {
   "codemirror_mode": {
    "name": "ipython",
    "version": 3
   },
   "file_extension": ".py",
   "mimetype": "text/x-python",
   "name": "python",
   "nbconvert_exporter": "python",
   "pygments_lexer": "ipython3",
   "version": "3.12.7"
  }
 },
 "nbformat": 4,
 "nbformat_minor": 5
}
