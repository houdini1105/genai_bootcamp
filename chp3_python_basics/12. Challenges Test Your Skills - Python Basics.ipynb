{
 "cells": [
  {
   "cell_type": "code",
   "execution_count": 1,
   "id": "4e7eb07a",
   "metadata": {},
   "outputs": [
    {
     "name": "stdout",
     "output_type": "stream",
     "text": [
      "num: 69, type: <class 'int'>\n",
      "pi: 3.14, type: <class 'float'>\n",
      "active_acct: True, type: <class 'bool'>\n",
      "name: Houdini, type: <class 'str'>\n",
      "movies: ['Inception', 'Interstellar', 'The Matrix'], type: <class 'list'>\n"
     ]
    }
   ],
   "source": [
    "# 12. Challenges Test Your Skills - Python Basics\n",
    "# Challenge #1 - pass\n",
    "# Declare variables of the following types: int, float, bool, string, and list.\n",
    "# Print each variable along with its type in the terminal.\n",
    "num = 69 # Integer variable\n",
    "pi = 3.14 # Float variable\n",
    "active_acct = True # Boolean variable\n",
    "name = \"Houdini\" # String variable\n",
    "movies = [\"Inception\", \"Interstellar\", \"The Matrix\"] # List variable\n",
    "print(f\"num: {num}, type: {type(num)}\") # Print integer variable and its type\n",
    "print(f\"pi: {pi}, type: {type(pi)}\") # Print float variable and its type\n",
    "print(f\"active_acct: {active_acct}, type: {type(active_acct)}\") # Print boolean variable and its type\n",
    "print(f\"name: {name}, type: {type(name)}\") # Print string variable and its type\n",
    "print(f\"movies: {movies}, type: {type(movies)}\") # Print list variable and its type"
   ]
  },
  {
   "cell_type": "code",
   "execution_count": null,
   "id": "6ee6ee55",
   "metadata": {},
   "outputs": [],
   "source": [
    "# Challenge #2 - Pass\n",
    "# Refactor this script to follow Python's naming and style conventions as described in PEP 8.\n",
    "#varOne=10\n",
    "#varTwo=20\n",
    "var_one = 10  # Use snake_case for variable names\n",
    "var_two = 20  # Use snake_case for variable names\n",
    "# \"\"\" # This is a doc string, not a comment.\n",
    "# This is \n",
    "# an example of a multiline\n",
    "# comment in Python.\n",
    "# \"\"\"\n",
    "\n",
    "# This is \n",
    "# an example of a multiline\n",
    "# comment in Python.\n",
    "\n",
    "#str='Hello'\n",
    "#print(str)\n",
    "word = 'Hello'  # Use a more descriptive variable name\n",
    "print(word)  # Print the string variable"
   ]
  },
  {
   "cell_type": "code",
   "execution_count": null,
   "id": "b547432a",
   "metadata": {},
   "outputs": [
    {
     "name": "stdout",
     "output_type": "stream",
     "text": [
      "My best friend is Anne\n",
      "False\n",
      "1020\n",
      "To comment a line of code you # at the beginning of the line.\n"
     ]
    }
   ],
   "source": [
    "# Challenge #3 - Pass\n",
    "# The given script contains syntax errors. \n",
    "# Fix them so the script runs without errors.\n",
    "\n",
    "#best_friend = 'Anne\"\n",
    "#print('My best friend is ', best_friend)\n",
    "\n",
    "best_friend = 'Anne'\n",
    "print('My best friend is', best_friend)\n",
    "\n",
    "#my-value = 15\n",
    "my_value = 15  # Use snake_case for variable names\n",
    "\n",
    "age = 18\n",
    "#print(age = 10)\n",
    "print(age == 10)  # Use '==' for comparison, not '='\n",
    "\n",
    "#a, 4b = '10', '20'\n",
    "#print(a + 4b)\n",
    "a, b = '10', '20'  # Use valid variable names\n",
    "print(a + b)  # Concatenate strings\n",
    "\n",
    "#print('To comment a line of code you # at the beginning of the line.'#)\n",
    "print('To comment a line of code you # at the beginning of the line.')  # Use parentheses to close the print function"
   ]
  },
  {
   "cell_type": "code",
   "execution_count": null,
   "id": "cc9c7a0b",
   "metadata": {},
   "outputs": [
    {
     "name": "stdout",
     "output_type": "stream",
     "text": [
      "Equal: False, Greater or Equal: True, Product: 50, Power: 100000, Division: 2.0, Floor Division: 2, Modulus: 0\n",
      "Updated a: 75\n"
     ]
    }
   ],
   "source": [
    "# Challenge #4 - Pass\n",
    "# Create a Python script that uses the following \n",
    "# operators: =, ==, >=, *, **, /, //, %, +=, and *=.\n",
    "a, b = 10, 5  # Assign values to variables\n",
    "equal = (a == b)  # Check if a is equal to b\n",
    "greater_equal = (a >= b)  # Check if a is greater than or equal to b\n",
    "product = a * b  # Multiply a and b\n",
    "power = a ** b  # Raise a to the power of b\n",
    "division = a / b  # Divide a by b\n",
    "floor_division = a // b  # Floor division of a by b\n",
    "modulus = a % b  # Modulus of a by b\n",
    "a += b  # Add b to a and assign the result to a\n",
    "a *= b  # Multiply a by b and assign the result to a\n",
    "print(f\"Equal: {equal}, Greater or Equal: {greater_equal}, Product: {product}, Power: {power}, Division: {division}, Floor Division: {floor_division}, Modulus: {modulus}\") \n",
    "print(f\"Updated a: {a}\")  # Print the updated value of a after += and *= operations\n"
   ]
  },
  {
   "cell_type": "code",
   "execution_count": null,
   "id": "3a18213c",
   "metadata": {},
   "outputs": [
    {
     "name": "stdout",
     "output_type": "stream",
     "text": [
      "Modified a: 1.0\n"
     ]
    }
   ],
   "source": [
    "# Challenge #5 - Pass\n",
    "# Given the expression:\n",
    "# a = 16 / 2 + 6 / 2 ** 2\n",
    "# Modify it by adding parentheses to change the order of operations so that a equals 1.0.\n",
    "a = 16 / ((2 + 6) / 2) ** 2  # Add parentheses to change the order of operations\n",
    "print(\"Modified a:\", a)  # Print the modified value of a"
   ]
  },
  {
   "cell_type": "code",
   "execution_count": null,
   "id": "738d7adf",
   "metadata": {},
   "outputs": [
    {
     "name": "stdout",
     "output_type": "stream",
     "text": [
      "Total number of available IPv6 addresses: 256\n"
     ]
    }
   ],
   "source": [
    "# Challenge #6 - Pass\n",
    "# An IPv6 address consists of 128 bits.\n",
    "# Write a Python script to calculate the total number of available IPv6 addresses, including reserved ones.\n",
    "ipv6_bits = 128  # Total bits in an IPv6 address\n",
    "total_ipv6_addresses = 2 ** ipv6_bits  # Calculate total IPv6 addresses\n",
    "print(f\"Total number of available IPv6 addresses: {total_ipv6_addresses}\")  # Print the total number of IPv6 addresses"
   ]
  },
  {
   "cell_type": "code",
   "execution_count": null,
   "id": "e3c000e6",
   "metadata": {},
   "outputs": [],
   "source": []
  }
 ],
 "metadata": {
  "kernelspec": {
   "display_name": "Python 3",
   "language": "python",
   "name": "python3"
  },
  "language_info": {
   "codemirror_mode": {
    "name": "ipython",
    "version": 3
   },
   "file_extension": ".py",
   "mimetype": "text/x-python",
   "name": "python",
   "nbconvert_exporter": "python",
   "pygments_lexer": "ipython3",
   "version": "3.12.7"
  }
 },
 "nbformat": 4,
 "nbformat_minor": 5
}
