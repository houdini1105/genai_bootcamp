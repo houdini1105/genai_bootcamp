{
 "cells": [
  {
   "cell_type": "code",
   "execution_count": 3,
   "id": "1fb1f610",
   "metadata": {},
   "outputs": [
    {
     "name": "stdout",
     "output_type": "stream",
     "text": [
      "user inforamtion: {'name': 'Bob', 'age': 40, 'location': 'NYC'}\n",
      "Connecting to 192.168.0.1: 22 as admin\n",
      "{'batch_size': 64, 'learning_rate': 0.0005, 'epochs': 10}\n"
     ]
    }
   ],
   "source": [
    "# Chp6 Ep10. Dict Packing and Unpacking\n",
    "# Dict Packing is combining multiple key value pairs into a single dict\n",
    "def save_user_info(**user_data): # reanmed ** kwargs\n",
    "    print(f'user inforamtion: {user_data}')\n",
    "\n",
    "save_user_info(name='Bob', age=40, location='NYC')\n",
    "# Dict unpacking is the opposite process, taking a dict and expanding into seperate key \n",
    "# value pairs that can be passed as individual arguments\n",
    "def connnect_to_server(ip, port, username, password):\n",
    "    print(f'Connecting to {ip}: {port} as {username}')\n",
    "\n",
    "server_info = {\n",
    "    'ip' : '192.168.0.1',\n",
    "    'port' : 22,\n",
    "    'username' : 'admin',\n",
    "    'password' : 'dsfhais6646'\n",
    "}\n",
    "\n",
    "connnect_to_server(**server_info) # Passing values\n",
    "\n",
    "# Merging dicts\n",
    "default_settings = {'batch_size' : 32, 'learning_rate' : 0.001, 'epochs' : 10}\n",
    "test_settings = {'batch_size' : 64, 'learning_rate' : 0.0005}\n",
    "combined_settings = {**default_settings, **test_settings}\n",
    "print(combined_settings)"
   ]
  },
  {
   "cell_type": "code",
   "execution_count": null,
   "id": "1b3c086e",
   "metadata": {},
   "outputs": [],
   "source": []
  }
 ],
 "metadata": {
  "kernelspec": {
   "display_name": "Python 3",
   "language": "python",
   "name": "python3"
  },
  "language_info": {
   "codemirror_mode": {
    "name": "ipython",
    "version": 3
   },
   "file_extension": ".py",
   "mimetype": "text/x-python",
   "name": "python",
   "nbconvert_exporter": "python",
   "pygments_lexer": "ipython3",
   "version": "3.12.7"
  }
 },
 "nbformat": 4,
 "nbformat_minor": 5
}
