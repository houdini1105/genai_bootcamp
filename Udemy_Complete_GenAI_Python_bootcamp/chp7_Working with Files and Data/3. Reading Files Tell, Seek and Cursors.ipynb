{
 "cells": [
  {
   "cell_type": "code",
   "execution_count": null,
   "id": "9166126c",
   "metadata": {},
   "outputs": [
    {
     "name": "stdout",
     "output_type": "stream",
     "text": [
      "test\n",
      "\n",
      "ip \n",
      "9\n",
      "st\n",
      "\n",
      "tes\n"
     ]
    }
   ],
   "source": [
    "# Chp7 Ep3. Reading Files Tell, Seek and Cursors\n",
    "f = open('config.txt')\n",
    "content = f.read(5) # Read method can take a 2nd argument called size. THis is an\n",
    "# int that can indicates how many char to read from the file.\n",
    "print(content)\n",
    "\n",
    "content = f.read(3) # This will continue the next characters from where the previous stopped\n",
    "print(content)\n",
    "# This is the concept of cursor\n",
    "# The cursor is the position at which you are currently located inside the file.\n",
    "# Something similiar exist for the file objects as well.\n",
    "# You can tell the cursor position by calling the tell method from the file object\n",
    "print(f.tell()) # This will print the cursor position int\n",
    "# If you want to move to a specific position in the file, use seek\n",
    "f.seek(2) # This will place the cursor at position 2 from the beginning of the file\n",
    "content = f.read(3) # This will read the next 3 characters starting from the 2nd position\n",
    "print(content)\n",
    "# Move the cursor to the beginning of the file\n",
    "f.seek(0)\n",
    "content = f.read(3)\n",
    "print(content)"
   ]
  },
  {
   "cell_type": "code",
   "execution_count": 9,
   "id": "28354ff2",
   "metadata": {},
   "outputs": [
    {
     "name": "stdout",
     "output_type": "stream",
     "text": [
      "test\n",
      "ip address 192.168.0.1\n",
      "##################################################\n",
      "\n",
      "test\n",
      "ip address 192.168.0.1\n"
     ]
    }
   ],
   "source": [
    "# Common issue for beginners\n",
    "# Suppose you want to read the entire file\n",
    "f = open('config.txt') # Use the read method with no arguments\n",
    "print(f.read())\n",
    "# do some stuff and want to read the entire file again\n",
    "print('#' * 50)\n",
    "print(f.read()) # Nothing will display\n",
    "# The first call of the read method read the entire file contents and set the cursor position at\n",
    "# the end of the file. When read was called again, it started from the end cursor position\n",
    "# Use seek to start place the cursor at the beginning at 0\n",
    "f.seek(0)\n",
    "print(f.read())"
   ]
  },
  {
   "cell_type": "code",
   "execution_count": null,
   "id": "ac95362b",
   "metadata": {},
   "outputs": [],
   "source": []
  }
 ],
 "metadata": {
  "kernelspec": {
   "display_name": "Python 3",
   "language": "python",
   "name": "python3"
  },
  "language_info": {
   "codemirror_mode": {
    "name": "ipython",
    "version": 3
   },
   "file_extension": ".py",
   "mimetype": "text/x-python",
   "name": "python",
   "nbconvert_exporter": "python",
   "pygments_lexer": "ipython3",
   "version": "3.12.7"
  }
 },
 "nbformat": 4,
 "nbformat_minor": 5
}
