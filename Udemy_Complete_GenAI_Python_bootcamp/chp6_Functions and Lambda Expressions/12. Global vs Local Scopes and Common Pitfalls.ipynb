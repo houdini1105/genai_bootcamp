{
 "cells": [
  {
   "cell_type": "code",
   "execution_count": null,
   "id": "351468d3",
   "metadata": {},
   "outputs": [
    {
     "name": "stdout",
     "output_type": "stream",
     "text": [
      "Updated accuracy inside the function: 0.9\n",
      "Accuracy outside the function: 0.85\n",
      "Updated accuracy inside the function: 0.9\n",
      "[1, 2, 3]\n"
     ]
    }
   ],
   "source": [
    "# Chp6 Ep12. Global vs Local Scopes and Common Pitfalls\n",
    "accuracy = 0.85\n",
    "def Update_accuracy():\n",
    "    accuracy = 0.9\n",
    "    print(f'Updated accuracy inside the function: {accuracy}')\n",
    "\n",
    "Update_accuracy()\n",
    "print(f'Accuracy outside the function: {accuracy}')\n",
    "# As you can see, this does not modify the global variable and uses the local\n",
    "# To change the global variable, you have to use the global keyword\n",
    "accuracy = 0.85\n",
    "def Updated_accuracy():\n",
    "    global accuracy # Use global to modify the global variable from within a function however\n",
    "    # this can lead to code that is difficult to debug\n",
    "    accuracy = 0.9\n",
    "    print(f'Updated accuracy inside the function: {accuracy}')\n",
    "\n",
    "Updated_accuracy()\n",
    "\n",
    "# Avoid shadowing, when naming variables or funtions avoid using python built in functions\n",
    "# example\n",
    "def sum(values):\n",
    "    print(values)\n",
    "\n",
    "sum([1, 2, 3])"
   ]
  },
  {
   "cell_type": "code",
   "execution_count": null,
   "id": "5e36e900",
   "metadata": {},
   "outputs": [],
   "source": []
  }
 ],
 "metadata": {
  "kernelspec": {
   "display_name": "Python 3",
   "language": "python",
   "name": "python3"
  },
  "language_info": {
   "codemirror_mode": {
    "name": "ipython",
    "version": 3
   },
   "file_extension": ".py",
   "mimetype": "text/x-python",
   "name": "python",
   "nbconvert_exporter": "python",
   "pygments_lexer": "ipython3",
   "version": "3.12.7"
  }
 },
 "nbformat": 4,
 "nbformat_minor": 5
}
