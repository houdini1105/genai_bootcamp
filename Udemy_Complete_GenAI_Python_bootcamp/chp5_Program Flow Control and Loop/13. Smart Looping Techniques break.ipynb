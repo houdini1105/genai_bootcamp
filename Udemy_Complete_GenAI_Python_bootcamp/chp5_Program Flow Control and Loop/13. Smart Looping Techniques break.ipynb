{
 "cells": [
  {
   "cell_type": "code",
   "execution_count": 3,
   "id": "53112ab0",
   "metadata": {},
   "outputs": [
    {
     "name": "stdout",
     "output_type": "stream",
     "text": [
      "Checking the word innovation\n",
      "Checking the word deep lerning\n",
      "Checking the word AI revolution\n",
      "Urgent keyword found\n",
      "Starting AI chatbot\n",
      "The current temp is 70\n",
      "The current temp is 71\n",
      "The current temp is 72\n",
      "The current temp is 73\n",
      "The current temp is 74\n",
      "The current temp is 75\n",
      "The current temp is 76\n",
      "The current temp is 77\n",
      "The current temp is 78\n",
      "The current temp is 79\n",
      "Temp mon complete\n",
      "The current temp is 70\n",
      "The current temp is 71\n",
      "The current temp is 72\n",
      "The current temp is 73\n",
      "The current temp is 74\n",
      "The current temp is 75\n",
      "Temp reached. Stopping\n",
      "i=0, j=1\n",
      "i=1, j=1\n",
      "i=2, j=1\n"
     ]
    }
   ],
   "source": [
    "# Chp5 Ep13. Smart Looping Techniques break\n",
    "# The break statement\n",
    "# The break statement breaks out of the innermost enclosing for or while loop\n",
    "# If the break statement is inside a nested loop, break will terminate the innermost loop\n",
    "keywords = ['innovation', 'deep lerning', 'AI revolution', 'neural networks', 'machine learning']\n",
    "for word in keywords:\n",
    "    print(f'Checking the word {word}')\n",
    "    if word == 'AI revolution':\n",
    "        print(f'Urgent keyword found')\n",
    "        break # Always double check logic before using break\n",
    "\n",
    "while True:\n",
    "    user_input = input('Enter the word to start:')\n",
    "    if user_input.lower() == 'launch':\n",
    "        print('Starting AI chatbot')\n",
    "        break\n",
    "    print('Thats not the word...')\n",
    "\n",
    "# (Else) While and for loops can have an else clause that runs if the loop was not inturpted by a break\n",
    "temp = 70 # Initalize variable temp\n",
    "while temp < 80: # Condition check\n",
    "    print(f'The current temp is {temp}')\n",
    "    temp += 1 # Increment by 1 # THis will make the emp add 1 everytime it runs which will be until 80\n",
    "else: # THis will run once the loop is complete\n",
    "    print('Temp mon complete')\n",
    "\n",
    "temp = 70 # Initalize variable temp\n",
    "while temp < 80: # Condition check\n",
    "    print(f'The current temp is {temp}')\n",
    "    if temp == 75:\n",
    "        print('Temp reached. Stopping')\n",
    "        break\n",
    "    temp += 1 # Increment by 1 # THis will make the emp add 1 everytime it runs which will be until 80\n",
    "else: # THis will run once the loop is complete\n",
    "    print('Temp mon complete')\n",
    "\n",
    "# Nested break loop\n",
    "for i in range(3):\n",
    "    for j in range(3):\n",
    "        if j == 1:\n",
    "            break\n",
    "    print(f'i={i}, j={j}')"
   ]
  },
  {
   "cell_type": "code",
   "execution_count": null,
   "id": "f658f407",
   "metadata": {},
   "outputs": [],
   "source": []
  }
 ],
 "metadata": {
  "kernelspec": {
   "display_name": "Python 3",
   "language": "python",
   "name": "python3"
  },
  "language_info": {
   "codemirror_mode": {
    "name": "ipython",
    "version": 3
   },
   "file_extension": ".py",
   "mimetype": "text/x-python",
   "name": "python",
   "nbconvert_exporter": "python",
   "pygments_lexer": "ipython3",
   "version": "3.12.7"
  }
 },
 "nbformat": 4,
 "nbformat_minor": 5
}
