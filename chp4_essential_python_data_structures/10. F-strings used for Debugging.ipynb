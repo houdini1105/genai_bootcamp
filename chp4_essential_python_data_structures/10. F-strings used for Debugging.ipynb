{
 "cells": [
  {
   "cell_type": "code",
   "execution_count": 5,
   "id": "03a92577",
   "metadata": {},
   "outputs": [
    {
     "name": "stdout",
     "output_type": "stream",
     "text": [
      "Your name is Alice and your age is 30.\n",
      "Your name is name='Alice' and your age is age=30.\n",
      "Circle area with a radius of 13.3 is 555.7162088800001\n",
      "Circle area with a radius of r=13.3 is pi * r ** 2=555.7162088800001\n",
      "Circle area with a radius of r=13.3 is pi * r ** 2=555.716\n",
      "x=10, y=25, z=35\n"
     ]
    }
   ],
   "source": [
    "# Chp4 ep10. F-strings with = for Debugging\n",
    "# Using = with the variable in curly braces will display the variable used in debugging\n",
    "\n",
    "name, age = 'Alice', 30\n",
    "\n",
    "# Standard f-string output\n",
    "print(f'Your name is {name} and your age is {age}.')\n",
    "\n",
    "# F-string with debug specifier (=) - shows variable name and value\n",
    "print(f'Your name is {name=} and your age is {age=}.')\n",
    "\n",
    "r = 13.3\n",
    "pi = 3.141592\n",
    "\n",
    "# Standard f-string output for a calculation\n",
    "print(f'Circle area with a radius of {r} is {pi * r ** 2}')\n",
    "\n",
    "# F-string with debug specifier for both variable and expression\n",
    "print(f'Circle area with a radius of {r=} is {pi * r ** 2=}')\n",
    "\n",
    "# F-string with debug specifier combined with formatting for the expression\n",
    "print(f'Circle area with a radius of {r=} is {pi * r ** 2=:.3f}')\n",
    "\n",
    "# Another example with multiple variables for debugging\n",
    "x = 10\n",
    "y = 25\n",
    "z = x + y\n",
    "print(f'{x=}, {y=}, {z=}')"
   ]
  },
  {
   "cell_type": "code",
   "execution_count": null,
   "id": "75e0cd93",
   "metadata": {},
   "outputs": [],
   "source": []
  }
 ],
 "metadata": {
  "kernelspec": {
   "display_name": "Python 3",
   "language": "python",
   "name": "python3"
  },
  "language_info": {
   "codemirror_mode": {
    "name": "ipython",
    "version": 3
   },
   "file_extension": ".py",
   "mimetype": "text/x-python",
   "name": "python",
   "nbconvert_exporter": "python",
   "pygments_lexer": "ipython3",
   "version": "3.12.7"
  }
 },
 "nbformat": 4,
 "nbformat_minor": 5
}
