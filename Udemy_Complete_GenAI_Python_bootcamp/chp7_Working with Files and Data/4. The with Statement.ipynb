{
 "cells": [
  {
   "cell_type": "code",
   "execution_count": null,
   "id": "aaf07079",
   "metadata": {},
   "outputs": [
    {
     "name": "stdout",
     "output_type": "stream",
     "text": [
      "False\n",
      "True\n",
      "test\n",
      "ip address 192.168.0.1\n",
      "False\n"
     ]
    }
   ],
   "source": [
    "# Chp7 Ep4. The with Statement\n",
    "# Rember to always close the file\n",
    "f = open('config.txt', 'rt') # open config.txt file in read, text mode\n",
    "print(f.closed) # This will return False since the file is still open\n",
    "f.close() # Close the file\n",
    "print(f.closed) # This will return True since the file has been closed\n",
    "\n",
    "# A more efficent, coomonlu used and preferred way to open and close files\n",
    "with open('config.txt') as file: # The file is open within the code block and closed outside of it\n",
    "    content = file.read()\n",
    "    print(content)\n",
    "\n",
    "    print(file.closed)\n",
    "    file.read()\n",
    "#file.read() #ValueError file has been closed\n",
    "#however if you place it inside of the code block, it will return False with no errors"
   ]
  },
  {
   "cell_type": "code",
   "execution_count": null,
   "id": "7798e028",
   "metadata": {},
   "outputs": [],
   "source": []
  }
 ],
 "metadata": {
  "kernelspec": {
   "display_name": "Python 3",
   "language": "python",
   "name": "python3"
  },
  "language_info": {
   "codemirror_mode": {
    "name": "ipython",
    "version": 3
   },
   "file_extension": ".py",
   "mimetype": "text/x-python",
   "name": "python",
   "nbconvert_exporter": "python",
   "pygments_lexer": "ipython3",
   "version": "3.12.7"
  }
 },
 "nbformat": 4,
 "nbformat_minor": 5
}
