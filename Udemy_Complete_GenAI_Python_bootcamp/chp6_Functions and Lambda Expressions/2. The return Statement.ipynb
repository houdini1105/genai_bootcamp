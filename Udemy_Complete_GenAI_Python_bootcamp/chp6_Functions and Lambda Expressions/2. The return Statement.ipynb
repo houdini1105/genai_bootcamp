{
 "cells": [
  {
   "cell_type": "code",
   "execution_count": 10,
   "id": "c76b177b",
   "metadata": {},
   "outputs": [
    {
     "name": "stdout",
     "output_type": "stream",
     "text": [
      "3\n",
      "30\n",
      "None\n",
      "(2, 4, 8)\n",
      "2 4 8\n"
     ]
    }
   ],
   "source": [
    "# Chp6 Ep2. The return Statement\n",
    "n = len('abc') # When we use the built-in len() func, returns the length of the string which we store in n.\n",
    "# This variable can then be used anywhere in our code.\n",
    "# This feature lets us send data back to the part of the program that called the function\n",
    "print(n)\n",
    "# Return vs. Print functions\n",
    "def add(a, b):\n",
    "    return a + b\n",
    "\n",
    "my_sum = add(10, 20)\n",
    "print(my_sum)\n",
    "# If a function does not have a return statement, it automatically returns none\n",
    "def func():\n",
    "    pass\n",
    "x = func()\n",
    "print(x)\n",
    "# Return exits the function. Any code written after return will not be executed\n",
    "def example_func():\n",
    "    return 'This is the return value!'\n",
    "    print('THis line will not display')\n",
    "\n",
    "example_func()\n",
    "# A function can return multiple values at once grouped in a tuple\n",
    "def myfunc(x): # x is the variable that will be used in the function\n",
    "    return x, x ** 2, x ** 3\n",
    "\n",
    "result = myfunc(2) # 2 is used in the function and will print the tuple (2, 4, 8)\n",
    "print(result)\n",
    "# Can also unpack these values into seperate values\n",
    "a, b, c = myfunc(2)\n",
    "print(a, b, c)"
   ]
  },
  {
   "cell_type": "code",
   "execution_count": null,
   "id": "bead8f4f",
   "metadata": {},
   "outputs": [],
   "source": []
  }
 ],
 "metadata": {
  "kernelspec": {
   "display_name": "Python 3",
   "language": "python",
   "name": "python3"
  },
  "language_info": {
   "codemirror_mode": {
    "name": "ipython",
    "version": 3
   },
   "file_extension": ".py",
   "mimetype": "text/x-python",
   "name": "python",
   "nbconvert_exporter": "python",
   "pygments_lexer": "ipython3",
   "version": "3.12.7"
  }
 },
 "nbformat": 4,
 "nbformat_minor": 5
}
