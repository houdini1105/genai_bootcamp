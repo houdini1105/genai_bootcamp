{
 "cells": [
  {
   "cell_type": "code",
   "execution_count": null,
   "id": "6fb23bed",
   "metadata": {},
   "outputs": [
    {
     "name": "stdout",
     "output_type": "stream",
     "text": [
      "1\n",
      "False\n",
      "1440990932160\n",
      "[1, 0.5, 'Language model', False, 'NLP']\n",
      "5\n",
      "6\n"
     ]
    }
   ],
   "source": [
    "# Chp4 Ep13. List Basics\n",
    "# A data struture represents a specializied for for organizing, processing, retrieving and storing data.\n",
    "# A list is an ordered collection of items, which can include almost anything.\n",
    "# Creating alist with differnent data types\n",
    "sample_list = [42, 3.14, 'GPT-4', True]\n",
    "\n",
    "# To create a list use [] braces\n",
    "my_data = [1, 0.5, 'tokenizer', False]\n",
    "\n",
    "# Creating an empty list has 2 methods\n",
    "empty_list1 =[] # use the square brackets, empty list\n",
    "empty_list2 = list() # call the constructor, empty list\n",
    "\n",
    "# Indexing with lists works the same as with strings, starting at index 0 \n",
    "print(my_data[0])\n",
    "# Also allows negative indexing\n",
    "print(my_data[-1])\n",
    "# Trying to access a index that is out of range will return a error.\n",
    "# Always check with len() if needed.\n",
    "#print(my_data[100]) returns an error\n",
    "# Very important, list are mutable and can change at or remove elements\n",
    "my_data[2] = 'Language model' # replace index 2\n",
    "print(id(my_data))\n",
    "# Using append() with lists will add element at the end of the list.\n",
    "my_data.append('NLP') # Can use apppend to expand the list\n",
    "print(my_data)\n",
    "# Using length len() will return the number of elements in the list\n",
    "# Need to determine the list size\n",
    "print(len(my_data))\n",
    "# Using len you can avoid out of range index errors\n",
    "# List can contain other list know as nested list\n",
    "# THis structure is helpful when dealing with complex data\n",
    "matrix = [\n",
    "    [1,2,3], # 0 index\n",
    "    [4,5,6], # 1st index, [2] accesses the column within that row\n",
    "    [7,8,9] # 2nd index\n",
    "]\n",
    "# Accessing the elements from the nested lisst\n",
    "print(matrix[1][2])\n",
    "\n",
    "# Best practices\n",
    "# Check the indicies remember 0 index\n",
    "# Avoid mixing data types unless necassary"
   ]
  },
  {
   "cell_type": "code",
   "execution_count": null,
   "id": "b7cfb690",
   "metadata": {},
   "outputs": [],
   "source": []
  }
 ],
 "metadata": {
  "kernelspec": {
   "display_name": "Python 3",
   "language": "python",
   "name": "python3"
  },
  "language_info": {
   "codemirror_mode": {
    "name": "ipython",
    "version": 3
   },
   "file_extension": ".py",
   "mimetype": "text/x-python",
   "name": "python",
   "nbconvert_exporter": "python",
   "pygments_lexer": "ipython3",
   "version": "3.12.7"
  }
 },
 "nbformat": 4,
 "nbformat_minor": 5
}
