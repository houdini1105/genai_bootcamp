{
 "cells": [
  {
   "cell_type": "code",
   "execution_count": null,
   "id": "116c139f",
   "metadata": {},
   "outputs": [
    {
     "name": "stdout",
     "output_type": "stream",
     "text": [
      "<class 'dict'> 3\n",
      "{'learning_rate': 0.0001, 'dropout_rate': 0.3, 'optimizer': 'Adam', 'batch_size': 64}\n",
      "0.0001\n",
      "Not specified\n",
      "96\n"
     ]
    }
   ],
   "source": [
    "# Chp4 Ep29. Dictionary Basics\n",
    "# Modules, classes, objects and sets are all implemnented internally as dictionaries\n",
    "# A dictionary is an ordered collection of keys:value pairs, \n",
    "# seperated ny commas and enclosed in curly braces\n",
    "# person = { 'name': 'John, 'age': 30, 10:('a', 'b')}\n",
    "model_config = { 'modle_name': 'GPT-4', 'Layers': 48, 'parameters': '1758'}\n",
    "print(type(model_config), len(model_config))\n",
    "# Dictionaries dont use index position, access values by unique keys\n",
    "# Dictionary keys must be immutable type\n",
    "#model_config = { 'modle_name': 'GPT-4', 'Layers': 48, 'parameters': '1758', [1, 2]: 10}\n",
    "# The above line gives an typeError\n",
    "\n",
    "hyperparameters = {\n",
    "    'learning_rate' : 0.0001,\n",
    "    'dropout_rate' : 0.3,\n",
    "    'optimizer': 'Adam'\n",
    "}\n",
    "\n",
    "# Add, access or modify\n",
    "hyperparameters['batch_size'] = 64 # To add, just use [] =\n",
    "print(hyperparameters)\n",
    "\n",
    "print(hyperparameters['learning_rate']) # Access the value (using the key index)\n",
    "# IF a key does not exist you will get an error\n",
    "# to avoid this, use the get method which lets you specify a default value if not returned\n",
    "print(hyperparameters.get('momentum', 'Not specified')) # It will print\n",
    "#not specified since the key does not exist\n",
    "# Best practices\n",
    "# Use immutable keys (always use strings, numbrs, tuples or frozensets)\n",
    "# Avoid duplicate keys\n",
    "# Use the .get() method for safe access\n",
    "# Nested Dictionaries\n",
    "pipeline_config = {\n",
    "    'GPT-4' : {'Layers' : 48, 'parameters' : '1758', 'attention_heads' : 96},\n",
    "    'BERT' : {'Layers' : 24, 'parameters' : '345M', 'attention_heads' : 16}\n",
    "}\n",
    "# pipeline_config is a dictionary with 2 elements\n",
    "# The first key GPT-4 has as a value another dict\n",
    "# THe second key is anthor dict as well\n",
    "print(pipeline_config['GPT-4']['attention_heads']) # To access a specific value"
   ]
  },
  {
   "cell_type": "code",
   "execution_count": null,
   "id": "951f7892",
   "metadata": {},
   "outputs": [
    {
     "name": "stdout",
     "output_type": "stream",
     "text": [
      "1\n"
     ]
    }
   ],
   "source": []
  },
  {
   "cell_type": "code",
   "execution_count": null,
   "id": "62b3345e",
   "metadata": {},
   "outputs": [],
   "source": []
  }
 ],
 "metadata": {
  "kernelspec": {
   "display_name": "Python 3",
   "language": "python",
   "name": "python3"
  },
  "language_info": {
   "codemirror_mode": {
    "name": "ipython",
    "version": 3
   },
   "file_extension": ".py",
   "mimetype": "text/x-python",
   "name": "python",
   "nbconvert_exporter": "python",
   "pygments_lexer": "ipython3",
   "version": "3.12.7"
  }
 },
 "nbformat": 4,
 "nbformat_minor": 5
}
