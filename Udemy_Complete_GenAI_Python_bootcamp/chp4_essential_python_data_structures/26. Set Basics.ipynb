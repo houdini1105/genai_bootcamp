{
 "cells": [
  {
   "cell_type": "code",
   "execution_count": 11,
   "id": "496ef0e5",
   "metadata": {},
   "outputs": [
    {
     "name": "stdout",
     "output_type": "stream",
     "text": [
      "{1, 2, 3, 'a', 'c', 4, 'b'}\n",
      "<class 'set'>\n",
      "<class 'dict'>\n",
      "{'AI is amazing', 'Python', 'Hello world'}\n",
      "<class 'frozenset'>\n"
     ]
    }
   ],
   "source": [
    "# Chp4 Ep26. Set Basics\n",
    "# A set is an unordered collection of unique, immutable elements\n",
    "# Duplicates are already removed\n",
    "# Create a set using {} seperate the elements with ,\n",
    "# Sets can contain elemenents of different immutable types\n",
    "# Sets are unordered, there are no concept of first or last element\n",
    "# Trying to access by an index will create an error\n",
    "unique_ids = {1, 2, 3, 'a', 'b', 'c', 4}\n",
    "#print(unique_ids[0]) # Error\n",
    "# If you display the set it will most likely display in a different order\n",
    "print(unique_ids)\n",
    "\n",
    "# To create an empty set, use the set constructor set(), do not use curly braces\n",
    "# Curly braces will create a dictonary\n",
    "empty_set = set()\n",
    "print(type(empty_set)) # This is a set\n",
    "print(type({})) # THis is a dictonary\n",
    "# Can convert to set from list, tuples or strings.\n",
    "# This is useful when you want to remove duplicates\n",
    "sentences = ['Hello world', 'AI is amazing', 'Hello world', 'Python']\n",
    "unique_sent = set(sentences)\n",
    "print(unique_sent)\n",
    "# Frozensets are immutable sets\n",
    "immutable_tokens = frozenset(unique_ids) # This makes the set froen and cannot add elements\n",
    "print(type(immutable_tokens))\n",
    "#immutable_tokens.add('abc') # AttributeError: 'frozenset' object has no attribute 'add'"
   ]
  },
  {
   "cell_type": "code",
   "execution_count": null,
   "id": "6fd2b5cd",
   "metadata": {},
   "outputs": [],
   "source": []
  }
 ],
 "metadata": {
  "kernelspec": {
   "display_name": "Python 3",
   "language": "python",
   "name": "python3"
  },
  "language_info": {
   "codemirror_mode": {
    "name": "ipython",
    "version": 3
   },
   "file_extension": ".py",
   "mimetype": "text/x-python",
   "name": "python",
   "nbconvert_exporter": "python",
   "pygments_lexer": "ipython3",
   "version": "3.12.7"
  }
 },
 "nbformat": 4,
 "nbformat_minor": 5
}
