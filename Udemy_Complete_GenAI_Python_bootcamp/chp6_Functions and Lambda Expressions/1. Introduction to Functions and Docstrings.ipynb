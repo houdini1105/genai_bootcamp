{
 "cells": [
  {
   "cell_type": "code",
   "execution_count": null,
   "id": "697ca5f1",
   "metadata": {},
   "outputs": [
    {
     "name": "stdout",
     "output_type": "stream",
     "text": [
      "Hello Python World!\n",
      "10000000000\n",
      "Help on function say_hello in module __main__:\n",
      "\n",
      "say_hello(name)\n",
      "    This function says hello to you.\n",
      "\n",
      "This function says hello to you.\n"
     ]
    }
   ],
   "source": [
    "# Chp6 Ep1. Introduction to Functions and Docstrings\n",
    "# We use functions to organize our code in blocks that can later be reused.\n",
    "# This offers better readability and modularity for our code.\n",
    "# DRY - DONT REPEAT YOURSELF\n",
    "# Best practice with functions is to use docstrings for documenting the function code\n",
    "# A docstring is a string literal that occurs as \n",
    "# the first statement in a function, module, class or method definiation.\n",
    "# Python functions\n",
    "def my_function(): # Basic structure starts with def (define) function_name and (parameter): with colon\n",
    "    print('Hello Python World!') # THis starts the functions block of code\n",
    "    x = 10 # The code inside the function is called the function body\n",
    "    print(x ** x)\n",
    "# Important just defining a function does not execute it\n",
    "# To execute the function, it must be called\n",
    "\n",
    "my_function() # This will run the function, you wouldn't use print to display it\n",
    "\n",
    "\n",
    "def say_hello(name): # name is the function parameter\n",
    "    \"\"\"This function says hello to you.\"\"\" # Always use triple double quotes and end with a period standard pep 257\n",
    "    print(f'Hello {name}!')\n",
    "\n",
    "# To access a functions docstring there are two methods.\n",
    "# 1) using help() function\n",
    "help(say_hello) # Dont call the function, just use the function name\n",
    "# 2) Accessing the __doc__ attribute\n",
    "print(say_hello.__doc__) # This will display the docstring text to the console\n",
    "\n",
    "# Use snakecase for naming\n",
    "# Avoid reserved python words, dont name functions after built in key words\n",
    "# Keep functions focused. Each function should only do one thing. Create seperate functions\n"
   ]
  },
  {
   "cell_type": "code",
   "execution_count": null,
   "id": "95861255",
   "metadata": {},
   "outputs": [
    {
     "name": "stdout",
     "output_type": "stream",
     "text": [
      "2\n"
     ]
    }
   ],
   "source": []
  },
  {
   "cell_type": "code",
   "execution_count": null,
   "id": "23b1a061",
   "metadata": {},
   "outputs": [],
   "source": []
  }
 ],
 "metadata": {
  "kernelspec": {
   "display_name": "Python 3",
   "language": "python",
   "name": "python3"
  },
  "language_info": {
   "codemirror_mode": {
    "name": "ipython",
    "version": 3
   },
   "file_extension": ".py",
   "mimetype": "text/x-python",
   "name": "python",
   "nbconvert_exporter": "python",
   "pygments_lexer": "ipython3",
   "version": "3.12.7"
  }
 },
 "nbformat": 4,
 "nbformat_minor": 5
}
