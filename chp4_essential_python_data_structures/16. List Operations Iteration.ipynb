{
 "cells": [
  {
   "cell_type": "code",
   "execution_count": null,
   "id": "dc44a4f5",
   "metadata": {},
   "outputs": [
    {
     "name": "stdout",
     "output_type": "stream",
     "text": [
      "Connecting to 192.168.0.1...\n",
      "Connecting to 192.168.0.2...\n",
      "Connecting to 10.0.0.1...\n",
      "10.0.0.2 is not in the list\n",
      "192 not in ip list\n",
      "['xx', 2, 3, 10] ['xx', 2, 3, 10]\n",
      "['xx', 2, 3, 10, 'abc'] ['xx', 2, 3, 10]\n",
      "[2, 4, 5, 6, 7]\n",
      "[5, 6, 7]\n"
     ]
    }
   ],
   "source": [
    "# Chp4 Ep16. List Operations Iteration\n",
    "# Iteration and membership testing\n",
    "ip_list = ['192.168.0.1', '192.168.0.2', '10.0.0.1']\n",
    "# Iterating over a list accessing each element at a time\n",
    "for ip in ip_list:\n",
    "    print(f'Connecting to {ip}...')\n",
    "# Pythons in membership operator is a efficent way to check if a value exist in a list\n",
    "target_ip = '10.0.0.2'\n",
    "if target_ip in ip_list: # use the in operator\n",
    "    print(f'{target_ip} is in the lsit')\n",
    "else:\n",
    "    print(f'{target_ip} is not in the list')\n",
    "# Pythons not in membership operator\n",
    "prefix ='192'\n",
    "if prefix not in ip_list:\n",
    "    print(f'{prefix} not in ip list') # use the not in operator\n",
    "else:\n",
    "    print(f'{prefix} is in the list')\n",
    "# List gotchas\n",
    "# Creating a referenece instead of a copy\n",
    "l1 = [1, 2, 3]\n",
    "l2 = l1 # This does not create a copy just a reference of the same list\n",
    "l2[0] = 'xx'\n",
    "l2.append(10)\n",
    "print(l2, l1)\n",
    "# To create a true copy use the copy method\n",
    "l3 = l1.copy()\n",
    "l3.append('abc')\n",
    "print(l3, l1)\n",
    "# Avoid modifing list while iterating\n",
    "nums = [1, 2, 3, 4, 5, 6, 7] # remove all #s less than 5\n",
    "for n in nums:\n",
    "    if n < 5:\n",
    "        nums.remove(n)\n",
    "print(nums)\n",
    "# THe correct approach is to create a new list for elements to keep\n",
    "new_list = [] # Create empty list\n",
    "for n in nums:\n",
    "    if n >= 5:\n",
    "        new_list.append(n) # Append to the empty list to store ht numbers\n",
    "print(new_list)"
   ]
  },
  {
   "cell_type": "code",
   "execution_count": null,
   "id": "20a084c2",
   "metadata": {},
   "outputs": [],
   "source": []
  }
 ],
 "metadata": {
  "kernelspec": {
   "display_name": "Python 3",
   "language": "python",
   "name": "python3"
  },
  "language_info": {
   "codemirror_mode": {
    "name": "ipython",
    "version": 3
   },
   "file_extension": ".py",
   "mimetype": "text/x-python",
   "name": "python",
   "nbconvert_exporter": "python",
   "pygments_lexer": "ipython3",
   "version": "3.12.7"
  }
 },
 "nbformat": 4,
 "nbformat_minor": 5
}
