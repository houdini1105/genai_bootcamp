{
 "cells": [
  {
   "cell_type": "code",
   "execution_count": null,
   "id": "d92a7ad7",
   "metadata": {},
   "outputs": [
    {
     "name": "stdout",
     "output_type": "stream",
     "text": [
      "G\n",
      "i\n",
      "!\n",
      "16\n",
      "16 !\n",
      "genAIis amazing!\n"
     ]
    }
   ],
   "source": [
    "# Chp4 Ep4. Core String Operations Indexing, Slicing, Concatenating\n",
    "# A string in Python is a sequence of characters of utf-8 encoded characters.\n",
    "# my_string = \"P y t h o n\"  # Example string, index below\n",
    "# index:       0 1 2 3 4 5\n",
    "# Index starts at 0, so the first character is at index 0.\n",
    "message = \"GenAIis amazing!\"  # Example string\n",
    "# To access the index, use [] and the index number\n",
    "print(message[0])  # Output: 'G' (first character)\n",
    "print(message[5])  # Output: 'I' (sixth character)\n",
    "# To access the last character, use negative indexing\n",
    "print(message[-1])  # Output: '!' (last character)\n",
    "# If you try to access an index that is out of range, it will raise an IndexError\n",
    "# print(message[20])  # Uncommenting this line will raise an IndexError\n",
    "# To void this, can use the len() function to check the length of the string\n",
    "print(len(message))  # Output: 16 (length of the string)\n",
    "# To safely access the last character, we can store the length in a variable\n",
    "n = len(message)  # Store the length in a variable\n",
    "# Now we can safely access the last character\n",
    "print(n, message[n - 1])  # Output: 16 '!' (length and last character)\n",
    "# Python strings are immutable, meaning you cannot change a character in a string directly\n",
    "# For example, trying to change the first character will raise an error\n",
    "#message[0] = 'g'  # This will raise a TypeError\n",
    "# Instead to change a character, you can create a new string\n",
    "new_message = 'g' + message[1:]  # Create a new string with the first character changed\n",
    "print(new_message)  # Output: 'genAIis amazing!' (new string with first character changed)"
   ]
  },
  {
   "cell_type": "code",
   "execution_count": 9,
   "id": "ad36fe68",
   "metadata": {},
   "outputs": [
    {
     "name": "stdout",
     "output_type": "stream",
     "text": [
      "Hello, world!\n",
      "Version: 4.0\n"
     ]
    }
   ],
   "source": [
    "# Chp4 Ep4. Core String Operations Indexing, Slicing, Concatenating\n",
    "# Concatenating strings means joining two or more strings together.\n",
    "# You can concatenate strings using the + operator\n",
    "first_part = \"Hello, \" # First part of the string\n",
    "second_part = \"world\"  # Second part of the string \n",
    "# Concatenate the two parts\n",
    "greeting = first_part + second_part  # Join the two strings\n",
    "print(greeting + '!')  # Output: 'Hello, world!' (concatenated string with an exclamation mark)\n",
    "# Cannot concatenate a string with a number directly, it will raise a TypeError\n",
    "#print('Version: ' + 4.0)  # This will raise a TypeError\n",
    "# Convert the number to a string before concatenating using the str() function\n",
    "print('Version: ' + str(4.0))  # This will output: 'Version: 4.0' (number converted to string)\n"
   ]
  },
  {
   "cell_type": "code",
   "execution_count": 10,
   "id": "bd80da16",
   "metadata": {},
   "outputs": [
    {
     "name": "stdout",
     "output_type": "stream",
     "text": [
      "Python! Python! Python! \n"
     ]
    }
   ],
   "source": [
    "# Chp4 Ep4. Core String Operations Indexing, Slicing, Concatenating\n",
    "# Repeating strings means creating a new string by repeating an existing string multiple times.\n",
    "# You can repeat a string using the * operator\n",
    "repeat_string = \"Python! \"  # String to be repeated\n",
    "print(repeat_string * 3)  # Output: 'Python! Python! Python! ' (string repeated 3 times)"
   ]
  },
  {
   "cell_type": "code",
   "execution_count": 13,
   "id": "c3c959e3",
   "metadata": {},
   "outputs": [
    {
     "name": "stdout",
     "output_type": "stream",
     "text": [
      "Machine\n",
      "Machine\n",
      "Learning\n",
      "ning\n",
      "McieLann\n",
      "gninraeL enihcaM\n"
     ]
    }
   ],
   "source": [
    "# Chp4 Ep4. Core String Operations Indexing, Slicing, Concatenating\n",
    "# SLicing strings means extracting a portion of a string and/or grab a range of characters known as a substring.\n",
    "tech = 'Machine Learning'  # Example string\n",
    "# To slice a string, use the [start:end] syntax\n",
    "print(tech[0:7])  # Output: 'Machine' (characters from index 0 to 6)\n",
    "# The sytax [start:end] means start at index 'start' and go up to but not including index 'end'.\n",
    "# If you omit the start index, it defaults to 0 and if you omit the end index, it defaults to the end of the string.\n",
    "print(tech[:7])  # Output: 'Machine' (same as above, start defaults to 0)\n",
    "print(tech[8:])  # Output: 'Learning' (characters from index 8 to the end)\n",
    "# You can also use negative indexing to slice from the end of the string\n",
    "print(tech[-4:]) # Output: 'ning' (last 4 characters)\n",
    "# Slicing can also be done with a step value using the [start:end:step] syntax\n",
    "print(tech[0:16:2])  # Output: 'Mcn eran' (every second character from index 0 to 15)\n",
    "# If you want to reverse a string, you can use a negative step value\n",
    "print(tech[::-1])  # Output: 'gninraeL enihcaM' (reversed string)"
   ]
  },
  {
   "cell_type": "code",
   "execution_count": null,
   "id": "8d70ccce",
   "metadata": {},
   "outputs": [],
   "source": []
  }
 ],
 "metadata": {
  "kernelspec": {
   "display_name": "Python 3",
   "language": "python",
   "name": "python3"
  },
  "language_info": {
   "codemirror_mode": {
    "name": "ipython",
    "version": 3
   },
   "file_extension": ".py",
   "mimetype": "text/x-python",
   "name": "python",
   "nbconvert_exporter": "python",
   "pygments_lexer": "ipython3",
   "version": "3.12.7"
  }
 },
 "nbformat": 4,
 "nbformat_minor": 5
}
