{
 "cells": [
  {
   "cell_type": "code",
   "execution_count": null,
   "id": "af0c2e39",
   "metadata": {},
   "outputs": [
    {
     "ename": "SyntaxError",
     "evalue": "positional argument follows keyword argument (583348493.py, line 34)",
     "output_type": "error",
     "traceback": [
      "  \u001b[36mCell\u001b[39m\u001b[36m \u001b[39m\u001b[32mIn[3]\u001b[39m\u001b[32m, line 34\u001b[39m\n\u001b[31m    \u001b[39m\u001b[31mdisplay_weather(humidity=70, 15, temp=22)\u001b[39m\n                                            ^\n\u001b[31mSyntaxError\u001b[39m\u001b[31m:\u001b[39m positional argument follows keyword argument\n"
     ]
    }
   ],
   "source": [
    "# Ch6 Ep4. Function Arguments Positional, Keyword\n",
    "# Functions in python\n",
    "# Function arguments (there are 5 main types)\n",
    "# 1) Positional arguments\n",
    "# 2) Keyword arguments\n",
    "# 3) Default arguments\n",
    "# 4) *args\n",
    "# 5) **kwargs\n",
    "\n",
    "# Positional arguments, order matters\n",
    "def display_weather(temp, humidity): # temp and humidity are the functions parameters\n",
    "    print(f'Tempature: {temp}c, Humidity: {humidity}%')\n",
    "\n",
    "# When we call a funtion with positional arguemnts, each argument is assigned \n",
    "# to the corresponding parameter based on its position. \n",
    "\n",
    "display_weather(25, 60)\n",
    "\n",
    "# Quick tip, the terms parameters and arguments are often used interchangeable. But\n",
    "# parameters are in the functions definition (i.e., temp, humidity) and arguments are the\n",
    "# values you pass to the function (i.e., 25, 60)\n",
    "\n",
    "# Keyword arguments or named arguments\n",
    "# Keyword arguments let us specify which value correspondes to which \n",
    "# parameter by naming them so ordr doesn't matter.\n",
    "def display_weather(temp, humidity, windspeed): # temp and humidity are the functions parameters\n",
    "    print(f'Tempature: {temp}c, Humidity: {humidity}%, Windspeed: {windspeed} km/h')\n",
    "\n",
    "# Uing keyword arguments you can call this function, order is not a factor\n",
    "display_weather(humidity=70, temp=22, windspeed=15)\n",
    "# When combining keyword and positional arguments in a single quote, positional quotes\n",
    "# must come first.\n",
    "display_weather(70, windspeed=15, humidity=22)\n",
    "#display_weather(humidity=70, 15, temp=22) # Keyword error, positional must come first"
   ]
  },
  {
   "cell_type": "code",
   "execution_count": null,
   "id": "1173c95f",
   "metadata": {},
   "outputs": [],
   "source": []
  }
 ],
 "metadata": {
  "kernelspec": {
   "display_name": "Python 3",
   "language": "python",
   "name": "python3"
  },
  "language_info": {
   "codemirror_mode": {
    "name": "ipython",
    "version": 3
   },
   "file_extension": ".py",
   "mimetype": "text/x-python",
   "name": "python",
   "nbconvert_exporter": "python",
   "pygments_lexer": "ipython3",
   "version": "3.12.7"
  }
 },
 "nbformat": 4,
 "nbformat_minor": 5
}
