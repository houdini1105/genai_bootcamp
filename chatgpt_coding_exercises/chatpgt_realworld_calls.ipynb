{
 "cells": [
  {
   "cell_type": "code",
   "execution_count": null,
   "id": "9754783b",
   "metadata": {},
   "outputs": [],
   "source": [
    "text = input('Enter text')\n",
    "split_text = text.split()\n",
    "text_dict = {}\n",
    "most_common_word = ''\n",
    "highest_count = 0\n",
    "for word in split_text:\n",
    "    text_dict[word] = text_dict.get(word, 0) + 1\n",
    "\n",
    "for word, count in text_dict.items():\n",
    "    if count > highest_count:\n",
    "        most_common_word = word\n",
    "        highest_count = count\n",
    "\n",
    "print(text_dict)\n",
    "print(f\"Most common word: {most_common_word} ({highest_count} times)\")"
   ]
  },
  {
   "cell_type": "code",
   "execution_count": 1,
   "id": "0782a469",
   "metadata": {},
   "outputs": [
    {
     "name": "stdout",
     "output_type": "stream",
     "text": [
      "{'t': 3, 'h': 1, 'i': 2, 's': 3, ' ': 2, 'a': 1, 'e': 1}\n"
     ]
    }
   ],
   "source": [
    "word = input('Enter a word')\n",
    "word_dict = {}\n",
    "for char in word:\n",
    "    word_dict[char] = word_dict.get(char, 0) + 1\n",
    "print(word_dict)"
   ]
  },
  {
   "cell_type": "code",
   "execution_count": 2,
   "id": "36f28eb7",
   "metadata": {},
   "outputs": [
    {
     "name": "stdout",
     "output_type": "stream",
     "text": [
      "{'t': 2, 'h': 1, 'i': 2, 's': 3, ' ': 3, 'a': 1, 'e': 1}\n"
     ]
    }
   ],
   "source": [
    "text = input('Enter a word').strip().lower()\n",
    "text_dict = {}\n",
    "for char in text:\n",
    "    text_dict[char] = text_dict.get(char, 0) + 1\n",
    "\n",
    "print(text_dict)"
   ]
  },
  {
   "cell_type": "code",
   "execution_count": 3,
   "id": "03e9d549",
   "metadata": {},
   "outputs": [
    {
     "name": "stdout",
     "output_type": "stream",
     "text": [
      "{'2': 2, '1': 1, '3': 2, '0': 1, '4': 1}\n"
     ]
    }
   ],
   "source": [
    "nums = '2213304'\n",
    "counts = {}\n",
    "for n in nums:\n",
    "    counts[n] = counts.get(n, 0) + 1\n",
    "print(counts)"
   ]
  },
  {
   "cell_type": "code",
   "execution_count": 4,
   "id": "2051f0f3",
   "metadata": {},
   "outputs": [
    {
     "name": "stdout",
     "output_type": "stream",
     "text": [
      "{'AI': 2, 'is': 2, 'fun': 1, 'and': 1, 'powerful': 1}\n"
     ]
    }
   ],
   "source": [
    "text = \"AI is fun and AI is powerful\"\n",
    "word_count = {}\n",
    "for word in text.split():\n",
    "    word_count[word] = word_count.get(word, 0) + 1\n",
    "print(word_count)"
   ]
  },
  {
   "cell_type": "code",
   "execution_count": 9,
   "id": "d7a8eb60",
   "metadata": {},
   "outputs": [
    {
     "name": "stdout",
     "output_type": "stream",
     "text": [
      "{'a': 3, 'b': 2}\n"
     ]
    }
   ],
   "source": [
    "text = \"apple banana apricot berry avocado\"\n",
    "count_dict = {}\n",
    "for word in text.split():\n",
    "    count_dict[word[0]] = count_dict.get(word[0], 0) + 1\n",
    "print(count_dict)"
   ]
  },
  {
   "cell_type": "code",
   "execution_count": null,
   "id": "2d006424",
   "metadata": {},
   "outputs": [
    {
     "name": "stdout",
     "output_type": "stream",
     "text": [
      "{'e': 3, 'u': 1, 'a': 1, 'i': 2, 'o': 1}\n"
     ]
    }
   ],
   "source": [
    "text = \"Education is the key\"\n",
    "vowel_dict_count = {}\n",
    "for char in text.lower():\n",
    "    if char in 'aeiou':\n",
    "        vowel_dict_count[char] = vowel_dict_count.get(char, 0) + 1\n",
    "print(vowel_dict_count)"
   ]
  },
  {
   "cell_type": "code",
   "execution_count": 16,
   "id": "46abf0d0",
   "metadata": {},
   "outputs": [
    {
     "name": "stdout",
     "output_type": "stream",
     "text": [
      "{'b': [0], 'a': [1, 3, 5], 'n': [2, 4]}\n"
     ]
    }
   ],
   "source": [
    "text = 'banana'\n",
    "text_dict = {}\n",
    "for index, char in enumerate(text):\n",
    "    if char not in text_dict:\n",
    "        text_dict[char] = []          # make a new list\n",
    "    text_dict[char].append(index)     # add the index\n",
    "\n",
    "print(text_dict)"
   ]
  },
  {
   "cell_type": "code",
   "execution_count": 17,
   "id": "d0438065",
   "metadata": {},
   "outputs": [
    {
     "name": "stdout",
     "output_type": "stream",
     "text": [
      "0 a\n",
      "1 p\n",
      "2 p\n",
      "3 l\n",
      "4 e\n"
     ]
    }
   ],
   "source": [
    "for index, char in enumerate('apple'):\n",
    "    print(index, char)"
   ]
  },
  {
   "cell_type": "code",
   "execution_count": 23,
   "id": "ae23dad3",
   "metadata": {},
   "outputs": [
    {
     "name": "stdout",
     "output_type": "stream",
     "text": [
      "{'t': 0, 'e': 1, 'c': 2, 'h': 3, 'n': 4, 'o': 7, 'l': 6, 'g': 8, 'y': 9}\n"
     ]
    }
   ],
   "source": [
    "positions = {}\n",
    "for key, value in enumerate('technology'):\n",
    "    positions[value] = key\n",
    "print(positions)"
   ]
  },
  {
   "cell_type": "code",
   "execution_count": 25,
   "id": "e97d001e",
   "metadata": {},
   "outputs": [
    {
     "name": "stdout",
     "output_type": "stream",
     "text": [
      "{'python': 6, 'is': 2, 'fun': 3}\n"
     ]
    }
   ],
   "source": [
    "text = \"python is fun\"\n",
    "empty_dict = {}\n",
    "for word in text.split():\n",
    "    empty_dict[word] = len(word)\n",
    "print(empty_dict)"
   ]
  },
  {
   "cell_type": "code",
   "execution_count": 26,
   "id": "1eb02ff3",
   "metadata": {},
   "outputs": [
    {
     "name": "stdout",
     "output_type": "stream",
     "text": [
      "{'g': 103, 'e': 101, 'n': 110, 'a': 97, 'i': 105}\n"
     ]
    }
   ],
   "source": [
    "text = 'genai'\n",
    "text_dict = {}\n",
    "for char in text:\n",
    "    text_dict[char] = ord(char)\n",
    "print(text_dict)"
   ]
  },
  {
   "cell_type": "code",
   "execution_count": 28,
   "id": "0764bb30",
   "metadata": {},
   "outputs": [
    {
     "name": "stdout",
     "output_type": "stream",
     "text": [
      "{1: 1, 2: 4, 3: 9}\n"
     ]
    }
   ],
   "source": [
    "n = int(input('enter a num'))\n",
    "empty_dict = {}\n",
    "for i in range(1, n + 1):\n",
    "    empty_dict[i] = i ** 2\n",
    "print(empty_dict)"
   ]
  },
  {
   "cell_type": "code",
   "execution_count": 29,
   "id": "17a7aae2",
   "metadata": {},
   "outputs": [
    {
     "name": "stdout",
     "output_type": "stream",
     "text": [
      "{'this': 4, 'is': 2, 'a': 1, 'test': 4}\n"
     ]
    }
   ],
   "source": [
    "sent = input('Enter a sent')\n",
    "empty_dict = {}\n",
    "for word in sent.split():\n",
    "    empty_dict[word] = len(word)\n",
    "print(empty_dict)"
   ]
  },
  {
   "cell_type": "code",
   "execution_count": 33,
   "id": "1fd3670d",
   "metadata": {},
   "outputs": [
    {
     "name": "stdout",
     "output_type": "stream",
     "text": [
      "{'python': ('p', 'n'), 'is': ('i', 's'), 'fun': ('f', 'n')}\n"
     ]
    }
   ],
   "source": [
    "sent = input('Enter a sent')\n",
    "empty_dict = {}\n",
    "for word in sent.split():\n",
    "    empty_dict[word] = word[0], word[-1]\n",
    "print(empty_dict)"
   ]
  },
  {
   "cell_type": "code",
   "execution_count": 34,
   "id": "66d9d740",
   "metadata": {},
   "outputs": [
    {
     "name": "stdout",
     "output_type": "stream",
     "text": [
      "{'python': ('PYTHON', 'python'), 'is': ('IS', 'is'), 'fun': ('FUN', 'fun')}\n"
     ]
    }
   ],
   "source": [
    "sent = input('Enter a sent')\n",
    "empty_dict = {}\n",
    "for word in sent.split():\n",
    "    empty_dict[word] = word.upper(), word.lower()\n",
    "print(empty_dict)"
   ]
  },
  {
   "cell_type": "code",
   "execution_count": 35,
   "id": "0ffd3d5f",
   "metadata": {},
   "outputs": [
    {
     "name": "stdout",
     "output_type": "stream",
     "text": [
      "{'python': 'nohtyp', 'is': 'si', 'fun': 'nuf'}\n"
     ]
    }
   ],
   "source": [
    "sent = input('Enter a sent')\n",
    "empty_dict = {}\n",
    "for word in sent.split():\n",
    "    empty_dict[word] = word[::-1]\n",
    "print(empty_dict)"
   ]
  },
  {
   "cell_type": "code",
   "execution_count": 38,
   "id": "432275c9",
   "metadata": {},
   "outputs": [
    {
     "name": "stdout",
     "output_type": "stream",
     "text": [
      "{'python': 1, 'is': 1, 'awesome': 4}\n"
     ]
    }
   ],
   "source": [
    "sent = input('Enter a sent').lower()\n",
    "empty_dict = {}\n",
    "for word in sent.split():\n",
    "    vowel_count = 0\n",
    "    for char in word:\n",
    "        if char in 'aeiou':\n",
    "                vowel_count += 1\n",
    "    empty_dict[word] = vowel_count\n",
    "    \n",
    "print(empty_dict)"
   ]
  },
  {
   "cell_type": "code",
   "execution_count": 44,
   "id": "b60d84f2",
   "metadata": {},
   "outputs": [
    {
     "name": "stdout",
     "output_type": "stream",
     "text": [
      "{'python': 5, 'is': 1, 'cool': 2}\n"
     ]
    }
   ],
   "source": [
    "sent = input('Enter a sent:').lower().strip()\n",
    "word_dict = {}\n",
    "for word in sent.split():\n",
    "    count = 0\n",
    "    for char in word:\n",
    "        if char not in 'aeiou':\n",
    "            count += 1\n",
    "    word_dict[word] = count\n",
    "\n",
    "print(word_dict)"
   ]
  },
  {
   "cell_type": "code",
   "execution_count": 45,
   "id": "b0b3b55b",
   "metadata": {},
   "outputs": [
    {
     "name": "stdout",
     "output_type": "stream",
     "text": [
      "{'python3': 1, 'is': 0, 'c00l': 2}\n"
     ]
    }
   ],
   "source": [
    "sent = input('Enter a sent:').lower().strip()\n",
    "word_dict = {}\n",
    "for word in sent.split():\n",
    "    count = 0\n",
    "    for char in word:\n",
    "        if char.isdigit():\n",
    "            count += 1\n",
    "    word_dict[word] = count\n",
    "\n",
    "print(word_dict)"
   ]
  },
  {
   "cell_type": "code",
   "execution_count": null,
   "id": "70e0326a",
   "metadata": {},
   "outputs": [
    {
     "name": "stdout",
     "output_type": "stream",
     "text": [
      "{'Python': 1, 'IS': 2, 'Cool': 1}\n"
     ]
    }
   ],
   "source": [
    "sent = input('Enter a sent:')\n",
    "uppercase_dict = {}\n",
    "for word in sent.split():\n",
    "    count = 0\n",
    "    for char in word:\n",
    "        if char == char.isupper():\n",
    "            count += 1\n",
    "    uppercase_dict[word] = count\n",
    "\n",
    "print(uppercase_dict)"
   ]
  },
  {
   "cell_type": "code",
   "execution_count": 53,
   "id": "4b07bee2",
   "metadata": {},
   "outputs": [
    {
     "name": "stdout",
     "output_type": "stream",
     "text": [
      "{'hello!': 1, 'python2': 0, 'is': 0, 'cool!': 1}\n"
     ]
    }
   ],
   "source": [
    "sent = input('Enter a sent:')\n",
    "sent_dict = {}\n",
    "for word in sent.split():\n",
    "    count = 0\n",
    "    for char in word:\n",
    "        if not char.isalnum():\n",
    "            count += 1\n",
    "    sent_dict[word] = count\n",
    "print(sent_dict)"
   ]
  },
  {
   "cell_type": "code",
   "execution_count": 56,
   "id": "8ccb5708",
   "metadata": {},
   "outputs": [
    {
     "name": "stdout",
     "output_type": "stream",
     "text": [
      "{'this': False, 'is': True, 'a': True, 'test': False}\n"
     ]
    }
   ],
   "source": [
    "sent = input('Enter a sent:')\n",
    "sent_dict = {}\n",
    "for word in sent.split():\n",
    "    if word[0].lower() in 'aeiou':\n",
    "        sent_dict[word] = True\n",
    "    else:\n",
    "        sent_dict[word] = False\n",
    "\n",
    "print(sent_dict)\n"
   ]
  },
  {
   "cell_type": "code",
   "execution_count": 57,
   "id": "a50a8ddf",
   "metadata": {},
   "outputs": [
    {
     "name": "stdout",
     "output_type": "stream",
     "text": [
      "{'this': True, 'is': True, 'a': False, 'test': True}\n"
     ]
    }
   ],
   "source": [
    "sent = input('Enter a sent:')\n",
    "sent_dict = {}\n",
    "for word in sent.split():\n",
    "    if len(word) % 2 == 0:\n",
    "        sent_dict[word] = True\n",
    "    else:\n",
    "        sent_dict[word] = False\n",
    "print(sent_dict)"
   ]
  },
  {
   "cell_type": "code",
   "execution_count": null,
   "id": "d5ea5311",
   "metadata": {},
   "outputs": [],
   "source": [
    "sent = input('Enter a sent:')\n",
    "sent_dict = {}\n",
    "for word in sent.split():\n",
    "    if word == word[::-1]:\n",
    "        sent_dict[word] = True\n",
    "    else:\n",
    "        sent_dict[word] = False\n",
    "print(sent_dict)"
   ]
  },
  {
   "cell_type": "code",
   "execution_count": 58,
   "id": "2823b912",
   "metadata": {},
   "outputs": [
    {
     "name": "stdout",
     "output_type": "stream",
     "text": [
      "{'this': 'medium', 'is': 'short', 'a': 'short', 'testing': 'long'}\n"
     ]
    }
   ],
   "source": [
    "sent = input('Enter a sent:')\n",
    "sent_dict = {}\n",
    "for word in sent.split():\n",
    "    if len(word) <= 3:\n",
    "        sent_dict[word] = 'short'\n",
    "    elif len(word) >= 7:\n",
    "        sent_dict[word] = 'long'\n",
    "    else:\n",
    "        sent_dict[word] = 'medium'\n",
    "print(sent_dict)"
   ]
  },
  {
   "cell_type": "code",
   "execution_count": 59,
   "id": "05f0dba8",
   "metadata": {},
   "outputs": [
    {
     "name": "stdout",
     "output_type": "stream",
     "text": [
      "{'this': False, 'is': False, 'a': True, 'test': True}\n"
     ]
    }
   ],
   "source": [
    "sent = input('Enter a sent:')\n",
    "sent_dict = {}\n",
    "for word in sent.split():\n",
    "    if word[0] == word[-1]:\n",
    "        sent_dict[word] = True\n",
    "    else:\n",
    "        sent_dict[word] = False\n",
    "print(sent_dict)"
   ]
  },
  {
   "cell_type": "code",
   "execution_count": null,
   "id": "afabe17d",
   "metadata": {},
   "outputs": [
    {
     "name": "stdout",
     "output_type": "stream",
     "text": [
      "{'this': 3, 'is': 1, 'a': 0, 'test': 3}\n"
     ]
    }
   ],
   "source": [
    "text = input('Enter a sent:')\n",
    "const_dict = {}\n",
    "\n",
    "for word in text.split():\n",
    "    count = 0\n",
    "    for char in word:\n",
    "        if char.isalpha() and char.lower() not in 'aeiou':\n",
    "            count += 1\n",
    "    const_dict[word] = count\n",
    "\n",
    "print(const_dict)"
   ]
  },
  {
   "cell_type": "code",
   "execution_count": 64,
   "id": "93e87b21",
   "metadata": {},
   "outputs": [
    {
     "name": "stdout",
     "output_type": "stream",
     "text": [
      "{'th1s': 1, '1s': 1, 'a': 0, 't3st3': 2}\n"
     ]
    }
   ],
   "source": [
    "text = input('Enter a sent')\n",
    "text_dict = {}\n",
    "\n",
    "for word in text.split():\n",
    "    count = 0\n",
    "    for char in word:\n",
    "        if char.isdigit():\n",
    "            count += 1\n",
    "    text_dict[word] = count\n",
    "\n",
    "print(text_dict)"
   ]
  },
  {
   "cell_type": "code",
   "execution_count": 65,
   "id": "9077a763",
   "metadata": {},
   "outputs": [
    {
     "name": "stdout",
     "output_type": "stream",
     "text": [
      "{'hello!': 1, 'python3': 0, 'is': 0, 'c00l!': 1}\n"
     ]
    }
   ],
   "source": [
    "text = input('Enter a sent')\n",
    "text_dict = {}\n",
    "\n",
    "for word in text.split():\n",
    "    count = 0\n",
    "    for char in word:\n",
    "        if not char.isalnum():\n",
    "            count += 1\n",
    "    text_dict[word] = count\n",
    "\n",
    "print(text_dict)"
   ]
  },
  {
   "cell_type": "code",
   "execution_count": 67,
   "id": "cf912e72",
   "metadata": {},
   "outputs": [
    {
     "name": "stdout",
     "output_type": "stream",
     "text": [
      "{'this': 1, 'is': 2, 'a': 1, 'test': 1}\n"
     ]
    }
   ],
   "source": [
    "text = input('Enter a sent')\n",
    "text_dict = {}\n",
    "\n",
    "for word in text.split():\n",
    "    text_dict[word] = text_dict.get(word, 0) + 1\n",
    "\n",
    "print(text_dict)"
   ]
  },
  {
   "cell_type": "code",
   "execution_count": 69,
   "id": "fcdc6997",
   "metadata": {},
   "outputs": [
    {
     "name": "stdout",
     "output_type": "stream",
     "text": [
      "Most common word: a (2 times)\n"
     ]
    }
   ],
   "source": [
    "text = input('Enter a sent')\n",
    "text_dict = {}\n",
    "\n",
    "for word in text.split():\n",
    "    text_dict[word] = text_dict.get(word, 0) + 1\n",
    "\n",
    "highest_count = 0\n",
    "most_common_word = ''\n",
    "\n",
    "for word, count in text_dict.items():\n",
    "    if count > highest_count:\n",
    "        highest_count = count\n",
    "        most_common_word = word\n",
    "\n",
    "print(f\"Most common word: {most_common_word} ({highest_count} times)\")\n"
   ]
  },
  {
   "cell_type": "code",
   "execution_count": 76,
   "id": "15bc1878",
   "metadata": {},
   "outputs": [
    {
     "name": "stdout",
     "output_type": "stream",
     "text": [
      "Least common word: test (1 times)\n"
     ]
    }
   ],
   "source": [
    "text = input('Enter a sent:')\n",
    "text_dict = {}\n",
    "\n",
    "for word in text.split():\n",
    "    text_dict[word] = text_dict.get(word, 0) + 1\n",
    "\n",
    "#print(text_dict)\n",
    "\n",
    "first_key = list(text_dict.keys())[0]\n",
    "lowest_word = first_key\n",
    "lowest_count = text_dict[first_key]\n",
    "\n",
    "for key, value in text_dict.items():\n",
    "    if value < lowest_count:\n",
    "        lowest_count = value\n",
    "        lowest_word = key\n",
    "\n",
    "print(f\"Least common word: {lowest_word} ({lowest_count} times)\")"
   ]
  },
  {
   "cell_type": "code",
   "execution_count": null,
   "id": "6108cb60",
   "metadata": {},
   "outputs": [
    {
     "name": "stdout",
     "output_type": "stream",
     "text": [
      "Longest word: testing (7 letters)\n"
     ]
    }
   ],
   "source": [
    "text = input('Enter a sent:')\n",
    "text_dict = {}\n",
    "\n",
    "for word in text.split():\n",
    "    text_dict[word] = len(word)\n",
    "\n",
    "#print(text_dict)\n",
    "highest_length = 0\n",
    "longest_word = ''\n",
    "\n",
    "for key, value in text_dict.items():\n",
    "    if value > highest_length:\n",
    "        highest_length = value\n",
    "        longest_word = key\n",
    "\n",
    "print(f\"Longest word: {longest_word} ({highest_length} letters)\")"
   ]
  },
  {
   "cell_type": "code",
   "execution_count": 80,
   "id": "46bacc1f",
   "metadata": {},
   "outputs": [
    {
     "name": "stdout",
     "output_type": "stream",
     "text": [
      "Smallest word: is 2 letters\n"
     ]
    }
   ],
   "source": [
    "text_dict = {\"python\": 6, \"is\": 2, \"fantastic\": 9, \"fun\": 3}\n",
    "\n",
    "smallest_value = float('inf')\n",
    "smallest_word = ''\n",
    "\n",
    "for key, value in text_dict.items():\n",
    "    if value < smallest_value:\n",
    "        smallest_value = value\n",
    "        smallest_word = key\n",
    "\n",
    "print(f'Smallest word: {smallest_word} {smallest_value} letters')"
   ]
  },
  {
   "cell_type": "code",
   "execution_count": 82,
   "id": "f2e2751e",
   "metadata": {},
   "outputs": [
    {
     "name": "stdout",
     "output_type": "stream",
     "text": [
      "Highest vowel word: fantastic, 3 vowels.\n"
     ]
    }
   ],
   "source": [
    "text_dict = {\"python\": 1, \"is\": 1, \"fantastic\": 3, \"fun\": 1}\n",
    "\n",
    "largest_word = ''\n",
    "largest_count = 0\n",
    "\n",
    "for key, value in text_dict.items():\n",
    "    if value > largest_count:\n",
    "        largest_count = value\n",
    "        largest_word = key\n",
    "\n",
    "print(f'Highest vowel word: {largest_word}, {largest_count} vowels.')"
   ]
  },
  {
   "cell_type": "code",
   "execution_count": 86,
   "id": "bb3614b3",
   "metadata": {},
   "outputs": [
    {
     "name": "stdout",
     "output_type": "stream",
     "text": [
      "Word: c00l, 2 digits.\n"
     ]
    }
   ],
   "source": [
    "text_dict = {\"python3\": 1, \"is\": 0, \"c00l\": 2, \"test1ng\": 1}\n",
    "\n",
    "most_dig_count = 0\n",
    "most_dig_word = ''\n",
    "\n",
    "for key, value in text_dict.items():\n",
    "    if value > most_dig_count:\n",
    "        most_dig_count = value\n",
    "        most_dig_word = key\n",
    "\n",
    "print(f'Word: {most_dig_word}, {most_dig_count} digits.')"
   ]
  },
  {
   "cell_type": "code",
   "execution_count": 87,
   "id": "ced442d0",
   "metadata": {},
   "outputs": [
    {
     "name": "stdout",
     "output_type": "stream",
     "text": [
      " plum, 1\n"
     ]
    }
   ],
   "source": [
    "text_dict = {\"apple\": 2, \"banana\": 3, \"pear\": 2, \"plum\": 1}\n",
    "\n",
    "fewest_vowels_count = float('inf')\n",
    "fewest_vowels_word = ''\n",
    "\n",
    "for key, value in text_dict.items():\n",
    "    if value < fewest_vowels_count:\n",
    "        fewest_vowels_count = value\n",
    "        fewest_vowels_word = key\n",
    "\n",
    "print(f' {fewest_vowels_word}, {fewest_vowels_count}')"
   ]
  },
  {
   "cell_type": "code",
   "execution_count": 93,
   "id": "2979c5ca",
   "metadata": {},
   "outputs": [
    {
     "name": "stdout",
     "output_type": "stream",
     "text": [
      "fantastic, 6.\n"
     ]
    }
   ],
   "source": [
    "text_dict = {\"python\": 5, \"is\": 1, \"fantastic\": 6, \"fun\": 2}\n",
    "\n",
    "high_const_word = ''\n",
    "high_const_count = 0\n",
    "\n",
    "for key, value in text_dict.items():\n",
    "    if value > high_const_count:\n",
    "        high_const_count = value\n",
    "        high_const_word = key\n",
    "\n",
    "print(f'{high_const_word}, {high_const_count}.')"
   ]
  },
  {
   "cell_type": "code",
   "execution_count": 99,
   "id": "50e94b74",
   "metadata": {},
   "outputs": [
    {
     "name": "stdout",
     "output_type": "stream",
     "text": [
      "11s, 2\n"
     ]
    }
   ],
   "source": [
    "text = input('Enter a sent:')\n",
    "text_dict = {}\n",
    "\n",
    "for word in text.split():\n",
    "    count = 0\n",
    "    for char in word:\n",
    "        if char.isdigit():   # ✅ this is the check you want\n",
    "            count += 1\n",
    "    text_dict[word] = count\n",
    "\n",
    "highest_count = 0\n",
    "most_dig_word = ''\n",
    "\n",
    "for key, value in text_dict.items():\n",
    "    if value > highest_count:\n",
    "        highest_count = value\n",
    "        most_dig_word = key\n",
    "\n",
    "print(f'{most_dig_word}, {highest_count}')"
   ]
  },
  {
   "cell_type": "code",
   "execution_count": 103,
   "id": "a6be2b64",
   "metadata": {},
   "outputs": [
    {
     "name": "stdout",
     "output_type": "stream",
     "text": [
      "teeeeest, 5\n"
     ]
    }
   ],
   "source": [
    "text = input('Enter a sent')\n",
    "text_dict = {}\n",
    "\n",
    "for word in text.split():\n",
    "    count = 0\n",
    "    for char in word:\n",
    "        if char.lower() in 'aeiou':\n",
    "            count += 1\n",
    "    text_dict[word] = count\n",
    "\n",
    "most_vowels_word = ''\n",
    "most_vowles_count = 0\n",
    "\n",
    "for key, value in text_dict.items():\n",
    "    if value > most_vowles_count:\n",
    "        most_vowles_count = value\n",
    "        most_vowels_word = key\n",
    "\n",
    "print(f'{most_vowels_word}, {most_vowles_count}')"
   ]
  },
  {
   "cell_type": "code",
   "execution_count": 104,
   "id": "233e5755",
   "metadata": {},
   "outputs": [
    {
     "name": "stdout",
     "output_type": "stream",
     "text": [
      "this, 1\n"
     ]
    }
   ],
   "source": [
    "text = input('Enter a sent')\n",
    "text_dict = {}\n",
    "\n",
    "for word in text.split():\n",
    "    count = 0\n",
    "    for char in word:\n",
    "        if char.lower() in 'aeiou':\n",
    "            count += 1\n",
    "    text_dict[word] = count\n",
    "\n",
    "most_vowels_word = ''\n",
    "most_vowles_count = float('inf')\n",
    "\n",
    "for key, value in text_dict.items():\n",
    "    if value < most_vowles_count:\n",
    "        most_vowles_count = value\n",
    "        most_vowels_word = key\n",
    "\n",
    "print(f'{most_vowels_word}, {most_vowles_count}')"
   ]
  },
  {
   "cell_type": "code",
   "execution_count": null,
   "id": "1ee66ee4",
   "metadata": {},
   "outputs": [
    {
     "name": "stdout",
     "output_type": "stream",
     "text": [
      "testing, 5\n"
     ]
    }
   ],
   "source": [
    "text = input('Enter a sent:')\n",
    "text_dict = {}\n",
    "\n",
    "for word in text.split():\n",
    "    count = 0\n",
    "    for char in word:\n",
    "        if char.isalpha() and char.lower() not in 'aeiou':\n",
    "            count += 1\n",
    "    text_dict[word] = count\n",
    "# print(text_dict)\n",
    "most_const_word = ''\n",
    "const_count_high = 0\n",
    "\n",
    "for key, value in text_dict.items():\n",
    "    if value > const_count_high:\n",
    "        const_count_high = value\n",
    "        most_const_word = key\n",
    "\n",
    "print(f'{most_const_word}, {const_count_high}')"
   ]
  },
  {
   "cell_type": "code",
   "execution_count": 115,
   "id": "7f75687f",
   "metadata": {},
   "outputs": [
    {
     "name": "stdout",
     "output_type": "stream",
     "text": [
      "{'this': False, 'is': True, 'a': True, 'test': False}\n"
     ]
    }
   ],
   "source": [
    "text = input('Enter a sent').lower().strip()\n",
    "text_dict = {}\n",
    "for word in text.split():\n",
    "    if word[0].lower() in 'aeiou':\n",
    "        text_dict[word] = True\n",
    "    else:\n",
    "        text_dict[word] = False\n",
    "print(text_dict)"
   ]
  },
  {
   "cell_type": "code",
   "execution_count": null,
   "id": "bd18bb36",
   "metadata": {},
   "outputs": [
    {
     "name": "stdout",
     "output_type": "stream",
     "text": [
      "{'this': True, 'is': True, 'a': False, 'test': True}\n"
     ]
    }
   ],
   "source": [
    "text = input('Enter a sent').strip()\n",
    "text_dict = {}\n",
    "for word in text.split():\n",
    "    if word[-1].isalpha() and word[-1].lower() not in 'aeiou':\n",
    "        text_dict[word] = True\n",
    "    else:\n",
    "        text_dict[word] = False\n",
    "print(text_dict)"
   ]
  },
  {
   "cell_type": "code",
   "execution_count": null,
   "id": "e0ef95b1",
   "metadata": {},
   "outputs": [
    {
     "name": "stdout",
     "output_type": "stream",
     "text": [
      "{'THIS': False, 'is': False, 'A': False, 'test': False}\n"
     ]
    }
   ],
   "source": [
    "text = input('Enter a sent')\n",
    "text_dict = {}\n",
    "for word in text.split():\n",
    "    text_dict[word] = word.isupper()\n",
    "\n",
    "print(text_dict)\n"
   ]
  },
  {
   "cell_type": "code",
   "execution_count": null,
   "id": "143f7c38",
   "metadata": {},
   "outputs": [],
   "source": [
    "def all_alpha(text):\n",
    "    for word in text.split():\n",
    "        if not word.isalpha():\n",
    "            return False\n",
    "    return True\n"
   ]
  },
  {
   "cell_type": "code",
   "execution_count": null,
   "id": "562bc1ba",
   "metadata": {},
   "outputs": [
    {
     "name": "stdout",
     "output_type": "stream",
     "text": [
      " The shorest word without vowels a is 0\n"
     ]
    }
   ],
   "source": [
    "text = input('Enter a sentence: ')\n",
    "text_dict = {}\n",
    "\n",
    "for word in text.split():\n",
    "    count = 0\n",
    "    for char in word.lower():\n",
    "        if char.isalpha() and char in 'aeiou':  # count vowels\n",
    "            count += 1\n",
    "    text_dict[word] = count\n",
    "\n",
    "# find min vowel count\n",
    "shortest_word_count = min(text_dict.values(), default=0)\n",
    "shortest_words = [w for w, c in text_dict.items() if c == shortest_word_count]\n",
    "\n",
    "print(f'Words with the fewest vowels ({shortest_word_count}): {shortest_words}')\n"
   ]
  },
  {
   "cell_type": "code",
   "execution_count": null,
   "id": "d69055dd",
   "metadata": {},
   "outputs": [
    {
     "name": "stdout",
     "output_type": "stream",
     "text": [
      "[]\n"
     ]
    }
   ],
   "source": [
    "text = input(\"Enter a sentence: \")\n",
    "pal_text_list = []\n",
    "\n",
    "for word in text.split():\n",
    "    cleaned = \"\"\n",
    "    for ch in word:\n",
    "        if ch.isalpha():\n",
    "            cleaned += ch.lower()\n",
    "    if cleaned and cleaned == cleaned[::-1]:\n",
    "        pal_text_list.append(cleaned)  # append cleaned version\n",
    "\n",
    "print(pal_text_list)\n"
   ]
  },
  {
   "cell_type": "code",
   "execution_count": null,
   "id": "304a54c1",
   "metadata": {},
   "outputs": [
    {
     "data": {
      "text/plain": [
       "False"
      ]
     },
     "execution_count": 136,
     "metadata": {},
     "output_type": "execute_result"
    }
   ],
   "source": [
    "def sentence_contains_digit(sentence):\n",
    "    for word in sentence.split():\n",
    "        for char in word:\n",
    "            if char.isdigit():    # check for digit\n",
    "                return True\n",
    "    return False\n"
   ]
  },
  {
   "cell_type": "code",
   "execution_count": 152,
   "id": "4d43ee00",
   "metadata": {},
   "outputs": [
    {
     "data": {
      "text/plain": [
       "True"
      ]
     },
     "execution_count": 152,
     "metadata": {},
     "output_type": "execute_result"
    }
   ],
   "source": [
    "def starts_with_vowel(word):\n",
    "    for char in word:\n",
    "        if char.isalpha():\n",
    "            return char.lower() in 'aeiou'\n",
    "    return False\n",
    "\n",
    "starts_with_vowel('123Apple')"
   ]
  },
  {
   "cell_type": "code",
   "execution_count": null,
   "id": "59fcd51b",
   "metadata": {},
   "outputs": [
    {
     "data": {
      "text/plain": [
       "'test'"
      ]
     },
     "execution_count": 162,
     "metadata": {},
     "output_type": "execute_result"
    }
   ],
   "source": [
    "def least_consonants(sentence):\n",
    "    # 1) build counts\n",
    "    counts = {}\n",
    "    for word in sentence.split():\n",
    "        c = 0\n",
    "        for ch in word.lower():\n",
    "            if ch.isalpha() and ch not in 'aeiou':\n",
    "                c += 1\n",
    "        counts[word] = c\n",
    "\n",
    "    if not counts:           # guard for empty input\n",
    "        return [], {}\n",
    "\n",
    "    # 2) find minimum consonant count\n",
    "    min_cnt = float('inf')\n",
    "    for v in counts.values():\n",
    "        if v < min_cnt:\n",
    "            min_cnt = v\n",
    "\n",
    "    # 3) collect all words that match min_cnt (ties)\n",
    "    winners = []\n",
    "    for w, v in counts.items():\n",
    "        if v == min_cnt:\n",
    "            winners.append(w)\n",
    "\n",
    "    return winners, counts\n"
   ]
  },
  {
   "cell_type": "code",
   "execution_count": 1,
   "id": "1e2a85fd",
   "metadata": {},
   "outputs": [
    {
     "data": {
      "text/plain": [
       "(['a'], {'This': 3, 'is': 1, 'a': 0, 'test': 3})"
      ]
     },
     "execution_count": 1,
     "metadata": {},
     "output_type": "execute_result"
    }
   ],
   "source": [
    "def least_consonants(sentence):\n",
    "    # 1) build counts\n",
    "    counts = {}\n",
    "    for word in sentence.split():\n",
    "        c = 0\n",
    "        for ch in word.lower():\n",
    "            if ch.isalpha() and ch not in 'aeiou':\n",
    "                c += 1\n",
    "        counts[word] = c\n",
    "\n",
    "    if not counts:\n",
    "        return [], {}\n",
    "    \n",
    "    min_count = float('inf')\n",
    "    for v in counts.values():\n",
    "        if v < min_count:\n",
    "            min_count = v\n",
    "\n",
    "    winners = []\n",
    "    for w, v in counts.items():\n",
    "        if v == min_count:\n",
    "            winners.append(w)\n",
    "\n",
    "    return winners, counts\n",
    "    \n",
    "least_consonants('This is a test')"
   ]
  },
  {
   "cell_type": "code",
   "execution_count": null,
   "id": "d8ee0a6f",
   "metadata": {},
   "outputs": [
    {
     "data": {
      "text/plain": [
       "True"
      ]
     },
     "execution_count": 2,
     "metadata": {},
     "output_type": "execute_result"
    }
   ],
   "source": [
    "def is_normalizied_palindrome(sentence):\n",
    "    cleaned_sent = ''\n",
    "    for char in sentence:\n",
    "        if char.isalnum():\n",
    "            cleaned_sent += char.lower()\n",
    "    return cleaned_sent == cleaned_sent[::-1]\n",
    "\n",
    "is_normalizied_palindrome('racecar')"
   ]
  },
  {
   "cell_type": "code",
   "execution_count": null,
   "id": "25b94065",
   "metadata": {},
   "outputs": [
    {
     "data": {
      "text/plain": [
       "True"
      ]
     },
     "execution_count": 5,
     "metadata": {},
     "output_type": "execute_result"
    }
   ],
   "source": [
    "def ends_with_vowel(word):\n",
    "    vowels = 'aeiou'\n",
    "    i = len(word) - 1\n",
    "    while i >= 0:\n",
    "        if ch.isalpha():\n",
    "            return ch.lower() in vowels\n",
    "        i -= 1\n",
    "    return False"
   ]
  },
  {
   "cell_type": "code",
   "execution_count": null,
   "id": "c5673dff",
   "metadata": {},
   "outputs": [
    {
     "data": {
      "text/plain": [
       "{'This': 3, 'is': 1, 'a': 0, 'test': 3}"
      ]
     },
     "execution_count": 8,
     "metadata": {},
     "output_type": "execute_result"
    }
   ],
   "source": [
    "def most_consonants(sentence):\n",
    "    vowels = 'aeiou'\n",
    "    sent_dict = {}\n",
    "    for word in sentence.split():\n",
    "        count = 0\n",
    "        for char in word.lower():\n",
    "            if char.isalpha() and char not in vowels:\n",
    "                count += 1\n",
    "        sent_dict[word] = count\n",
    "    return sent_dict\n",
    "\n",
    "most_consonants('This is a test')"
   ]
  },
  {
   "cell_type": "code",
   "execution_count": 19,
   "id": "867fa2e2",
   "metadata": {},
   "outputs": [
    {
     "data": {
      "text/plain": [
       "False"
      ]
     },
     "execution_count": 19,
     "metadata": {},
     "output_type": "execute_result"
    }
   ],
   "source": [
    "def ends_with_upper(word):\n",
    "    i = len(word) - 1\n",
    "    while i >= 0:\n",
    "        char = word[i]\n",
    "        if char.isalpha():\n",
    "            return char.isupper()\n",
    "        i -= 1\n",
    "    return False\n",
    "ends_with_upper('This is a test')"
   ]
  },
  {
   "cell_type": "code",
   "execution_count": 20,
   "id": "909fc8a8",
   "metadata": {},
   "outputs": [
    {
     "data": {
      "text/plain": [
       "'t'"
      ]
     },
     "execution_count": 20,
     "metadata": {},
     "output_type": "execute_result"
    }
   ],
   "source": [
    "def find_last_char(word):\n",
    "    return word[-1]\n",
    "\n",
    "find_last_char('test')"
   ]
  },
  {
   "cell_type": "code",
   "execution_count": 30,
   "id": "163e8a80",
   "metadata": {},
   "outputs": [],
   "source": [
    "def find_last_alpha_char(word):\n",
    "    pos = len(word) - 1\n",
    "    while pos >= 0:\n",
    "        char = word[pos]\n",
    "        if char.isalpha():\n",
    "            return char\n",
    "        pos -= 1\n",
    "    return None\n",
    "find_last_alpha_char('12345')"
   ]
  },
  {
   "cell_type": "code",
   "execution_count": null,
   "id": "358ddd8e",
   "metadata": {},
   "outputs": [],
   "source": [
    "def find_last_alpha_char(word):\n",
    "    pos = len(word) - 1\n",
    "    while pos >= 0:\n",
    "        char = word[pos]\n",
    "        if char.isalpha() and char.isupper():\n",
    "            return char\n",
    "        pos -= 1\n",
    "find_last_alpha_char('This is testinG')"
   ]
  },
  {
   "cell_type": "code",
   "execution_count": 35,
   "id": "5faadcd9",
   "metadata": {},
   "outputs": [
    {
     "data": {
      "text/plain": [
       "False"
      ]
     },
     "execution_count": 35,
     "metadata": {},
     "output_type": "execute_result"
    }
   ],
   "source": [
    "def check_last_char_lower(word):\n",
    "    idx = len(word) - 1\n",
    "    while idx >= 0:\n",
    "        char = word[idx]\n",
    "        if char.isalpha():\n",
    "            if char.islower():\n",
    "                return True\n",
    "            else:\n",
    "                return False\n",
    "        idx -= 1\n",
    "    return False\n",
    "\n",
    "check_last_char_lower('123')"
   ]
  },
  {
   "cell_type": "code",
   "execution_count": 40,
   "id": "5205a2cc",
   "metadata": {},
   "outputs": [
    {
     "data": {
      "text/plain": [
       "('H', True)"
      ]
     },
     "execution_count": 40,
     "metadata": {},
     "output_type": "execute_result"
    }
   ],
   "source": [
    "def ends_with_upper(word):\n",
    "    idx = len(word) - 1\n",
    "    while idx >= 0:\n",
    "        char = word[idx]\n",
    "        if char.isalpha():\n",
    "            if char.isupper():\n",
    "                return char, True\n",
    "            else:\n",
    "                return False\n",
    "        idx -= 1\n",
    "    return False\n",
    "ends_with_upper('This is a H1234')"
   ]
  },
  {
   "cell_type": "code",
   "execution_count": 46,
   "id": "97d156df",
   "metadata": {},
   "outputs": [
    {
     "data": {
      "text/plain": [
       "(['11s'], {'Th1s': 1, '11s': 2, '@': 0, 't3$t!': 1})"
      ]
     },
     "execution_count": 46,
     "metadata": {},
     "output_type": "execute_result"
    }
   ],
   "source": [
    "def digit_count(sentence):\n",
    "    sent_dict = {}\n",
    "    for word in sentence.split():\n",
    "        count = 0\n",
    "        for char in word:\n",
    "            if char.isdigit():\n",
    "                count += 1\n",
    "        sent_dict[word] = count\n",
    "    #return sent_dict\n",
    "    #set case edge for if not True(sent_dict = empty)\n",
    "# If sent_dict is empty → bool(sent_dict) is False → not False = True\n",
    "# So we hit this edge case and return early\n",
    "    if not sent_dict:\n",
    "        return [], {}\n",
    "\n",
    "    max_digits = -1\n",
    "    for v in sent_dict.values():\n",
    "        if v > max_digits:\n",
    "            max_digits = v\n",
    "\n",
    "    winner = []\n",
    "    for w, v in sent_dict.items():\n",
    "        if v == max_digits:\n",
    "            winner.append(w)\n",
    "\n",
    "    return winner, sent_dict\n",
    "digit_count('Th1s 11s @ t3$t!')\n"
   ]
  },
  {
   "cell_type": "code",
   "execution_count": null,
   "id": "460af435",
   "metadata": {},
   "outputs": [],
   "source": [
    "# 🔑 Truthy vs Falsy in Python\n",
    "# Falsy values (evaluate to False)\n",
    "\n",
    "# False (the Boolean constant)\n",
    "\n",
    "# None\n",
    "\n",
    "# 0, 0.0, 0j (all numeric zero values)\n",
    "\n",
    "# \"\" (empty string)\n",
    "\n",
    "# [] (empty list)\n",
    "\n",
    "# () (empty tuple)\n",
    "\n",
    "# {} (empty dict)\n",
    "\n",
    "# set() (empty set)\n",
    "\n",
    "# range(0) (empty range)\n",
    "\n",
    "# 👉 Anything “empty” or “zero-like” is False.\n",
    "\n",
    "# Truthy values (evaluate to True)\n",
    "\n",
    "# True (the Boolean constant)\n",
    "\n",
    "# Any non-zero number (1, -5, 3.14, etc.)\n",
    "\n",
    "# Any non-empty string (\"a\", \"hello\", \" \")\n",
    "\n",
    "# Any non-empty list ([1], [0], [\"\"])\n",
    "\n",
    "# Any non-empty dict ({\"a\": 1})\n",
    "\n",
    "# Any non-empty tuple, set, range\n",
    "\n",
    "# 👉 Anything with “content” or “non-zero” is True.\n"
   ]
  },
  {
   "cell_type": "code",
   "execution_count": 49,
   "id": "a22ac3c7",
   "metadata": {},
   "outputs": [
    {
     "data": {
      "text/plain": [
       "True"
      ]
     },
     "execution_count": 49,
     "metadata": {},
     "output_type": "execute_result"
    }
   ],
   "source": [
    "def is_alnum_word(word):\n",
    "    return word.isalnum()\n",
    "is_alnum_word('test')"
   ]
  },
  {
   "cell_type": "code",
   "execution_count": null,
   "id": "083acc8b",
   "metadata": {},
   "outputs": [
    {
     "data": {
      "text/plain": [
       "'test'"
      ]
     },
     "execution_count": 52,
     "metadata": {},
     "output_type": "execute_result"
    }
   ],
   "source": [
    "def get_username(email):\n",
    "    split_email = email.split('@')\n",
    "    return split_email[0]\n",
    "\n",
    "get_username('test@ex')\n",
    "\n",
    "# using find\n",
    "def get_username(email):\n",
    "    at_index = email.find('@')\n",
    "    return email[:at_index]\n"
   ]
  },
  {
   "cell_type": "code",
   "execution_count": 61,
   "id": "2107e2bf",
   "metadata": {},
   "outputs": [
    {
     "data": {
      "text/plain": [
       "(['Th!s', 't3st!'], {'Th!s': 3, 'is': 2, '@': 0, 't3st!': 3})"
      ]
     },
     "execution_count": 61,
     "metadata": {},
     "output_type": "execute_result"
    }
   ],
   "source": [
    "def longest_word(sentence):\n",
    "    sent_dict = {}\n",
    "\n",
    "    for word in sentence.split():\n",
    "        cleaned_word = ''\n",
    "        for char in word:\n",
    "            if char.isalpha():\n",
    "                cleaned_word += char\n",
    "        sent_dict[word] = len(cleaned_word)\n",
    "    #return sent_dict\n",
    "\n",
    "    if not sent_dict:\n",
    "        return [], {}\n",
    "\n",
    "    longest_word_count = -1\n",
    "    for v in sent_dict.values():\n",
    "        if v > longest_word_count:\n",
    "            longest_word_count = v\n",
    "\n",
    "    winners = []\n",
    "    for k, v in sent_dict.items():\n",
    "        if v == longest_word_count:\n",
    "            winners.append(k)\n",
    "    return winners, sent_dict\n",
    "\n",
    "longest_word('Th!s is @ t3st!')"
   ]
  },
  {
   "cell_type": "code",
   "execution_count": null,
   "id": "d37c0d92",
   "metadata": {},
   "outputs": [
    {
     "data": {
      "text/plain": [
       "''"
      ]
     },
     "execution_count": 70,
     "metadata": {},
     "output_type": "execute_result"
    }
   ],
   "source": [
    "def get_domain(email):\n",
    "    if '@' in email:\n",
    "        split_email = email.split('@')\n",
    "        return split_email[1]\n",
    "    else:\n",
    "        return ''\n",
    "    \n",
    "get_domain('test')\n",
    "\n"
   ]
  },
  {
   "cell_type": "code",
   "execution_count": null,
   "id": "9547d275",
   "metadata": {},
   "outputs": [
    {
     "data": {
      "text/plain": [
       "'@123'"
      ]
     },
     "execution_count": 73,
     "metadata": {},
     "output_type": "execute_result"
    }
   ],
   "source": [
    "def get_domain(email):\n",
    "    if '@' in email:\n",
    "        split_email = email.find('@')\n",
    "        return email[split_email + 1:]\n",
    "    else:\n",
    "        return ''\n",
    "get_domain('test@123')"
   ]
  },
  {
   "cell_type": "code",
   "execution_count": null,
   "id": "46a4f3f6",
   "metadata": {},
   "outputs": [],
   "source": []
  }
 ],
 "metadata": {
  "kernelspec": {
   "display_name": "Python 3",
   "language": "python",
   "name": "python3"
  },
  "language_info": {
   "codemirror_mode": {
    "name": "ipython",
    "version": 3
   },
   "file_extension": ".py",
   "mimetype": "text/x-python",
   "name": "python",
   "nbconvert_exporter": "python",
   "pygments_lexer": "ipython3",
   "version": "3.12.7"
  }
 },
 "nbformat": 4,
 "nbformat_minor": 5
}
