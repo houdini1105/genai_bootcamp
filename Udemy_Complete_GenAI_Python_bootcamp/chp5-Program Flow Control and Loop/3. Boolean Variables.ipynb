{
 "cells": [
  {
   "cell_type": "code",
   "execution_count": 3,
   "id": "01a39e4c",
   "metadata": {},
   "outputs": [
    {
     "name": "stdout",
     "output_type": "stream",
     "text": [
      "Great Job! 1 for todays workout.\n",
      "Please enter username\n",
      "Welcome back john\n"
     ]
    }
   ],
   "source": [
    "# Chp5 Ep3. Boolean Variables\n",
    "# Boolean Variables and logical operations\n",
    "# Statement Vs Expressions\n",
    "# Statements perform actions and control the flow or structure of the program. They dont directly produce a value. Example: x = 5\n",
    "# Expressions always evaluate to a value. They can appear inside statements. Example: len('hello')\n",
    "# Statements perform actions while expressions compute values.\n",
    "# A boolean variable is an object of the bool class which is an int subclass\n",
    "# Boolean constants: 1)True 0)False\n",
    "# Booleans represent truth values and True/False can be converted to intergers True = 1,False = 0\n",
    "cardio_completed = True\n",
    "strength_completed = False\n",
    "bonus_points = cardio_completed + strength_completed\n",
    "# Performing arithmetic operations with boolean values\n",
    "# By using the boolean values as integers, shows how many sessions completed.\n",
    "if bonus_points > 0:\n",
    "    print(f'Great Job! {bonus_points} for todays workout.') # This will print a numeric value\n",
    "else:\n",
    "    print('NO bonus points today.')\n",
    "\n",
    "# Python allows you to evaluate any variable for truthiness without explicit comparison\n",
    "# This will allow for simplied conditional checks\n",
    "\n",
    "username = ''\n",
    "if username: # username is evaluated without any explicit test\n",
    "# By default, 0 values such as 0, 0.0 or empty structures evaluate to False 0\n",
    "    print(f'Welcome back {username}')\n",
    "else:\n",
    "    print('Please enter username')\n",
    "# IF you enter a user name, this will evaluate to True 1\n",
    "username = 'john'\n",
    "if username: # username is evaluated without any explicit test\n",
    "# By default, 0 values such as 0, 0.0 or empty structures evaluate to False 0\n",
    "    print(f'Welcome back {username}')\n",
    "else:\n",
    "    print('Please enter username')\n",
    "# IF you enter a user name, this will evaluate to True 1"
   ]
  },
  {
   "cell_type": "code",
   "execution_count": null,
   "id": "fe0b73f5",
   "metadata": {},
   "outputs": [],
   "source": []
  }
 ],
 "metadata": {
  "kernelspec": {
   "display_name": "Python 3",
   "language": "python",
   "name": "python3"
  },
  "language_info": {
   "codemirror_mode": {
    "name": "ipython",
    "version": 3
   },
   "file_extension": ".py",
   "mimetype": "text/x-python",
   "name": "python",
   "nbconvert_exporter": "python",
   "pygments_lexer": "ipython3",
   "version": "3.12.7"
  }
 },
 "nbformat": 4,
 "nbformat_minor": 5
}
