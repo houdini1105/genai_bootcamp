{
 "cells": [
  {
   "cell_type": "code",
   "execution_count": null,
   "id": "0612e9a0",
   "metadata": {},
   "outputs": [],
   "source": [
    "# Chp7 Ep2. Working With Absolute and Relative File Paths\n",
    "f = open('settings.txt')\n",
    "# FileNotFoundError: [Errno 2] No such file or directory: 'settings.txt'\n",
    "# This is a path problem. This is a relative path and expects to find the file in the current directory\n",
    "# Created a settings.txt file in the current directory\n",
    "# The 2 types of path names, absolute and relative path names\n",
    "# An Absolute path is defined by specifying the location of a file or directory from root directory\n",
    "#f1 = open(\"C:\\Users\\denni\\Documents\\genai_bootcamp\\genai_python_bootcamp\\Udemy_Complete_GenAI_Python_bootcamp\\chp7_Working with Files and Data\\settings.txt\")\n",
    "# This will create a SyntaxError because of \\, which is a special character\n",
    "# One method to correct this, use double \\\\\n",
    "f1 = open(\"C:\\\\Users\\\\denni\\\\Documents\\\\genai_bootcamp\\\\genai_python_bootcamp\\\\Udemy_Complete_GenAI_Python_bootcamp\\\\chp7_Working with Files and Data\\\\settings.txt\")\n",
    "# Second method to correct this, use a python raw string by using a r or R before the path. THis will treat the \\ as literal characters.\n",
    "f1 = open(r\"C:\\Users\\denni\\Documents\\genai_bootcamp\\genai_python_bootcamp\\Udemy_Complete_GenAI_Python_bootcamp\\chp7_Working with Files and Data\\settings.txt\")\n",
    "# The above line is a raw string\n",
    "# Most Windows and APIs also accept /\n",
    "# A Relative path is defined as the path related to the current working directory. It begins at the current directory\n",
    "# It will never start with / or C:\\\n",
    "# . A single dot represents the directory you are in (Current Working Directory)\n",
    "# .. Double dot represents the parent directory\n",
    "open('settings.txt') # This is a relative path"
   ]
  },
  {
   "cell_type": "code",
   "execution_count": null,
   "id": "49189daf",
   "metadata": {},
   "outputs": [],
   "source": []
  }
 ],
 "metadata": {
  "kernelspec": {
   "display_name": "Python 3",
   "language": "python",
   "name": "python3"
  },
  "language_info": {
   "codemirror_mode": {
    "name": "ipython",
    "version": 3
   },
   "file_extension": ".py",
   "mimetype": "text/x-python",
   "name": "python",
   "nbconvert_exporter": "python",
   "pygments_lexer": "ipython3",
   "version": "3.12.7"
  }
 },
 "nbformat": 4,
 "nbformat_minor": 5
}
