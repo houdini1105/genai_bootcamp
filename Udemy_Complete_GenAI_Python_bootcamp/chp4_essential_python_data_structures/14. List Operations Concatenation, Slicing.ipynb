{
 "cells": [
  {
   "cell_type": "code",
   "execution_count": null,
   "id": "ceca0947",
   "metadata": {},
   "outputs": [
    {
     "name": "stdout",
     "output_type": "stream",
     "text": [
      "[3, 4] 2200615320384\n",
      "[3, 4, 5, 6] 2200615116032\n",
      "[3, 4, 5, 6, 7, 8] 2200615116032\n",
      "[3, 4, 5, 6, 7, 8, 11, 12] 2200615116032\n",
      "[3, 4, 5, 6, 7, 8, 11, 12, ['a', 'b'], 'x', 'y']\n",
      "string: [2, 3, 4]\n",
      "string: [1, 2, 3, 4, 5]\n",
      "[1, 2, 3]\n",
      "[3, 4, 5]\n",
      "[2]\n",
      "[5, 4, 3, 2, 1]\n"
     ]
    }
   ],
   "source": [
    "# Chp4 Ep14. List Operations Concatenation, Slicing\n",
    "# List Operations: concatenation, slicing, iteration\n",
    "# List concatenation is combining two list into one\n",
    "l1 = [3,4]\n",
    "print(l1, id(l1)) # id shows the memory location of list\n",
    "\n",
    "l1 = l1 + [5,6] # concatenating a list using +\n",
    "print(l1, id(l1)) # id is different from org id indicating a new list\n",
    "\n",
    "# To add items to the same list and not create a new one use += \n",
    "l1 += [7,8]\n",
    "print(l1, id(l1)) # id is the same confirming it is the same list\n",
    "# Using the extend method which appends multiple elements from an interable\n",
    "l1.extend([11, 12])\n",
    "print(l1, id(l1))\n",
    "\n",
    "# A interable in python is an object of capable of returning its elements,\n",
    "# one at a time llowing it to be used in loops or converted into other data \n",
    "# structures like list\n",
    "# Be cautious when using append and extend\n",
    "# append adds a single item\n",
    "# extend adds all elements from an interbale\n",
    "# Append\n",
    "l1.append(['a', 'b']) # this adds as a single item to list (nested list)\n",
    "l1.extend(['x', 'y']) # adds each character seperate\n",
    "print(l1)\n",
    "# Notice the difference between append and extend\n",
    "\n",
    "# List slicing\n",
    "numbers = [1, 2, 3, 4, 5]\n",
    "nums = numbers[1:4] # slicing to get 3 characters, last num is excluded\n",
    "print(f'string: {nums}')\n",
    "print(f'string: {numbers}') # THe org list remians unchanged\n",
    "\n",
    "print(numbers[:3])\n",
    "print(numbers[2:])\n",
    "print(numbers[1:3:2]) # Remember the first inex is included and lat is excluded when slicing\n",
    "print(numbers[::-1]) # THis will print the list in reverse\n",
    "# Python slicing is very forgiving even if indexs are out of bounds it will not show an error"
   ]
  },
  {
   "cell_type": "code",
   "execution_count": null,
   "id": "64289f6a",
   "metadata": {},
   "outputs": [],
   "source": []
  }
 ],
 "metadata": {
  "kernelspec": {
   "display_name": "Python 3",
   "language": "python",
   "name": "python3"
  },
  "language_info": {
   "codemirror_mode": {
    "name": "ipython",
    "version": 3
   },
   "file_extension": ".py",
   "mimetype": "text/x-python",
   "name": "python",
   "nbconvert_exporter": "python",
   "pygments_lexer": "ipython3",
   "version": "3.12.7"
  }
 },
 "nbformat": 4,
 "nbformat_minor": 5
}
