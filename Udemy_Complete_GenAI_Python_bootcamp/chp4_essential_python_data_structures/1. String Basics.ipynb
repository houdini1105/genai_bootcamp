{
 "cells": [
  {
   "cell_type": "code",
   "execution_count": 1,
   "id": "1178c02a",
   "metadata": {},
   "outputs": [
    {
     "name": "stdout",
     "output_type": "stream",
     "text": [
      "This AI model predicts stock trrends based on historical data.\n",
      "AI will change industries.\n",
      "AI says, 'I'm here to assist you.'\n",
      "AI says, 'I'm here to assist you.'\n",
      "This is a multi-line string.\n",
      "I'm a AI bot to help.\n",
      "Feel free to ask me anything!\n",
      "AI says:\n",
      "\t- I'm here to assist you.\n",
      "\t- How can I help today?\n",
      "This is a backslash: \\\n",
      "This is a very long string that can be split across multiple lines for better readability in the code editor. Python allows this without any issues.\n"
     ]
    }
   ],
   "source": [
    "# Chp4 Ep1. String Basics\n",
    "# A string is a sequence of characters enclosed in quotes.\n",
    "# Strings can be defined using single quotes, double quotes, or triple quotes for multi-line strings\n",
    "model_summary = 'This AI model predicts stock trrends based on historical data.' # Single quotes\n",
    "prediction_model = \"AI will change industries.\"  # Double quotes\n",
    "# A string that needs to use a single quote inside can be enclosed in double quotes, and vice versa.\n",
    "quote_example = \"AI says, 'I'm here to assist you.'\"  # Double quotes with single quote inside \n",
    "# A string can also use \\ to escape characters, allowing you to include quotes within the string.\n",
    "escaped_quote = 'AI says, \\'I\\'m here to assist you.\\''  # Single quotes with escaped single quotes inside\n",
    "# A multi-line string can be created using triple quotes, allowing for line breaks and special characters.\n",
    "multi_line_string = \"\"\"This is a multi-line string.\n",
    "I'm a AI bot to help.\n",
    "Feel free to ask me anything!\"\"\"  # Triple quotes for multi-line string\n",
    "# \\ is a special character in Python strings, used for escaping characters.\n",
    "# Strings can use \\n for new lines and \\t for tabs within the string.\n",
    "formatted_string = \"AI says:\\n\\t- I'm here to assist you.\\n\\t- How can I help today?\"  # New lines and tabs in a string\n",
    "# If you want to include a backslash in a string, you need to escape it with another backslash.\n",
    "backslash_example = \"This is a backslash: \\\\\"  # Backslash in a string\n",
    "# Strings that are long can be split into multiple lines using parentheses.\n",
    "long_string = (\"This is a very long string that can be split across multiple lines \"\n",
    "               \"for better readability in the code editor. \"\n",
    "               \"Python allows this without any issues.\")  # Long string split across lines\n",
    "print(model_summary)  # Print the single-quoted string\n",
    "print(prediction_model)  # Print the double-quoted string\n",
    "print(quote_example)  # Print the string with a single quote inside\n",
    "print(escaped_quote)  # Print the escaped single quotes string\n",
    "print(multi_line_string)  # Print the multi-line string\n",
    "print(formatted_string)  # Print the formatted string with new lines and tabs\n",
    "print(backslash_example)  # Print the string with a backslash\n",
    "print(long_string)  # Print the long string split across multiple lines"
   ]
  },
  {
   "cell_type": "code",
   "execution_count": null,
   "id": "820dbd56",
   "metadata": {},
   "outputs": [],
   "source": []
  }
 ],
 "metadata": {
  "kernelspec": {
   "display_name": "Python 3",
   "language": "python",
   "name": "python3"
  },
  "language_info": {
   "codemirror_mode": {
    "name": "ipython",
    "version": 3
   },
   "file_extension": ".py",
   "mimetype": "text/x-python",
   "name": "python",
   "nbconvert_exporter": "python",
   "pygments_lexer": "ipython3",
   "version": "3.12.7"
  }
 },
 "nbformat": 4,
 "nbformat_minor": 5
}
