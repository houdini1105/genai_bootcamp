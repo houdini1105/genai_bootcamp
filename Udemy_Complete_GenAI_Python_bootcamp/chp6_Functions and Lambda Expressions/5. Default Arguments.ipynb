{
 "cells": [
  {
   "cell_type": "code",
   "execution_count": null,
   "id": "500b3f52",
   "metadata": {},
   "outputs": [],
   "source": [
    "# Chp6 Ep5. Default Arguments\n",
    "# Functions in python\n",
    "# Function arguments (there are 5 main types)\n",
    "# 1) Positional arguments\n",
    "# 2) Keyword arguments\n",
    "# 3) Default arguments\n",
    "# 4) *args\n",
    "# 5) **kwargs\n",
    "\n",
    "# Positional arguments, order matters\n",
    "def display_weather(temp, humidity): # temp and humidity are the functions parameters\n",
    "    print(f'Tempature: {temp}c, Humidity: {humidity}%')\n",
    "\n",
    "# When we call a funtion with positional arguemnts, each argument is assigned \n",
    "# to the corresponding parameter based on its position. \n",
    "\n",
    "display_weather(25, 60)\n",
    "\n",
    "# Quick tip, the terms parameters and arguments are often used interchangeable. But\n",
    "# parameters are in the functions definition (i.e., temp, humidity) and arguments are the\n",
    "# values you pass to the function (i.e., 25, 60)\n",
    "\n",
    "# Keyword arguments or named arguments\n",
    "# Keyword arguments let us specify which value correspondes to which \n",
    "# parameter by naming them so ordr doesn't matter.\n",
    "def display_weather(temp, humidity, windspeed): # temp and humidity are the functions parameters\n",
    "    print(f'Tempature: {temp}c, Humidity: {humidity}%, Windspeed: {windspeed} km/h')\n",
    "\n",
    "# Uing keyword arguments you can call this function, order is not a factor\n",
    "display_weather(humidity=70, temp=22, windspeed=15)\n",
    "# When combining keyword and positional arguments in a single quote, positional quotes\n",
    "# must come first.\n",
    "display_weather(70, windspeed=15, humidity=22)\n",
    "#display_weather(humidity=70, 15, temp=22) # Keyword error, positional must come first"
   ]
  },
  {
   "cell_type": "code",
   "execution_count": null,
   "id": "4ddaa75e",
   "metadata": {},
   "outputs": [
    {
     "name": "stdout",
     "output_type": "stream",
     "text": [
      "Adjusting lighting in Living Room to 75% brightness\n",
      "Adjusting lighting in Bedroom to 50% brightness\n"
     ]
    }
   ],
   "source": [
    "# Chp6 Ep5. Default Arguments\n",
    "# Default arguments Let you set fall back values for function parameters\n",
    "# When using default arguments, any parameters that follow a default parameter\n",
    "# must also have defaults\n",
    "def adjust_lighting(room, brightness=75): # Adding a default value using =\n",
    "    print(f'Adjusting lighting in {room} to {brightness}% brightness')\n",
    "\n",
    "#def adjust_lighting(room, brightness=75, color_temp): # This will raise an error because\n",
    "    # a default parameter follows a non-default parameter\n",
    "    #print(f'Adjusting lighting in {room} to {brightness}% brightness')\n",
    "\n",
    "adjust_lighting('Living Room')\n",
    "# However you can overwrite the default value\n",
    "adjust_lighting('Bedroom', 50)"
   ]
  },
  {
   "cell_type": "code",
   "execution_count": null,
   "id": "ec5e2267",
   "metadata": {},
   "outputs": [],
   "source": []
  }
 ],
 "metadata": {
  "kernelspec": {
   "display_name": "Python 3",
   "language": "python",
   "name": "python3"
  },
  "language_info": {
   "codemirror_mode": {
    "name": "ipython",
    "version": 3
   },
   "file_extension": ".py",
   "mimetype": "text/x-python",
   "name": "python",
   "nbconvert_exporter": "python",
   "pygments_lexer": "ipython3",
   "version": "3.12.7"
  }
 },
 "nbformat": 4,
 "nbformat_minor": 5
}
