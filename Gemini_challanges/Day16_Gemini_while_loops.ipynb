{
 "cells": [
  {
   "cell_type": "code",
   "execution_count": null,
   "id": "c72edee2",
   "metadata": {},
   "outputs": [],
   "source": [
    "# Challenge 1: The Average Calculator\n",
    "# Goal: Write a program that calculates the average of all numbers from 1 to 20.\n",
    "\n",
    "# Hint: You'll need two separate variables: one to keep a running total of \n",
    "# all the numbers, and another to count how many numbers you've added. What do you \n",
    "# do with these two variables at the end to find the average?\n",
    "total = 0\n",
    "count = 1\n",
    "while count <=20:\n",
    "    total += count\n",
    "    count += 1\n",
    "average = total / 20\n",
    "\n",
    "# Challenge 2: Find the Greatest\n",
    "# Goal: Write a program that asks the user for five numbers and then \n",
    "# prints the largest number they entered.\n",
    "\n",
    "# Hint: You'll need a variable to keep track of the current largest number \n",
    "# you have found so far. How can you compare each new number the user enters \n",
    "# to this variable to see if it's the new largest one?\n",
    "current_largest_num = 0\n",
    "counter = 5\n",
    "while counter > 0:\n",
    "    number = int(input('Enter a num:'))\n",
    "    print(number)\n",
    "    if number > current_largest_num:\n",
    "        current_largest_num = number\n",
    "    counter -= 1\n",
    "print(current_largest_num)\n",
    "\n",
    "# Challenge 3: The Factorial Finder\n",
    "# Goal: Write a program that asks the user for a small positive integer and \n",
    "# then calculates its factorial. For example, if the user enters 4, the program \n",
    "# should calculate 4!=4×3×2×1 and print the result.\n",
    "\n",
    "# Hint: You'll need a variable to store the running product of the numbers. \n",
    "# What should this variable's initial value be so that your first multiplication \n",
    "# is correct?\n",
    "product = 1\n",
    "count = 1\n",
    "small_number = int(input('Enter a num:'))\n",
    "while count <= small_number:\n",
    "    product *= count\n",
    "    count += 1\n",
    "print(product)\n",
    "\n",
    "# Challenge 4: The Sentinel Sum\n",
    "# Goal: Write a program that repeatedly asks the user to enter numbers. \n",
    "# The program should stop when the user enters the number 0. After the loop ends, \n",
    "# the program should print the sum of all the numbers the user \n",
    "# entered (excluding the 0).\n",
    "\n",
    "# Hint: You'll need a variable to keep track of the running total, and \n",
    "# another variable to hold the user's current input. What should your \n",
    "# while loop's condition check to know when to stop?\n",
    "\n",
    "total = 0\n",
    "start_num = int(input('Enter a num:'))\n",
    "while start_num != 0:\n",
    "    total += start_num\n",
    "    start_num = int(input('Enter a num:'))\n",
    "print(total)\n",
    "\n",
    "# Challenge 5: Find the Sentinel's Max\n",
    "# Goal: Write a program that repeatedly asks the user for a number. \n",
    "# The program should stop when the user enters the number -1. After the \n",
    "# loop ends, the program should print the largest number they \n",
    "# entered (excluding the -1).\n",
    "\n",
    "# Hint: This challenge combines two previous ideas. You'll need a variable to \n",
    "# track the user's input for the loop's condition and another variable to store \n",
    "# the current largest number found so far. How will you make sure the largest \n",
    "# number variable is updated correctly?\n",
    "start_num = int(input('Enter a num:, Enter -1 to end'))\n",
    "current_largest_num = start_num\n",
    "while start_num != -1:\n",
    "    if start_num > current_largest_num:\n",
    "        current_largest_num = start_num\n",
    "    start_num = int(input('Enter a num:'))\n",
    "print(current_largest_num)"
   ]
  },
  {
   "cell_type": "code",
   "execution_count": null,
   "id": "bc5808ed",
   "metadata": {},
   "outputs": [],
   "source": []
  },
  {
   "cell_type": "code",
   "execution_count": null,
   "id": "1bd3d0bd",
   "metadata": {},
   "outputs": [],
   "source": []
  },
  {
   "cell_type": "code",
   "execution_count": null,
   "id": "0cc46939",
   "metadata": {},
   "outputs": [
    {
     "name": "stdout",
     "output_type": "stream",
     "text": [
      "20\n"
     ]
    }
   ],
   "source": []
  },
  {
   "cell_type": "code",
   "execution_count": null,
   "id": "d8f89f72",
   "metadata": {},
   "outputs": [],
   "source": []
  }
 ],
 "metadata": {
  "kernelspec": {
   "display_name": "Python 3",
   "language": "python",
   "name": "python3"
  },
  "language_info": {
   "codemirror_mode": {
    "name": "ipython",
    "version": 3
   },
   "file_extension": ".py",
   "mimetype": "text/x-python",
   "name": "python",
   "nbconvert_exporter": "python",
   "pygments_lexer": "ipython3",
   "version": "3.12.7"
  }
 },
 "nbformat": 4,
 "nbformat_minor": 5
}
