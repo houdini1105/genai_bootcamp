{
 "cells": [
  {
   "cell_type": "code",
   "execution_count": null,
   "id": "df626711",
   "metadata": {},
   "outputs": [
    {
     "name": "stdout",
     "output_type": "stream",
     "text": [
      "[0, 1, 2, 3, 4, 5, 6, 7, 8, 9] [0, 2, 4, 6, 8]\n",
      "Repeat 5 times\n",
      "Repeat 5 times\n",
      "Repeat 5 times\n",
      "Repeat 5 times\n",
      "Repeat 5 times\n"
     ]
    }
   ],
   "source": [
    "# Chp5 Ep8. Ranges\n",
    "# When you need to repeat an action a specific number of times the range function will work\n",
    "# for participant_id in range(1, 101):\n",
    "#     print(f'Asssigning ID to a participant #{participant_id}')\n",
    "\n",
    "# Range function can create list over which you iterate using the range function\n",
    "numbers = list(range(0, 10)) \n",
    "number_step = list(range(0, 10, 2)) # Can use steps as well ,2\n",
    "print(numbers, number_step)\n",
    "\n",
    "# Throw away variables\n",
    "# Sometimes you dont need to use the loop variable inside the loop\n",
    "# Instead you can use a underscore as a variable\n",
    "for _ in range(5): # Using just 5 is the same as 0, 5 since it starts from 0 unless defined\n",
    "    print('Repeat 5 times')\n"
   ]
  },
  {
   "cell_type": "code",
   "execution_count": null,
   "id": "a4eda752",
   "metadata": {},
   "outputs": [],
   "source": []
  }
 ],
 "metadata": {
  "kernelspec": {
   "display_name": "Python 3",
   "language": "python",
   "name": "python3"
  },
  "language_info": {
   "codemirror_mode": {
    "name": "ipython",
    "version": 3
   },
   "file_extension": ".py",
   "mimetype": "text/x-python",
   "name": "python",
   "nbconvert_exporter": "python",
   "pygments_lexer": "ipython3",
   "version": "3.12.7"
  }
 },
 "nbformat": 4,
 "nbformat_minor": 5
}
